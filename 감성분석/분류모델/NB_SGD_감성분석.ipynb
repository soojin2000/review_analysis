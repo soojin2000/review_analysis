{
 "cells": [
  {
   "cell_type": "code",
   "execution_count": 1,
   "id": "2614ade2",
   "metadata": {},
   "outputs": [
    {
     "data": {
      "text/html": [
       "<div>\n",
       "<style scoped>\n",
       "    .dataframe tbody tr th:only-of-type {\n",
       "        vertical-align: middle;\n",
       "    }\n",
       "\n",
       "    .dataframe tbody tr th {\n",
       "        vertical-align: top;\n",
       "    }\n",
       "\n",
       "    .dataframe thead th {\n",
       "        text-align: right;\n",
       "    }\n",
       "</style>\n",
       "<table border=\"1\" class=\"dataframe\">\n",
       "  <thead>\n",
       "    <tr style=\"text-align: right;\">\n",
       "      <th></th>\n",
       "      <th>product_name</th>\n",
       "      <th>rating</th>\n",
       "      <th>skin_type</th>\n",
       "      <th>review</th>\n",
       "      <th>tokens</th>\n",
       "      <th>label</th>\n",
       "    </tr>\n",
       "  </thead>\n",
       "  <tbody>\n",
       "    <tr>\n",
       "      <th>0</th>\n",
       "      <td>[증량]닥터지 레드 블레미쉬 클리어 수딩크림 기획 (본품70ml+30ml 추가 증정)</td>\n",
       "      <td>5</td>\n",
       "      <td>복합성</td>\n",
       "      <td>제품은 정말 사용해보시라고 추천드리고싶어요진짜 좋은 제품이거든요사춘기때 여...</td>\n",
       "      <td>['제품', '은', '정말', '사용', '하', '아', '보', '시', '라...</td>\n",
       "      <td>1</td>\n",
       "    </tr>\n",
       "    <tr>\n",
       "      <th>1</th>\n",
       "      <td>[증량]닥터지 레드 블레미쉬 클리어 수딩크림 기획 (본품70ml+30ml 추가 증정)</td>\n",
       "      <td>5</td>\n",
       "      <td>복합성</td>\n",
       "      <td>간단정리            자극없이 무난함  봄여름가을에 적당한 수분감  겨...</td>\n",
       "      <td>['간단', '정리', '자극', '없이', '무난', '하', 'ㅁ', '봄여름'...</td>\n",
       "      <td>1</td>\n",
       "    </tr>\n",
       "    <tr>\n",
       "      <th>2</th>\n",
       "      <td>[증량]닥터지 레드 블레미쉬 클리어 수딩크림 기획 (본품70ml+30ml 추가 증정)</td>\n",
       "      <td>5</td>\n",
       "      <td>복합성</td>\n",
       "      <td>나의 피부상태  복합성 트러블 조금만 자극적이면 피부 뒤집어짐  장점   여드름...</td>\n",
       "      <td>['나', '의', '피부', '상태', '복합성', '트러블', '조금', '만'...</td>\n",
       "      <td>1</td>\n",
       "    </tr>\n",
       "    <tr>\n",
       "      <th>3</th>\n",
       "      <td>[증량]닥터지 레드 블레미쉬 클리어 수딩크림 기획 (본품70ml+30ml 추가 증정)</td>\n",
       "      <td>5</td>\n",
       "      <td>지성</td>\n",
       "      <td>또 샀어요     진짜 닥터지 최고입니다   건성분들이 쓰시기에는 너무 빨리 날아가...</td>\n",
       "      <td>['또', '사', '았', '어요', '진짜', '닥터', '지', '최고', '...</td>\n",
       "      <td>1</td>\n",
       "    </tr>\n",
       "    <tr>\n",
       "      <th>4</th>\n",
       "      <td>[증량]닥터지 레드 블레미쉬 클리어 수딩크림 기획 (본품70ml+30ml 추가 증정)</td>\n",
       "      <td>5</td>\n",
       "      <td>복합성</td>\n",
       "      <td>닥터지 크림은 워낙 유명하기도 하고 성분이 순하고 진정효과가 좋아서 꾸준히 구매해왔...</td>\n",
       "      <td>['닥터', '지', '크림', '은', '워낙', '유명', '하', '기', '...</td>\n",
       "      <td>1</td>\n",
       "    </tr>\n",
       "    <tr>\n",
       "      <th>...</th>\n",
       "      <td>...</td>\n",
       "      <td>...</td>\n",
       "      <td>...</td>\n",
       "      <td>...</td>\n",
       "      <td>...</td>\n",
       "      <td>...</td>\n",
       "    </tr>\n",
       "    <tr>\n",
       "      <th>92460</th>\n",
       "      <td>밀크터치 서양송악 진정크림+송악점보패드(60매)</td>\n",
       "      <td>5</td>\n",
       "      <td>None</td>\n",
       "      <td>최애 입니다이제 이것만 쓸거예요또사러 가야지 눈누난나 신난다</td>\n",
       "      <td>['최', '애', '입', '니다', '이제', '이것', '만', '쓰', 'ㄹ...</td>\n",
       "      <td>1</td>\n",
       "    </tr>\n",
       "    <tr>\n",
       "      <th>92461</th>\n",
       "      <td>밀크터치 서양송악 진정크림+송악점보패드(60매)</td>\n",
       "      <td>5</td>\n",
       "      <td>None</td>\n",
       "      <td>자극이 없고 일단은 너무 촉촉해서 좋아요 이것만 쓰게 될것같아</td>\n",
       "      <td>['자극', '이', '없', '고', '일단', '은', '너무', '촉촉', '...</td>\n",
       "      <td>1</td>\n",
       "    </tr>\n",
       "    <tr>\n",
       "      <th>92462</th>\n",
       "      <td>밀크터치 서양송악 진정크림+송악점보패드(60매)</td>\n",
       "      <td>5</td>\n",
       "      <td>None</td>\n",
       "      <td>배송도 빠르고 세일할 때 사야할거 같아서 샀어요송악크림 건성한테 정말 좋을거같아요</td>\n",
       "      <td>['배송', '도', '빠르', '고', '세일', '하', 'ㄹ', '때', '사...</td>\n",
       "      <td>1</td>\n",
       "    </tr>\n",
       "    <tr>\n",
       "      <th>92463</th>\n",
       "      <td>밀크터치 서양송악 진정크림+송악점보패드(60매)</td>\n",
       "      <td>5</td>\n",
       "      <td>None</td>\n",
       "      <td>가벼운제형이고 끈적거리지 않아서 좋았어요  그리고 진정에도 좋습니다</td>\n",
       "      <td>['가볍', 'ㄴ', '제', '형', '이', '고', '끈적거리', '지', '...</td>\n",
       "      <td>1</td>\n",
       "    </tr>\n",
       "    <tr>\n",
       "      <th>92464</th>\n",
       "      <td>밀크터치 서양송악 진정크림+송악점보패드(60매)</td>\n",
       "      <td>5</td>\n",
       "      <td>None</td>\n",
       "      <td>처음에 써보는 제품인데 의외로 괜찮아요  보습과 진정효과가 좋습니다</td>\n",
       "      <td>['처음', '에', '쓰', '어', '보', '는', '제품', '이', 'ㄴ데...</td>\n",
       "      <td>1</td>\n",
       "    </tr>\n",
       "  </tbody>\n",
       "</table>\n",
       "<p>92465 rows × 6 columns</p>\n",
       "</div>"
      ],
      "text/plain": [
       "                                           product_name  rating skin_type  \\\n",
       "0      [증량]닥터지 레드 블레미쉬 클리어 수딩크림 기획 (본품70ml+30ml 추가 증정)        5       복합성   \n",
       "1      [증량]닥터지 레드 블레미쉬 클리어 수딩크림 기획 (본품70ml+30ml 추가 증정)        5       복합성   \n",
       "2      [증량]닥터지 레드 블레미쉬 클리어 수딩크림 기획 (본품70ml+30ml 추가 증정)        5       복합성   \n",
       "3      [증량]닥터지 레드 블레미쉬 클리어 수딩크림 기획 (본품70ml+30ml 추가 증정)        5        지성   \n",
       "4      [증량]닥터지 레드 블레미쉬 클리어 수딩크림 기획 (본품70ml+30ml 추가 증정)        5       복합성   \n",
       "...                                                 ...     ...       ...   \n",
       "92460                        밀크터치 서양송악 진정크림+송악점보패드(60매)       5      None   \n",
       "92461                        밀크터치 서양송악 진정크림+송악점보패드(60매)       5      None   \n",
       "92462                        밀크터치 서양송악 진정크림+송악점보패드(60매)       5      None   \n",
       "92463                        밀크터치 서양송악 진정크림+송악점보패드(60매)       5      None   \n",
       "92464                        밀크터치 서양송악 진정크림+송악점보패드(60매)       5      None   \n",
       "\n",
       "                                                  review  \\\n",
       "0           제품은 정말 사용해보시라고 추천드리고싶어요진짜 좋은 제품이거든요사춘기때 여...   \n",
       "1         간단정리            자극없이 무난함  봄여름가을에 적당한 수분감  겨...   \n",
       "2        나의 피부상태  복합성 트러블 조금만 자극적이면 피부 뒤집어짐  장점   여드름...   \n",
       "3      또 샀어요     진짜 닥터지 최고입니다   건성분들이 쓰시기에는 너무 빨리 날아가...   \n",
       "4      닥터지 크림은 워낙 유명하기도 하고 성분이 순하고 진정효과가 좋아서 꾸준히 구매해왔...   \n",
       "...                                                  ...   \n",
       "92460                  최애 입니다이제 이것만 쓸거예요또사러 가야지 눈누난나 신난다   \n",
       "92461                자극이 없고 일단은 너무 촉촉해서 좋아요 이것만 쓰게 될것같아    \n",
       "92462      배송도 빠르고 세일할 때 사야할거 같아서 샀어요송악크림 건성한테 정말 좋을거같아요   \n",
       "92463             가벼운제형이고 끈적거리지 않아서 좋았어요  그리고 진정에도 좋습니다    \n",
       "92464              처음에 써보는 제품인데 의외로 괜찮아요  보습과 진정효과가 좋습니다   \n",
       "\n",
       "                                                  tokens  label  \n",
       "0      ['제품', '은', '정말', '사용', '하', '아', '보', '시', '라...      1  \n",
       "1      ['간단', '정리', '자극', '없이', '무난', '하', 'ㅁ', '봄여름'...      1  \n",
       "2      ['나', '의', '피부', '상태', '복합성', '트러블', '조금', '만'...      1  \n",
       "3      ['또', '사', '았', '어요', '진짜', '닥터', '지', '최고', '...      1  \n",
       "4      ['닥터', '지', '크림', '은', '워낙', '유명', '하', '기', '...      1  \n",
       "...                                                  ...    ...  \n",
       "92460  ['최', '애', '입', '니다', '이제', '이것', '만', '쓰', 'ㄹ...      1  \n",
       "92461  ['자극', '이', '없', '고', '일단', '은', '너무', '촉촉', '...      1  \n",
       "92462  ['배송', '도', '빠르', '고', '세일', '하', 'ㄹ', '때', '사...      1  \n",
       "92463  ['가볍', 'ㄴ', '제', '형', '이', '고', '끈적거리', '지', '...      1  \n",
       "92464  ['처음', '에', '쓰', '어', '보', '는', '제품', '이', 'ㄴ데...      1  \n",
       "\n",
       "[92465 rows x 6 columns]"
      ]
     },
     "execution_count": 1,
     "metadata": {},
     "output_type": "execute_result"
    }
   ],
   "source": [
    "import pandas as pd\n",
    "\n",
    "data = pd.read_csv('total_review_all_tokens.csv')\n",
    "data"
   ]
  },
  {
   "cell_type": "code",
   "execution_count": 2,
   "id": "de06e4b9",
   "metadata": {
    "scrolled": true
   },
   "outputs": [
    {
     "data": {
      "text/html": [
       "<div>\n",
       "<style scoped>\n",
       "    .dataframe tbody tr th:only-of-type {\n",
       "        vertical-align: middle;\n",
       "    }\n",
       "\n",
       "    .dataframe tbody tr th {\n",
       "        vertical-align: top;\n",
       "    }\n",
       "\n",
       "    .dataframe thead th {\n",
       "        text-align: right;\n",
       "    }\n",
       "</style>\n",
       "<table border=\"1\" class=\"dataframe\">\n",
       "  <thead>\n",
       "    <tr style=\"text-align: right;\">\n",
       "      <th></th>\n",
       "      <th>product_name</th>\n",
       "      <th>rating</th>\n",
       "      <th>skin_type</th>\n",
       "      <th>review</th>\n",
       "      <th>tokens</th>\n",
       "      <th>label</th>\n",
       "    </tr>\n",
       "  </thead>\n",
       "  <tbody>\n",
       "    <tr>\n",
       "      <th>0</th>\n",
       "      <td>[증량]닥터지 레드 블레미쉬 클리어 수딩크림 기획 (본품70ml+30ml 추가 증정)</td>\n",
       "      <td>3</td>\n",
       "      <td>None</td>\n",
       "      <td>제가 방금 올리브영에서 사와서 사용해봤는데요 닥터지 레드블레미쉬 수분크림은 목욕탕에...</td>\n",
       "      <td>['제가', '방금', '올리브', '영', '에서', '사와', '서', '사용'...</td>\n",
       "      <td>0</td>\n",
       "    </tr>\n",
       "    <tr>\n",
       "      <th>1</th>\n",
       "      <td>[증량]닥터지 레드 블레미쉬 클리어 수딩크림 기획 (본품70ml+30ml 추가 증정)</td>\n",
       "      <td>5</td>\n",
       "      <td>None</td>\n",
       "      <td>닥터지 레드 블레미쉬 클리어 수딩 수분 크림 민감 피부 촉촉하게 잠재우다 저자극 ...</td>\n",
       "      <td>['닥터', '지', '레드', '크', 'ㄹ', '리어', '수', '딩', '수...</td>\n",
       "      <td>1</td>\n",
       "    </tr>\n",
       "    <tr>\n",
       "      <th>2</th>\n",
       "      <td>[증량]닥터지 레드 블레미쉬 클리어 수딩크림 기획 (본품70ml+30ml 추가 증정)</td>\n",
       "      <td>5</td>\n",
       "      <td>None</td>\n",
       "      <td>피부 유형  저는 민감성 피부입니다  군 복무 시절 냉동식품을 조금만 먹어도 여...</td>\n",
       "      <td>['피부', '유형', '저', '는', '민감성', '피부', '이', 'ㅂ니다'...</td>\n",
       "      <td>1</td>\n",
       "    </tr>\n",
       "    <tr>\n",
       "      <th>3</th>\n",
       "      <td>[증량]닥터지 레드 블레미쉬 클리어 수딩크림 기획 (본품70ml+30ml 추가 증정)</td>\n",
       "      <td>5</td>\n",
       "      <td>None</td>\n",
       "      <td>장점 년정도 쓰면서 이제 이제품이 없으면 안될정도로 여드름 지성피부 대표적인 크림...</td>\n",
       "      <td>['장점', '년', '정도', '쓰', '면서', '이제', '이', '제품', ...</td>\n",
       "      <td>1</td>\n",
       "    </tr>\n",
       "    <tr>\n",
       "      <th>4</th>\n",
       "      <td>[증량]닥터지 레드 블레미쉬 클리어 수딩크림 기획 (본품70ml+30ml 추가 증정)</td>\n",
       "      <td>3</td>\n",
       "      <td>None</td>\n",
       "      <td>저는 여드름이 나는 민감한 피부이고 수분이 부족한 복합성 피부입니다  요즘 얼굴에 ...</td>\n",
       "      <td>['저', '는', '여드름', '이', '나', '는', '민감', '하', 'ㄴ...</td>\n",
       "      <td>0</td>\n",
       "    </tr>\n",
       "    <tr>\n",
       "      <th>...</th>\n",
       "      <td>...</td>\n",
       "      <td>...</td>\n",
       "      <td>...</td>\n",
       "      <td>...</td>\n",
       "      <td>...</td>\n",
       "      <td>...</td>\n",
       "    </tr>\n",
       "    <tr>\n",
       "      <th>58026</th>\n",
       "      <td>밀크터치 서양송악 진정크림+송악점보패드(60매)</td>\n",
       "      <td>5</td>\n",
       "      <td>None</td>\n",
       "      <td>최애 입니다이제 이것만 쓸거예요또사러 가야지 눈누난나 신난다</td>\n",
       "      <td>['최', '애', '입', '니다', '이제', '이것', '만', '쓰', 'ㄹ...</td>\n",
       "      <td>1</td>\n",
       "    </tr>\n",
       "    <tr>\n",
       "      <th>58027</th>\n",
       "      <td>밀크터치 서양송악 진정크림+송악점보패드(60매)</td>\n",
       "      <td>5</td>\n",
       "      <td>None</td>\n",
       "      <td>자극이 없고 일단은 너무 촉촉해서 좋아요 이것만 쓰게 될것같아</td>\n",
       "      <td>['자극', '이', '없', '고', '일단', '은', '너무', '촉촉', '...</td>\n",
       "      <td>1</td>\n",
       "    </tr>\n",
       "    <tr>\n",
       "      <th>58028</th>\n",
       "      <td>밀크터치 서양송악 진정크림+송악점보패드(60매)</td>\n",
       "      <td>5</td>\n",
       "      <td>None</td>\n",
       "      <td>배송도 빠르고 세일할 때 사야할거 같아서 샀어요송악크림 건성한테 정말 좋을거같아요</td>\n",
       "      <td>['배송', '도', '빠르', '고', '세일', '하', 'ㄹ', '때', '사...</td>\n",
       "      <td>1</td>\n",
       "    </tr>\n",
       "    <tr>\n",
       "      <th>58029</th>\n",
       "      <td>밀크터치 서양송악 진정크림+송악점보패드(60매)</td>\n",
       "      <td>5</td>\n",
       "      <td>None</td>\n",
       "      <td>가벼운제형이고 끈적거리지 않아서 좋았어요  그리고 진정에도 좋습니다</td>\n",
       "      <td>['가볍', 'ㄴ', '제', '형', '이', '고', '끈적거리', '지', '...</td>\n",
       "      <td>1</td>\n",
       "    </tr>\n",
       "    <tr>\n",
       "      <th>58030</th>\n",
       "      <td>밀크터치 서양송악 진정크림+송악점보패드(60매)</td>\n",
       "      <td>5</td>\n",
       "      <td>None</td>\n",
       "      <td>처음에 써보는 제품인데 의외로 괜찮아요  보습과 진정효과가 좋습니다</td>\n",
       "      <td>['처음', '에', '쓰', '어', '보', '는', '제품', '이', 'ㄴ데...</td>\n",
       "      <td>1</td>\n",
       "    </tr>\n",
       "  </tbody>\n",
       "</table>\n",
       "<p>58031 rows × 6 columns</p>\n",
       "</div>"
      ],
      "text/plain": [
       "                                           product_name  rating skin_type  \\\n",
       "0      [증량]닥터지 레드 블레미쉬 클리어 수딩크림 기획 (본품70ml+30ml 추가 증정)        3      None   \n",
       "1      [증량]닥터지 레드 블레미쉬 클리어 수딩크림 기획 (본품70ml+30ml 추가 증정)        5      None   \n",
       "2      [증량]닥터지 레드 블레미쉬 클리어 수딩크림 기획 (본품70ml+30ml 추가 증정)        5      None   \n",
       "3      [증량]닥터지 레드 블레미쉬 클리어 수딩크림 기획 (본품70ml+30ml 추가 증정)        5      None   \n",
       "4      [증량]닥터지 레드 블레미쉬 클리어 수딩크림 기획 (본품70ml+30ml 추가 증정)        3      None   \n",
       "...                                                 ...     ...       ...   \n",
       "58026                        밀크터치 서양송악 진정크림+송악점보패드(60매)       5      None   \n",
       "58027                        밀크터치 서양송악 진정크림+송악점보패드(60매)       5      None   \n",
       "58028                        밀크터치 서양송악 진정크림+송악점보패드(60매)       5      None   \n",
       "58029                        밀크터치 서양송악 진정크림+송악점보패드(60매)       5      None   \n",
       "58030                        밀크터치 서양송악 진정크림+송악점보패드(60매)       5      None   \n",
       "\n",
       "                                                  review  \\\n",
       "0      제가 방금 올리브영에서 사와서 사용해봤는데요 닥터지 레드블레미쉬 수분크림은 목욕탕에...   \n",
       "1       닥터지 레드 블레미쉬 클리어 수딩 수분 크림 민감 피부 촉촉하게 잠재우다 저자극 ...   \n",
       "2        피부 유형  저는 민감성 피부입니다  군 복무 시절 냉동식품을 조금만 먹어도 여...   \n",
       "3       장점 년정도 쓰면서 이제 이제품이 없으면 안될정도로 여드름 지성피부 대표적인 크림...   \n",
       "4      저는 여드름이 나는 민감한 피부이고 수분이 부족한 복합성 피부입니다  요즘 얼굴에 ...   \n",
       "...                                                  ...   \n",
       "58026                  최애 입니다이제 이것만 쓸거예요또사러 가야지 눈누난나 신난다   \n",
       "58027                자극이 없고 일단은 너무 촉촉해서 좋아요 이것만 쓰게 될것같아    \n",
       "58028      배송도 빠르고 세일할 때 사야할거 같아서 샀어요송악크림 건성한테 정말 좋을거같아요   \n",
       "58029             가벼운제형이고 끈적거리지 않아서 좋았어요  그리고 진정에도 좋습니다    \n",
       "58030              처음에 써보는 제품인데 의외로 괜찮아요  보습과 진정효과가 좋습니다   \n",
       "\n",
       "                                                  tokens  label  \n",
       "0      ['제가', '방금', '올리브', '영', '에서', '사와', '서', '사용'...      0  \n",
       "1      ['닥터', '지', '레드', '크', 'ㄹ', '리어', '수', '딩', '수...      1  \n",
       "2      ['피부', '유형', '저', '는', '민감성', '피부', '이', 'ㅂ니다'...      1  \n",
       "3      ['장점', '년', '정도', '쓰', '면서', '이제', '이', '제품', ...      1  \n",
       "4      ['저', '는', '여드름', '이', '나', '는', '민감', '하', 'ㄴ...      0  \n",
       "...                                                  ...    ...  \n",
       "58026  ['최', '애', '입', '니다', '이제', '이것', '만', '쓰', 'ㄹ...      1  \n",
       "58027  ['자극', '이', '없', '고', '일단', '은', '너무', '촉촉', '...      1  \n",
       "58028  ['배송', '도', '빠르', '고', '세일', '하', 'ㄹ', '때', '사...      1  \n",
       "58029  ['가볍', 'ㄴ', '제', '형', '이', '고', '끈적거리', '지', '...      1  \n",
       "58030  ['처음', '에', '쓰', '어', '보', '는', '제품', '이', 'ㄴ데...      1  \n",
       "\n",
       "[58031 rows x 6 columns]"
      ]
     },
     "execution_count": 2,
     "metadata": {},
     "output_type": "execute_result"
    }
   ],
   "source": [
    "# 별점 4점 제외, NoneType만 사용\n",
    "data = data[data['skin_type']=='None']\n",
    "data = data[data['label']!=-1] #별점값이 4였던 값들 제외\n",
    "data = data.reset_index(drop=True)\n",
    "data"
   ]
  },
  {
   "cell_type": "code",
   "execution_count": 3,
   "id": "52109db7",
   "metadata": {},
   "outputs": [
    {
     "data": {
      "text/plain": [
       "1    54089\n",
       "0     3942\n",
       "Name: label, dtype: int64"
      ]
     },
     "execution_count": 3,
     "metadata": {},
     "output_type": "execute_result"
    }
   ],
   "source": [
    "data['label'].value_counts()"
   ]
  },
  {
   "cell_type": "code",
   "execution_count": 4,
   "id": "50700b57",
   "metadata": {},
   "outputs": [],
   "source": [
    "from ast import literal_eval\n",
    "data['tokens'] = data['tokens'].apply(literal_eval)"
   ]
  },
  {
   "cell_type": "markdown",
   "id": "2234eda9",
   "metadata": {},
   "source": [
    "### Tfidf"
   ]
  },
  {
   "cell_type": "code",
   "execution_count": 5,
   "id": "592abbab",
   "metadata": {},
   "outputs": [],
   "source": [
    "from gensim import corpora, models\n",
    "\n",
    "no_below = len(data)//100\n",
    "dictionary = corpora.Dictionary(data['tokens'])\n",
    "dictionary.filter_extremes(no_below=no_below) # no_above 안해도 되나..?\n",
    "bow_corpus = [dictionary.doc2bow(text) for text in data['tokens']]\n",
    "        \n",
    "tfidf = models.TfidfModel(bow_corpus)\n",
    "corpus_tfidf = tfidf[bow_corpus]"
   ]
  },
  {
   "cell_type": "code",
   "execution_count": 7,
   "id": "e9c42f90",
   "metadata": {},
   "outputs": [
    {
     "name": "stdout",
     "output_type": "stream",
     "text": [
      "단어 개수:  692\n",
      "데이터 차원:  58031\n"
     ]
    }
   ],
   "source": [
    "print('단어 개수: ', len(dictionary))\n",
    "print('데이터 차원: ', len(corpus_tfidf))"
   ]
  },
  {
   "cell_type": "code",
   "execution_count": 8,
   "id": "a9e0a7e4",
   "metadata": {},
   "outputs": [],
   "source": [
    "feature_list = [[0]*len(dictionary) for i in range(len(corpus_tfidf))]"
   ]
  },
  {
   "cell_type": "code",
   "execution_count": 13,
   "id": "a4df3cbf",
   "metadata": {},
   "outputs": [],
   "source": [
    "for i in range(len(corpus_tfidf)):\n",
    "    for dict_idx, tfidf in corpus_tfidf[i]:\n",
    "        feature_list[i][dict_idx] = tfidf"
   ]
  },
  {
   "cell_type": "code",
   "execution_count": 14,
   "id": "120ca981",
   "metadata": {},
   "outputs": [],
   "source": [
    "y = data['label'].values.tolist()"
   ]
  },
  {
   "cell_type": "markdown",
   "id": "30827ec0",
   "metadata": {},
   "source": [
    "### undersampling"
   ]
  },
  {
   "cell_type": "code",
   "execution_count": 15,
   "id": "a5ce4864",
   "metadata": {},
   "outputs": [],
   "source": [
    "from imblearn.under_sampling import RandomUnderSampler\n",
    "from imblearn.under_sampling import NearMiss\n",
    "from sklearn.model_selection import train_test_split\n",
    "\n",
    "X_train, X_test, y_train, y_test = train_test_split(feature_list, y, test_size=0.3, random_state=123)"
   ]
  },
  {
   "cell_type": "code",
   "execution_count": 16,
   "id": "5fa8bdd2",
   "metadata": {},
   "outputs": [
    {
     "name": "stdout",
     "output_type": "stream",
     "text": [
      "Counter({1: 37897, 0: 2724})\n",
      "Counter({0: 2724, 1: 2724})\n"
     ]
    }
   ],
   "source": [
    "from collections import Counter\n",
    "\n",
    "undersample = RandomUnderSampler(sampling_strategy='majority')\n",
    "X_train_under, y_train_under = undersample.fit_resample(X_train, y_train)\n",
    "\n",
    "print(Counter(y_train))\n",
    "print(Counter(y_train_under))"
   ]
  },
  {
   "cell_type": "markdown",
   "id": "d0936535",
   "metadata": {},
   "source": [
    "## MultinomialNB"
   ]
  },
  {
   "cell_type": "markdown",
   "id": "0be4212c",
   "metadata": {},
   "source": [
    "- nb param만 gridsearch한 결과: alpha 1e-02 이하로 f1스코어 0.770에 멈춤 (작을 수록 best긴 한데 best_score의 성능 개선은 미미..)"
   ]
  },
  {
   "cell_type": "code",
   "execution_count": 64,
   "id": "f6eb6e1c",
   "metadata": {},
   "outputs": [
    {
     "name": "stdout",
     "output_type": "stream",
     "text": [
      "best_score: 0.770\n",
      "Config: {'alpha': 1e-09}\n"
     ]
    }
   ],
   "source": [
    "# gridsearch\n",
    "from sklearn.model_selection import GridSearchCV\n",
    "from sklearn.model_selection import RepeatedKFold\n",
    "from sklearn.naive_bayes import MultinomialNB\n",
    "\n",
    "model =  MultinomialNB()\n",
    "cv = RepeatedKFold(n_splits=10, n_repeats=3, random_state=1234)\n",
    "\n",
    "# define grid\n",
    "    # 모델의 복잡도를 조정하는 alpha값 작으면 작을수록 모델의 성능 향상\n",
    "#param_grid = {\"alpha\":[1e-05, 1e-04, 1e-03, 1e-02, 1]}\n",
    "param_grid = {\"alpha\":[1e-09, 1e-08, 1e-07, 1e-06]}\n",
    "# define search\n",
    "grid = GridSearchCV(model, param_grid, cv=cv, n_jobs=-1, scoring='f1')\n",
    "# perform the search\n",
    "results = grid.fit(X_train_under, y_train_under) # best_estimator을 리턴\n",
    "\n",
    "# summarize\n",
    "print('best_score: %.3f' % results.best_score_)\n",
    "print('Config: %s' % results.best_params_)"
   ]
  },
  {
   "cell_type": "code",
   "execution_count": 24,
   "id": "cd7809ea",
   "metadata": {},
   "outputs": [
    {
     "data": {
      "text/plain": [
       "['None_NB_alltoken_model.pkl']"
      ]
     },
     "execution_count": 24,
     "metadata": {},
     "output_type": "execute_result"
    }
   ],
   "source": [
    "import joblib\n",
    "joblib.dump(results.best_estimator_, 'None_NB_alltoken_model.pkl')\n",
    "#loaded_model = joblib.load('None_NB_alltoken_model.pkl')"
   ]
  },
  {
   "cell_type": "markdown",
   "id": "9db6aa32",
   "metadata": {},
   "source": [
    "### *NB parameter에 따른 test set에서의 성능 차이 있는지..?* "
   ]
  },
  {
   "cell_type": "code",
   "execution_count": 63,
   "id": "cc059350",
   "metadata": {},
   "outputs": [
    {
     "name": "stdout",
     "output_type": "stream",
     "text": [
      "-------best score: 0.770 / Config: \"alpha:1e-05\"-------\n",
      "\n",
      "<test_review>\n",
      "r2_score:  -2.558\n",
      "mse:  0.231\n",
      "accuracy:  0.769\n",
      "f1:  0.861\n",
      "\n",
      "<test_sentence>\n",
      "r2_score:  0.147\n",
      "mse:  0.213\n",
      "accuracy:  0.787\n",
      "f1:  0.791\n"
     ]
    }
   ],
   "source": [
    "y_pred = results.predict(X_test)\n",
    "print('-------best score: 0.770 / Config: \"alpha:1e-05\"-------')\n",
    "\n",
    "print('\\n<test_review>')\n",
    "print('r2_score:  %.3f' % r2_score(y_test,y_pred))\n",
    "print('mse:  %.3f' % mean_squared_error(y_test,y_pred))\n",
    "print('accuracy:  %.3f' % accuracy_score(y_test, y_pred))\n",
    "print('f1:  %.3f' % f1_score(y_test, y_pred))\n",
    "\n",
    "y_pred_sent = results.predict(feature_list_sent)\n",
    "print('\\n<test_sentence>')\n",
    "print('r2_score:  %.3f' %r2_score(y_test_sent,y_pred_sent))\n",
    "print('mse:  %.3f' % mean_squared_error(y_test_sent,y_pred_sent))\n",
    "print('accuracy:  %.3f' % accuracy_score(y_test_sent, y_pred_sent))\n",
    "print('f1:  %.3f' % f1_score(y_test_sent,y_pred_sent))"
   ]
  },
  {
   "cell_type": "code",
   "execution_count": 65,
   "id": "af82dd19",
   "metadata": {
    "scrolled": false
   },
   "outputs": [
    {
     "name": "stdout",
     "output_type": "stream",
     "text": [
      "-------best score: 0.770 / Config: \"alpha:1e-09\"-------\n",
      "\n",
      "<test_review>\n",
      "r2_score:  -2.558\n",
      "mse:  0.231\n",
      "accuracy:  0.769\n",
      "f1:  0.861\n",
      "\n",
      "<test_sentence>\n",
      "r2_score:  0.147\n",
      "mse:  0.213\n",
      "accuracy:  0.787\n",
      "f1:  0.791\n"
     ]
    }
   ],
   "source": [
    "y_pred = results.predict(X_test)\n",
    "print('-------best score: 0.770 / Config: \"alpha:1e-09\"-------')\n",
    "\n",
    "print('\\n<test_review>')\n",
    "print('r2_score:  %.3f' % r2_score(y_test,y_pred))\n",
    "print('mse:  %.3f' % mean_squared_error(y_test,y_pred))\n",
    "print('accuracy:  %.3f' % accuracy_score(y_test, y_pred))\n",
    "print('f1:  %.3f' % f1_score(y_test, y_pred))\n",
    "\n",
    "y_pred_sent = results.predict(feature_list_sent)\n",
    "print('\\n<test_sentence>')\n",
    "print('r2_score:  %.3f' %r2_score(y_test_sent,y_pred_sent))\n",
    "print('mse:  %.3f' % mean_squared_error(y_test_sent,y_pred_sent))\n",
    "print('accuracy:  %.3f' % accuracy_score(y_test_sent, y_pred_sent))\n",
    "print('f1:  %.3f' % f1_score(y_test_sent,y_pred_sent))"
   ]
  },
  {
   "cell_type": "markdown",
   "id": "e53a29ef",
   "metadata": {},
   "source": [
    "### *워드임베딩 파라미터에 따른 성능 차이는 있는지..?*"
   ]
  },
  {
   "cell_type": "code",
   "execution_count": 67,
   "id": "a81791bf",
   "metadata": {
    "scrolled": true
   },
   "outputs": [
    {
     "name": "stdout",
     "output_type": "stream",
     "text": [
      "\n",
      "<test_sentence>\n",
      "no_below:  580\n",
      "no_above:  0.4\n",
      "f1:  0.806\n",
      "\n",
      "<test_sentence>\n",
      "no_below:  290\n",
      "no_above:  0.4\n",
      "f1:  0.818\n",
      "\n",
      "<test_sentence>\n",
      "no_below:  193\n",
      "no_above:  0.4\n",
      "f1:  0.778\n",
      "\n",
      "<test_sentence>\n",
      "no_below:  580\n",
      "no_above:  0.5\n",
      "f1:  0.787\n",
      "\n",
      "<test_sentence>\n",
      "no_below:  290\n",
      "no_above:  0.5\n",
      "f1:  0.799\n",
      "\n",
      "<test_sentence>\n",
      "no_below:  193\n",
      "no_above:  0.5\n",
      "f1:  0.792\n",
      "\n",
      "<test_sentence>\n",
      "no_below:  580\n",
      "no_above:  0.6\n",
      "f1:  0.805\n",
      "\n",
      "<test_sentence>\n",
      "no_below:  290\n",
      "no_above:  0.6\n",
      "f1:  0.801\n",
      "\n",
      "<test_sentence>\n",
      "no_below:  193\n",
      "no_above:  0.6\n",
      "f1:  0.799\n"
     ]
    }
   ],
   "source": [
    "n = len(data)\n",
    "above = [0.4, 0.5, 0.6]\n",
    "below = [n//100, n//200, n//300]\n",
    "\n",
    "dictionary = corpora.Dictionary(data['tokens'])\n",
    "\n",
    "for no_above in above:\n",
    "    for no_below in below:\n",
    "        # 사전 구성\n",
    "        dictionary.filter_extremes(no_above=no_above, no_below=no_below)\n",
    "        \n",
    "        # 임베딩(리뷰 단위)\n",
    "        bow_corpus = [dictionary.doc2bow(text) for text in data['tokens']]\n",
    "        \n",
    "        tfidf = models.TfidfModel(bow_corpus)\n",
    "        corpus_tfidf = tfidf[bow_corpus]\n",
    "\n",
    "        feature_list = [[0]*len(dictionary) for i in range(len(corpus_tfidf))]\n",
    "\n",
    "        for i in range(len(corpus_tfidf)):\n",
    "            for dict_idx, tfidf in corpus_tfidf[i]:\n",
    "                feature_list[i][dict_idx] = tfidf\n",
    "        \n",
    "        # 임베딩(문장 단위)\n",
    "        bow_corpus_sent = [dictionary.doc2bow(text) for text in test_sent['sen2']]\n",
    "        \n",
    "        tfidf_sent = models.TfidfModel(bow_corpus_sent)\n",
    "        corpus_tfidf_sent = tfidf_sent[bow_corpus_sent]\n",
    "\n",
    "        feature_list_sent = [[0]*len(dictionary) for i in range(len(corpus_tfidf_sent))]\n",
    "\n",
    "        for i in range(len(corpus_tfidf_sent)):\n",
    "            for dict_idx, tfidf in corpus_tfidf_sent[i]:\n",
    "                feature_list_sent[i][dict_idx] = tfidf\n",
    "        \n",
    "        # train, test split\n",
    "        X_train, X_test, y_train, y_test = train_test_split(feature_list, y, test_size=0.3, random_state=123)\n",
    "        \n",
    "        # undersampling\n",
    "        undersample = RandomUnderSampler(sampling_strategy='majority')\n",
    "        X_train_under, y_train_under = undersample.fit_resample(X_train, y_train)\n",
    "        \n",
    "        # modeling\n",
    "        nb = MultinomialNB(alpha=1e-05)\n",
    "        nb.fit(X_train_under, y_train_under)\n",
    "        \n",
    "        # test\n",
    "        y_pred_sent = nb.predict(feature_list_sent)\n",
    "        print('\\n<test_sentence>')\n",
    "        print('no_below: ', no_below)\n",
    "        print('no_above: ', no_above)\n",
    "        print('f1:  %.3f' % f1_score(y_test_sent,y_pred_sent))"
   ]
  },
  {
   "cell_type": "code",
   "execution_count": 79,
   "id": "9bc1f581",
   "metadata": {},
   "outputs": [],
   "source": [
    "# 아예 걍 함수로 만들어..\n",
    "# input: no_above, no_below값\n",
    "# output: 리뷰 단위 tfidf행렬, 문장 단위(300개) tfidf행렬\n",
    "def embedding(dictionary, document):\n",
    "    bow_corpus = [dictionary.doc2bow(text) for text in document]\n",
    "\n",
    "    tfidf = models.TfidfModel(bow_corpus)\n",
    "    corpus_tfidf = tfidf[bow_corpus]\n",
    "\n",
    "    feature_list = [[0]*len(dictionary) for i in range(len(corpus_tfidf))]\n",
    "\n",
    "    for i in range(len(corpus_tfidf)):\n",
    "        for dict_idx, tfidf in corpus_tfidf[i]:\n",
    "            feature_list[i][dict_idx] = tfidf\n",
    "            \n",
    "    return feature_list"
   ]
  },
  {
   "cell_type": "markdown",
   "id": "a6d82b65",
   "metadata": {},
   "source": [
    "### *tfidf, nb 파라미터 전체 조정*"
   ]
  },
  {
   "cell_type": "code",
   "execution_count": 69,
   "id": "fc1475e7",
   "metadata": {
    "scrolled": true
   },
   "outputs": [
    {
     "name": "stdout",
     "output_type": "stream",
     "text": [
      "\n",
      "--------<test_sentence_in best estimator>-------\n",
      "no_below:  580\n",
      "no_above:  0.4\n",
      "f1:  0.806\n",
      "grid_best_score: 0.771\n",
      "grid_alpha: {'alpha': 1}\n",
      "\n",
      "--------<test_sentence_in best estimator>-------\n",
      "no_below:  290\n",
      "no_above:  0.4\n",
      "f1:  0.823\n",
      "grid_best_score: 0.766\n",
      "grid_alpha: {'alpha': 0.01}\n",
      "\n",
      "--------<test_sentence_in best estimator>-------\n",
      "no_below:  193\n",
      "no_above:  0.4\n",
      "f1:  0.788\n",
      "grid_best_score: 0.776\n",
      "grid_alpha: {'alpha': 1e-05}\n",
      "\n",
      "--------<test_sentence_in best estimator>-------\n",
      "no_below:  580\n",
      "no_above:  0.5\n",
      "f1:  0.814\n",
      "grid_best_score: 0.771\n",
      "grid_alpha: {'alpha': 1e-05}\n",
      "\n",
      "--------<test_sentence_in best estimator>-------\n",
      "no_below:  290\n",
      "no_above:  0.5\n",
      "f1:  0.806\n",
      "grid_best_score: 0.775\n",
      "grid_alpha: {'alpha': 0.01}\n",
      "\n",
      "--------<test_sentence_in best estimator>-------\n",
      "no_below:  193\n",
      "no_above:  0.5\n",
      "f1:  0.805\n",
      "grid_best_score: 0.772\n",
      "grid_alpha: {'alpha': 1e-05}\n",
      "\n",
      "--------<test_sentence_in best estimator>-------\n",
      "no_below:  580\n",
      "no_above:  0.6\n",
      "f1:  0.768\n",
      "grid_best_score: 0.776\n",
      "grid_alpha: {'alpha': 1e-05}\n",
      "\n",
      "--------<test_sentence_in best estimator>-------\n",
      "no_below:  290\n",
      "no_above:  0.6\n",
      "f1:  0.801\n",
      "grid_best_score: 0.768\n",
      "grid_alpha: {'alpha': 1e-05}\n",
      "\n",
      "--------<test_sentence_in best estimator>-------\n",
      "no_below:  193\n",
      "no_above:  0.6\n",
      "f1:  0.789\n",
      "grid_best_score: 0.773\n",
      "grid_alpha: {'alpha': 1}\n"
     ]
    }
   ],
   "source": [
    "# dictionary 건드니까 차이 있음\n",
    "# tfidf, multinomial nb 전체 다 해보기\n",
    "\n",
    "for no_above in above:\n",
    "    for no_below in below:\n",
    "        # dictionary\n",
    "        dictionary.filter_extremes(no_above=no_above, no_below=no_below)\n",
    "        \n",
    "        # embedding 함수\n",
    "        feature_list = embedding(dictionary, data['tokens'])\n",
    "        feature_list_sent = embedding(dictionary, test_sent['sen2'])\n",
    "        \n",
    "        # train, test split\n",
    "        X_train, X_test, y_train, y_test = train_test_split(feature_list, y, test_size=0.3, random_state=123)\n",
    "        \n",
    "        # undersampling\n",
    "        undersample = RandomUnderSampler(sampling_strategy='majority')\n",
    "        X_train_under, y_train_under = undersample.fit_resample(X_train, y_train)\n",
    "        \n",
    "        # grid search\n",
    "        model =  MultinomialNB()\n",
    "        cv = RepeatedKFold(n_splits=10, n_repeats=3, random_state=1234)\n",
    "        param_grid = {\"alpha\":[1e-05, 1e-04, 1e-03, 1e-02, 1]}\n",
    "        grid = GridSearchCV(model, param_grid, cv=cv, n_jobs=-1, scoring='f1')\n",
    "        nb = grid.fit(X_train_under, y_train_under) # best_estimator을 리턴\n",
    "\n",
    "        # test\n",
    "        y_pred_sent = nb.predict(feature_list_sent)\n",
    "        print('\\n--------<test_sentence_in best estimator>-------')\n",
    "        print('no_below: ', no_below)\n",
    "        print('no_above: ', no_above)\n",
    "        print('f1:  %.3f' % f1_score(y_test_sent,y_pred_sent))\n",
    "        print('grid_best_score: %.3f' % nb.best_score_)\n",
    "        print('grid_alpha: %s' % nb.best_params_)"
   ]
  },
  {
   "cell_type": "markdown",
   "id": "73d459f3",
   "metadata": {},
   "source": [
    "## 하이퍼 파라미터 설정 후 최종 모델 피팅 (nb)"
   ]
  },
  {
   "cell_type": "code",
   "execution_count": 92,
   "id": "dacd7261",
   "metadata": {
    "scrolled": true
   },
   "outputs": [],
   "source": [
    "# 속성 문장\n",
    "oily = pd.read_csv('oily_sentence_aspect.csv', index_col=0)\n",
    "oily.reset_index(drop=True, inplace=True)\n",
    "\n",
    "dry = pd.read_csv('dry_sentence_aspect.csv', index_col=0)\n",
    "dry.reset_index(drop=True, inplace=True)\n",
    "\n",
    "combi = pd.read_csv('combi_sentence_aspect.csv', index_col=0)\n",
    "combi.reset_index(drop=True, inplace=True)"
   ]
  },
  {
   "cell_type": "code",
   "execution_count": 94,
   "id": "2811c1de",
   "metadata": {
    "scrolled": true
   },
   "outputs": [],
   "source": [
    "oily['sentence'] = oily['sentence'].apply(literal_eval)\n",
    "oily['word_only'] = oily['sentence'].apply(word_only)\n",
    "\n",
    "dry['sentence'] = dry['sentence'].apply(literal_eval)\n",
    "dry['word_only'] = dry['sentence'].apply(word_only)\n",
    "\n",
    "combi['sentence'] = combi['sentence'].apply(literal_eval)\n",
    "combi['word_only'] = combi['sentence'].apply(word_only)"
   ]
  },
  {
   "cell_type": "code",
   "execution_count": 80,
   "id": "03efcccc",
   "metadata": {},
   "outputs": [
    {
     "data": {
      "text/plain": [
       "MultinomialNB(alpha=1e-05)"
      ]
     },
     "execution_count": 80,
     "metadata": {},
     "output_type": "execute_result"
    }
   ],
   "source": [
    "# no_below = 580\n",
    "# no_above = 0.5\n",
    "# alpha = 1e-05\n",
    "\n",
    "# param setting\n",
    "no_below = n//100 #580\n",
    "no_above = 0.5\n",
    "alpha = 1e-05\n",
    "\n",
    "# dictionary\n",
    "dictionary = corpora.Dictionary(data['tokens'])\n",
    "dictionary.filter_extremes(no_above=no_above, no_below=no_below)\n",
    "\n",
    "# embedding 함수\n",
    "feature_list = embedding(dictionary, data['tokens'])\n",
    "\n",
    "# train, test split\n",
    "X_train, X_test, y_train, y_test = train_test_split(feature_list, y, test_size=0.3, random_state=123)\n",
    "\n",
    "# undersampling\n",
    "undersample = RandomUnderSampler(sampling_strategy='majority')\n",
    "X_train_under, y_train_under = undersample.fit_resample(X_train, y_train)\n",
    "\n",
    "# model fitting\n",
    "nb = MultinomialNB(alpha=alpha)\n",
    "nb.fit(X_train_under, y_train_under)"
   ]
  },
  {
   "cell_type": "code",
   "execution_count": 91,
   "id": "144ed2ca",
   "metadata": {},
   "outputs": [
    {
     "name": "stdout",
     "output_type": "stream",
     "text": [
      "f1:  0.814\n",
      "accuracy: 0.803\n"
     ]
    },
    {
     "data": {
      "text/plain": [
       "Text(33.0, 0.5, 'Actual')"
      ]
     },
     "execution_count": 91,
     "metadata": {},
     "output_type": "execute_result"
    },
    {
     "data": {
      "image/png": "[encoded data removed]",
      "text/plain": [
       "<Figure size 432x288 with 2 Axes>"
      ]
     },
     "metadata": {
      "needs_background": "light"
     },
     "output_type": "display_data"
    }
   ],
   "source": [
    "# pred (300 labeled sentence)\n",
    "feature_list_sent = embedding(dictionary, test_sent['sen2'])\n",
    "y_pred_sent = nb.predict(feature_list_sent)\n",
    "y_test_sent = test_sent['pos_neg']\n",
    "\n",
    "print('f1:  %.3f' % f1_score(y_test_sent,y_pred_sent))\n",
    "print('accuracy: %.3f' % accuracy_score(y_test_sent, y_pred_sent))\n",
    "cm_te_sent = confusion_matrix(y_test_sent, y_pred_sent)\n",
    "sns.heatmap(cm_te_sent, annot=True, annot_kws={\"size\": 20}, cmap='YlOrBr',fmt='d')\n",
    "plt.xlabel('Predicted', fontsize=20)\n",
    "plt.ylabel('Actual', fontsize=20)"
   ]
  },
  {
   "cell_type": "code",
   "execution_count": 95,
   "id": "365f0f34",
   "metadata": {},
   "outputs": [],
   "source": [
    "# pred\n",
    "feature_list_oily = embedding(dictionary, oily['word_only'])\n",
    "y_pred_oily = nb.predict(feature_list_oily)\n",
    "\n",
    "feature_list_dry = embedding(dictionary, dry['word_only'])\n",
    "y_pred_dry = nb.predict(feature_list_dry)\n",
    "\n",
    "feature_list_combi = embedding(dictionary, combi['word_only'])\n",
    "y_pred_combi = nb.predict(feature_list_combi)"
   ]
  },
  {
   "cell_type": "code",
   "execution_count": 96,
   "id": "f1651cc6",
   "metadata": {
    "scrolled": true
   },
   "outputs": [
    {
     "data": {
      "text/html": [
       "<div>\n",
       "<style scoped>\n",
       "    .dataframe tbody tr th:only-of-type {\n",
       "        vertical-align: middle;\n",
       "    }\n",
       "\n",
       "    .dataframe tbody tr th {\n",
       "        vertical-align: top;\n",
       "    }\n",
       "\n",
       "    .dataframe thead th {\n",
       "        text-align: right;\n",
       "    }\n",
       "</style>\n",
       "<table border=\"1\" class=\"dataframe\">\n",
       "  <thead>\n",
       "    <tr style=\"text-align: right;\">\n",
       "      <th></th>\n",
       "      <th>aspect</th>\n",
       "      <th>sentence</th>\n",
       "      <th>review</th>\n",
       "      <th>rating</th>\n",
       "      <th>product_name</th>\n",
       "      <th>word_only</th>\n",
       "      <th>predict</th>\n",
       "    </tr>\n",
       "  </thead>\n",
       "  <tbody>\n",
       "    <tr>\n",
       "      <th>0</th>\n",
       "      <td>트러블 진정</td>\n",
       "      <td>[(총, MM), (평, NNB), (트러블, NNP), (피부, NNP), (나,...</td>\n",
       "      <td>닥터지 레드블레미쉬 클리어 수딩크림을 벌써 몇 통째 사용중인지 모르겠어요 피부가 민...</td>\n",
       "      <td>5</td>\n",
       "      <td>[증량]닥터지 레드 블레미쉬 클리어 수딩크림 기획 (본품70ml+30ml 추가 증정)</td>\n",
       "      <td>[총, 평, 트러블, 피부, 나, 민감, 피부, 도, 크, ㄴ, 걱정, 없이, 사용...</td>\n",
       "      <td>1</td>\n",
       "    </tr>\n",
       "    <tr>\n",
       "      <th>1</th>\n",
       "      <td>트러블 진정</td>\n",
       "      <td>[(주, VX), (는, ETM), (느낌, NNG), (이, VCP), (라, E...</td>\n",
       "      <td>닥터지 레드블레미쉬 클리어 수딩크림을 벌써 몇 통째 사용중인지 모르겠어요 피부가 민...</td>\n",
       "      <td>5</td>\n",
       "      <td>[증량]닥터지 레드 블레미쉬 클리어 수딩크림 기획 (본품70ml+30ml 추가 증정)</td>\n",
       "      <td>[주, 는, 느낌, 이, 라, 지성, 민감성, 트러블, 피부, 에게, 추천, 하, ...</td>\n",
       "      <td>1</td>\n",
       "    </tr>\n",
       "    <tr>\n",
       "      <th>2</th>\n",
       "      <td>수분/보습</td>\n",
       "      <td>[(수분, NNP), (이, JKS), (많, VA), (아서, EC)]</td>\n",
       "      <td>성분좋은 수분크림 찾다가 구매한 제품인데 정말 만족하고있습니다 수분이 많아서 촉촉하...</td>\n",
       "      <td>5</td>\n",
       "      <td>[증량]닥터지 레드 블레미쉬 클리어 수딩크림 기획 (본품70ml+30ml 추가 증정)</td>\n",
       "      <td>[수분, 이, 많, 아서]</td>\n",
       "      <td>0</td>\n",
       "    </tr>\n",
       "    <tr>\n",
       "      <th>3</th>\n",
       "      <td>트러블 진정</td>\n",
       "      <td>[(트러블, NNP), (피부, NNG), (에, JKB), (좋, VA), (은,...</td>\n",
       "      <td>성분좋은 수분크림 찾다가 구매한 제품인데 정말 만족하고있습니다 수분이 많아서 촉촉하...</td>\n",
       "      <td>5</td>\n",
       "      <td>[증량]닥터지 레드 블레미쉬 클리어 수딩크림 기획 (본품70ml+30ml 추가 증정)</td>\n",
       "      <td>[트러블, 피부, 에, 좋, 은, 것, 같, 습니다]</td>\n",
       "      <td>0</td>\n",
       "    </tr>\n",
       "    <tr>\n",
       "      <th>4</th>\n",
       "      <td>수분/보습</td>\n",
       "      <td>[(피부타입, NNP), (세, MM), (지성, NNP), (좁쌀, NNG), (...</td>\n",
       "      <td>피부타입 세 지성 좁쌀 성인 여드름 얼굴 외곽선 쪽에만 수분 부족 민감성 입니다 스...</td>\n",
       "      <td>4</td>\n",
       "      <td>[증량]닥터지 레드 블레미쉬 클리어 수딩크림 기획 (본품70ml+30ml 추가 증정)</td>\n",
       "      <td>[피부타입, 세, 지성, 좁쌀, 성인, 여드름, 얼굴, 외곽, 선, 쪽, 에, 만,...</td>\n",
       "      <td>0</td>\n",
       "    </tr>\n",
       "    <tr>\n",
       "      <th>...</th>\n",
       "      <td>...</td>\n",
       "      <td>...</td>\n",
       "      <td>...</td>\n",
       "      <td>...</td>\n",
       "      <td>...</td>\n",
       "      <td>...</td>\n",
       "      <td>...</td>\n",
       "    </tr>\n",
       "    <tr>\n",
       "      <th>2746</th>\n",
       "      <td>가성비</td>\n",
       "      <td>[(레드, NNP), (수, NNB), (딩, MAG), (크림, NNG), (쓰,...</td>\n",
       "      <td>심한 수부지로 인해서 지루성까지 와서 너무 스트레스 받앗엇는데 유분기없는 보습을 해...</td>\n",
       "      <td>5</td>\n",
       "      <td>피지오겔 레드수딩 AI 인텐시브 리피드크림 50ml</td>\n",
       "      <td>[레드, 수, 딩, 크림, 쓰, 다가, 겨울, 이, 라, 좀, 더, 보습, 이, 필...</td>\n",
       "      <td>0</td>\n",
       "    </tr>\n",
       "    <tr>\n",
       "      <th>2747</th>\n",
       "      <td>수분/보습</td>\n",
       "      <td>[(수분, NNP), (이, JKS), (모, MM), (자르, NNP), (ㄴ, ...</td>\n",
       "      <td>웰라쥬 리얼히알루로닉 제품 라인 다 샀어요 첨엔 앰플만 구매했다가 앰플너무 만족해서...</td>\n",
       "      <td>5</td>\n",
       "      <td>웰라쥬 리얼 히알루로닉 겔크림 75ml</td>\n",
       "      <td>[수분, 이, 모, 자르, ㄴ, 수분부족, 형, 지성, 에게, 정말, 딱, 좋, 은...</td>\n",
       "      <td>1</td>\n",
       "    </tr>\n",
       "    <tr>\n",
       "      <th>2748</th>\n",
       "      <td>피부개선</td>\n",
       "      <td>[(대, XPN), (초반, NNG), (이, VCP), (ㄴ, ETM), (저, ...</td>\n",
       "      <td>제 피부타입은 지복합성이예요그런데 요새 날씨가 너무 추워서 그런지금새 건조해지는 느...</td>\n",
       "      <td>5</td>\n",
       "      <td>닥터디퍼런트 131 모이스처라이저 100ml</td>\n",
       "      <td>[대, 초반, 이, ㄴ, 저, 에게, 필요, 하, ㄴ, 주름, 개선, 기능, 성, ...</td>\n",
       "      <td>1</td>\n",
       "    </tr>\n",
       "    <tr>\n",
       "      <th>2749</th>\n",
       "      <td>트러블 진정</td>\n",
       "      <td>[(패드, NNP), (는, JX), (솔직히, MAG), (앵, NNG), (간,...</td>\n",
       "      <td>수부지이지만 엄청난 지성에다가 피부도 얇고 예민해서 맞는 스킨케어 제품을 찾는게 모...</td>\n",
       "      <td>5</td>\n",
       "      <td>밀크터치 서양송악 진정크림+송악점보패드(60매)</td>\n",
       "      <td>[패드, 는, 솔직히, 앵, 간, 하, 면, 잘, 맞, 을, 것, 같, 다는, 예상...</td>\n",
       "      <td>0</td>\n",
       "    </tr>\n",
       "    <tr>\n",
       "      <th>2750</th>\n",
       "      <td>수분/보습</td>\n",
       "      <td>[(엄청나, VA), (ㄴ, ETM), (지성, NNP), (으로서, JKB), (...</td>\n",
       "      <td>리뷰를 작성하기 전 우선 밝히자면 저의 피부 타입은 엄청난 극극 매우 지성입니다 여...</td>\n",
       "      <td>5</td>\n",
       "      <td>밀크터치 서양송악 진정크림+송악점보패드(60매)</td>\n",
       "      <td>[엄청나, ㄴ, 지성, 으로서, 패드, 랑, 세럼은, 봄, 여름, 가을, 에, 도,...</td>\n",
       "      <td>0</td>\n",
       "    </tr>\n",
       "  </tbody>\n",
       "</table>\n",
       "<p>2751 rows × 7 columns</p>\n",
       "</div>"
      ],
      "text/plain": [
       "      aspect                                           sentence  \\\n",
       "0     트러블 진정  [(총, MM), (평, NNB), (트러블, NNP), (피부, NNP), (나,...   \n",
       "1     트러블 진정  [(주, VX), (는, ETM), (느낌, NNG), (이, VCP), (라, E...   \n",
       "2      수분/보습           [(수분, NNP), (이, JKS), (많, VA), (아서, EC)]   \n",
       "3     트러블 진정  [(트러블, NNP), (피부, NNG), (에, JKB), (좋, VA), (은,...   \n",
       "4      수분/보습  [(피부타입, NNP), (세, MM), (지성, NNP), (좁쌀, NNG), (...   \n",
       "...      ...                                                ...   \n",
       "2746     가성비  [(레드, NNP), (수, NNB), (딩, MAG), (크림, NNG), (쓰,...   \n",
       "2747   수분/보습  [(수분, NNP), (이, JKS), (모, MM), (자르, NNP), (ㄴ, ...   \n",
       "2748    피부개선  [(대, XPN), (초반, NNG), (이, VCP), (ㄴ, ETM), (저, ...   \n",
       "2749  트러블 진정  [(패드, NNP), (는, JX), (솔직히, MAG), (앵, NNG), (간,...   \n",
       "2750   수분/보습  [(엄청나, VA), (ㄴ, ETM), (지성, NNP), (으로서, JKB), (...   \n",
       "\n",
       "                                                 review  rating  \\\n",
       "0     닥터지 레드블레미쉬 클리어 수딩크림을 벌써 몇 통째 사용중인지 모르겠어요 피부가 민...       5   \n",
       "1     닥터지 레드블레미쉬 클리어 수딩크림을 벌써 몇 통째 사용중인지 모르겠어요 피부가 민...       5   \n",
       "2     성분좋은 수분크림 찾다가 구매한 제품인데 정말 만족하고있습니다 수분이 많아서 촉촉하...       5   \n",
       "3     성분좋은 수분크림 찾다가 구매한 제품인데 정말 만족하고있습니다 수분이 많아서 촉촉하...       5   \n",
       "4     피부타입 세 지성 좁쌀 성인 여드름 얼굴 외곽선 쪽에만 수분 부족 민감성 입니다 스...       4   \n",
       "...                                                 ...     ...   \n",
       "2746  심한 수부지로 인해서 지루성까지 와서 너무 스트레스 받앗엇는데 유분기없는 보습을 해...       5   \n",
       "2747  웰라쥬 리얼히알루로닉 제품 라인 다 샀어요 첨엔 앰플만 구매했다가 앰플너무 만족해서...       5   \n",
       "2748  제 피부타입은 지복합성이예요그런데 요새 날씨가 너무 추워서 그런지금새 건조해지는 느...       5   \n",
       "2749  수부지이지만 엄청난 지성에다가 피부도 얇고 예민해서 맞는 스킨케어 제품을 찾는게 모...       5   \n",
       "2750  리뷰를 작성하기 전 우선 밝히자면 저의 피부 타입은 엄청난 극극 매우 지성입니다 여...       5   \n",
       "\n",
       "                                          product_name  \\\n",
       "0     [증량]닥터지 레드 블레미쉬 클리어 수딩크림 기획 (본품70ml+30ml 추가 증정)    \n",
       "1     [증량]닥터지 레드 블레미쉬 클리어 수딩크림 기획 (본품70ml+30ml 추가 증정)    \n",
       "2     [증량]닥터지 레드 블레미쉬 클리어 수딩크림 기획 (본품70ml+30ml 추가 증정)    \n",
       "3     [증량]닥터지 레드 블레미쉬 클리어 수딩크림 기획 (본품70ml+30ml 추가 증정)    \n",
       "4     [증량]닥터지 레드 블레미쉬 클리어 수딩크림 기획 (본품70ml+30ml 추가 증정)    \n",
       "...                                                ...   \n",
       "2746                      피지오겔 레드수딩 AI 인텐시브 리피드크림 50ml   \n",
       "2747                             웰라쥬 리얼 히알루로닉 겔크림 75ml   \n",
       "2748                          닥터디퍼런트 131 모이스처라이저 100ml   \n",
       "2749                        밀크터치 서양송악 진정크림+송악점보패드(60매)   \n",
       "2750                        밀크터치 서양송악 진정크림+송악점보패드(60매)   \n",
       "\n",
       "                                              word_only  predict  \n",
       "0     [총, 평, 트러블, 피부, 나, 민감, 피부, 도, 크, ㄴ, 걱정, 없이, 사용...        1  \n",
       "1     [주, 는, 느낌, 이, 라, 지성, 민감성, 트러블, 피부, 에게, 추천, 하, ...        1  \n",
       "2                                        [수분, 이, 많, 아서]        0  \n",
       "3                         [트러블, 피부, 에, 좋, 은, 것, 같, 습니다]        0  \n",
       "4     [피부타입, 세, 지성, 좁쌀, 성인, 여드름, 얼굴, 외곽, 선, 쪽, 에, 만,...        0  \n",
       "...                                                 ...      ...  \n",
       "2746  [레드, 수, 딩, 크림, 쓰, 다가, 겨울, 이, 라, 좀, 더, 보습, 이, 필...        0  \n",
       "2747  [수분, 이, 모, 자르, ㄴ, 수분부족, 형, 지성, 에게, 정말, 딱, 좋, 은...        1  \n",
       "2748  [대, 초반, 이, ㄴ, 저, 에게, 필요, 하, ㄴ, 주름, 개선, 기능, 성, ...        1  \n",
       "2749  [패드, 는, 솔직히, 앵, 간, 하, 면, 잘, 맞, 을, 것, 같, 다는, 예상...        0  \n",
       "2750  [엄청나, ㄴ, 지성, 으로서, 패드, 랑, 세럼은, 봄, 여름, 가을, 에, 도,...        0  \n",
       "\n",
       "[2751 rows x 7 columns]"
      ]
     },
     "execution_count": 96,
     "metadata": {},
     "output_type": "execute_result"
    }
   ],
   "source": [
    "oily['predict'] = y_pred_oily\n",
    "dry['predict'] = y_pred_dry\n",
    "combi['predict'] = y_pred_combi\n",
    "oily"
   ]
  },
  {
   "cell_type": "code",
   "execution_count": 97,
   "id": "e132b026",
   "metadata": {},
   "outputs": [],
   "source": [
    "oily.to_csv('NB_predict_oily.csv')\n",
    "dry.to_csv('NB_predict_dry.csv')  \n",
    "combi.to_csv('NB_predict_combi.csv')"
   ]
  },
  {
   "cell_type": "markdown",
   "id": "6061264c",
   "metadata": {},
   "source": [
    "## 성능평가"
   ]
  },
  {
   "cell_type": "markdown",
   "id": "78744a5f",
   "metadata": {},
   "source": [
    "### results가 하이퍼파라미터 전체 조정하기 전 그리드서치 모델이었던듯..?"
   ]
  },
  {
   "cell_type": "code",
   "execution_count": 25,
   "id": "6fc3b9e1",
   "metadata": {},
   "outputs": [],
   "source": [
    "from sklearn.metrics import mean_squared_error, r2_score, accuracy_score, confusion_matrix, f1_score, classification_report"
   ]
  },
  {
   "cell_type": "code",
   "execution_count": 26,
   "id": "0d8c6562",
   "metadata": {},
   "outputs": [
    {
     "name": "stdout",
     "output_type": "stream",
     "text": [
      "r2_score:  -2.557591131382361\n",
      "mse:  0.231476163124641\n",
      "accuracy:  0.768523836875359\n",
      "f1:  0.860832930450998\n",
      "predict proba:  [[0.55673238 0.44326762]\n",
      " [0.4258079  0.5741921 ]\n",
      " [0.48278767 0.51721233]\n",
      " ...\n",
      " [0.37950282 0.62049718]\n",
      " [0.66688599 0.33311401]\n",
      " [0.36985881 0.63014119]]\n"
     ]
    }
   ],
   "source": [
    "y_pred = results.predict(X_test)\n",
    "y_pred_proba = results.predict_proba(X_test)\n",
    "\n",
    "print('r2_score: ',r2_score(y_test,y_pred))\n",
    "print('mse: ', mean_squared_error(y_test,y_pred))\n",
    "print('accuracy: ', accuracy_score(y_test, y_pred))\n",
    "print('f1: ', f1_score(y_test, y_pred))\n",
    "print('predict proba: ', y_pred_proba) # class 0 / 1 일 확률"
   ]
  },
  {
   "cell_type": "code",
   "execution_count": 27,
   "id": "acd51344",
   "metadata": {},
   "outputs": [
    {
     "name": "stdout",
     "output_type": "stream",
     "text": [
      "              precision    recall  f1-score   support\n",
      "\n",
      "     class 0       0.20      0.75      0.31      1218\n",
      "     class 1       0.98      0.77      0.86     16192\n",
      "\n",
      "    accuracy                           0.77     17410\n",
      "   macro avg       0.59      0.76      0.59     17410\n",
      "weighted avg       0.92      0.77      0.82     17410\n",
      "\n"
     ]
    }
   ],
   "source": [
    "target_names = ['class 0', 'class 1']\n",
    "print(classification_report(y_test, y_pred, target_names=target_names))"
   ]
  },
  {
   "cell_type": "code",
   "execution_count": 29,
   "id": "7190527c",
   "metadata": {},
   "outputs": [
    {
     "data": {
      "text/plain": [
       "Text(33.0, 0.5, 'Actual')"
      ]
     },
     "execution_count": 29,
     "metadata": {},
     "output_type": "execute_result"
    },
    {
     "data": {
      "image/png": "[encoded data removed]",
      "text/plain": [
       "<Figure size 432x288 with 2 Axes>"
      ]
     },
     "metadata": {
      "needs_background": "light"
     },
     "output_type": "display_data"
    }
   ],
   "source": [
    "import seaborn as sns\n",
    "import matplotlib.pyplot as plt\n",
    "\n",
    "y_tr_pred = results.predict(X_train_under)\n",
    "cm_tr = confusion_matrix(y_train_under, y_tr_pred)\n",
    "\n",
    "sns.heatmap(cm_tr, annot=True, annot_kws={\"size\": 20}, cmap='YlOrBr',fmt='d')\n",
    "plt.xlabel('Predicted', fontsize=20)\n",
    "plt.ylabel('Actual', fontsize=20)"
   ]
  },
  {
   "cell_type": "code",
   "execution_count": 30,
   "id": "a5b1e89e",
   "metadata": {},
   "outputs": [
    {
     "data": {
      "text/plain": [
       "Text(33.0, 0.5, 'Actual')"
      ]
     },
     "execution_count": 30,
     "metadata": {},
     "output_type": "execute_result"
    },
    {
     "data": {
      "image/png": "[encoded data removed]",
      "text/plain": [
       "<Figure size 432x288 with 2 Axes>"
      ]
     },
     "metadata": {
      "needs_background": "light"
     },
     "output_type": "display_data"
    }
   ],
   "source": [
    "cm_te = confusion_matrix(y_test, y_pred)\n",
    "\n",
    "sns.heatmap(cm_te, annot=True, annot_kws={\"size\": 20}, cmap='YlOrBr',fmt='d')\n",
    "plt.xlabel('Predicted', fontsize=20)\n",
    "plt.ylabel('Actual', fontsize=20)"
   ]
  },
  {
   "cell_type": "code",
   "execution_count": null,
   "id": "8fb7e853",
   "metadata": {},
   "outputs": [],
   "source": [
    "# 이후 이 파일 불러오면 됨\n",
    "# test_sent = pd.read_csv('senti_labeled_alltoken.csv')\n",
    "# test_sent['sen'] = test_sent['sen'].apply(literal_eval)\n",
    "# test_sent['sen2'] = test_sent['sen2'].apply(literal_eval)"
   ]
  },
  {
   "cell_type": "code",
   "execution_count": 35,
   "id": "718e308a",
   "metadata": {
    "scrolled": true
   },
   "outputs": [
    {
     "data": {
      "text/html": [
       "<div>\n",
       "<style scoped>\n",
       "    .dataframe tbody tr th:only-of-type {\n",
       "        vertical-align: middle;\n",
       "    }\n",
       "\n",
       "    .dataframe tbody tr th {\n",
       "        vertical-align: top;\n",
       "    }\n",
       "\n",
       "    .dataframe thead th {\n",
       "        text-align: right;\n",
       "    }\n",
       "</style>\n",
       "<table border=\"1\" class=\"dataframe\">\n",
       "  <thead>\n",
       "    <tr style=\"text-align: right;\">\n",
       "      <th></th>\n",
       "      <th>sen</th>\n",
       "      <th>pos_neg</th>\n",
       "      <th>sen2</th>\n",
       "      <th>senti_score</th>\n",
       "      <th>pred</th>\n",
       "    </tr>\n",
       "  </thead>\n",
       "  <tbody>\n",
       "    <tr>\n",
       "      <th>0</th>\n",
       "      <td>[('프로폴리스', 'NNP'), ('문', 'NNP'), ('나이트', 'NNP'...</td>\n",
       "      <td>1.0</td>\n",
       "      <td>['프로폴리스', '문', '나이트', '수면', '팩', '닥터', '딩', '크...</td>\n",
       "      <td>2</td>\n",
       "      <td>1</td>\n",
       "    </tr>\n",
       "    <tr>\n",
       "      <th>1</th>\n",
       "      <td>[('수분', 'NNP'), ('에', 'JKB'), ('유분', 'NNP'), (...</td>\n",
       "      <td>1.0</td>\n",
       "      <td>['수분', '유분', '느낌', '건조', '피부', '만들', '크림']</td>\n",
       "      <td>-2</td>\n",
       "      <td>0</td>\n",
       "    </tr>\n",
       "    <tr>\n",
       "      <th>2</th>\n",
       "      <td>[('좋', 'VA'), ('았', 'EP'), ('던', 'ETM'), ('점',...</td>\n",
       "      <td>1.0</td>\n",
       "      <td>['좋', '수분', '너무', '가볍', '제품', '스킨', '이후', '겹',...</td>\n",
       "      <td>1</td>\n",
       "      <td>1</td>\n",
       "    </tr>\n",
       "    <tr>\n",
       "      <th>3</th>\n",
       "      <td>[('가격', 'NNG'), ('가격', 'NNG'), ('면', 'NNG'), (...</td>\n",
       "      <td>1.0</td>\n",
       "      <td>['가격', '가격', '면', '만족']</td>\n",
       "      <td>1</td>\n",
       "      <td>1</td>\n",
       "    </tr>\n",
       "    <tr>\n",
       "      <th>4</th>\n",
       "      <td>[('세일', 'NNP'), ('도', 'JX'), ('자주', 'MAG'), ('...</td>\n",
       "      <td>1.0</td>\n",
       "      <td>['세일', '', '', '증정', '하', '좋']</td>\n",
       "      <td>4</td>\n",
       "      <td>1</td>\n",
       "    </tr>\n",
       "    <tr>\n",
       "      <th>...</th>\n",
       "      <td>...</td>\n",
       "      <td>...</td>\n",
       "      <td>...</td>\n",
       "      <td>...</td>\n",
       "      <td>...</td>\n",
       "    </tr>\n",
       "    <tr>\n",
       "      <th>295</th>\n",
       "      <td>[('다만', 'MAJ'), ('도포', 'NNP'), ('후', 'NNG'), (...</td>\n",
       "      <td>0.0</td>\n",
       "      <td>['도포', '후', '시간', '서서히', '지나', '얼굴', '좀', '건조'...</td>\n",
       "      <td>-4</td>\n",
       "      <td>0</td>\n",
       "    </tr>\n",
       "    <tr>\n",
       "      <th>296</th>\n",
       "      <td>[('처음', 'NNG'), ('에', 'JKB'), ('샘플', 'NNG'), (...</td>\n",
       "      <td>0.0</td>\n",
       "      <td>['처음', '샘플', '쓰', '좋아서', '사', '트러블', '나', '같',...</td>\n",
       "      <td>-1</td>\n",
       "      <td>0</td>\n",
       "    </tr>\n",
       "    <tr>\n",
       "      <th>297</th>\n",
       "      <td>[('한', 'MM'), ('번', 'NNB'), ('바르', 'VV'), ('아서...</td>\n",
       "      <td>0.0</td>\n",
       "      <td>['바르', '속건조', '채우']</td>\n",
       "      <td>2</td>\n",
       "      <td>1</td>\n",
       "    </tr>\n",
       "    <tr>\n",
       "      <th>298</th>\n",
       "      <td>[('속', 'NNG'), ('이', 'JKS'), ('너무', 'MAG'), ('...</td>\n",
       "      <td>0.0</td>\n",
       "      <td>['속', '너무', '건조']</td>\n",
       "      <td>-2</td>\n",
       "      <td>0</td>\n",
       "    </tr>\n",
       "    <tr>\n",
       "      <th>299</th>\n",
       "      <td>[('재', 'XPN'), ('구매', 'NNG'), ('의사', 'NNG'), (...</td>\n",
       "      <td>0.0</td>\n",
       "      <td>['구매', '의사']</td>\n",
       "      <td>0</td>\n",
       "      <td>0</td>\n",
       "    </tr>\n",
       "  </tbody>\n",
       "</table>\n",
       "<p>300 rows × 5 columns</p>\n",
       "</div>"
      ],
      "text/plain": [
       "                                                   sen  pos_neg  \\\n",
       "0    [('프로폴리스', 'NNP'), ('문', 'NNP'), ('나이트', 'NNP'...      1.0   \n",
       "1    [('수분', 'NNP'), ('에', 'JKB'), ('유분', 'NNP'), (...      1.0   \n",
       "2    [('좋', 'VA'), ('았', 'EP'), ('던', 'ETM'), ('점',...      1.0   \n",
       "3    [('가격', 'NNG'), ('가격', 'NNG'), ('면', 'NNG'), (...      1.0   \n",
       "4    [('세일', 'NNP'), ('도', 'JX'), ('자주', 'MAG'), ('...      1.0   \n",
       "..                                                 ...      ...   \n",
       "295  [('다만', 'MAJ'), ('도포', 'NNP'), ('후', 'NNG'), (...      0.0   \n",
       "296  [('처음', 'NNG'), ('에', 'JKB'), ('샘플', 'NNG'), (...      0.0   \n",
       "297  [('한', 'MM'), ('번', 'NNB'), ('바르', 'VV'), ('아서...      0.0   \n",
       "298  [('속', 'NNG'), ('이', 'JKS'), ('너무', 'MAG'), ('...      0.0   \n",
       "299  [('재', 'XPN'), ('구매', 'NNG'), ('의사', 'NNG'), (...      0.0   \n",
       "\n",
       "                                                  sen2  senti_score  pred  \n",
       "0    ['프로폴리스', '문', '나이트', '수면', '팩', '닥터', '딩', '크...            2     1  \n",
       "1           ['수분', '유분', '느낌', '건조', '피부', '만들', '크림']           -2     0  \n",
       "2    ['좋', '수분', '너무', '가볍', '제품', '스킨', '이후', '겹',...            1     1  \n",
       "3                              ['가격', '가격', '면', '만족']            1     1  \n",
       "4                       ['세일', '', '', '증정', '하', '좋']            4     1  \n",
       "..                                                 ...          ...   ...  \n",
       "295  ['도포', '후', '시간', '서서히', '지나', '얼굴', '좀', '건조'...           -4     0  \n",
       "296  ['처음', '샘플', '쓰', '좋아서', '사', '트러블', '나', '같',...           -1     0  \n",
       "297                                ['바르', '속건조', '채우']            2     1  \n",
       "298                                  ['속', '너무', '건조']           -2     0  \n",
       "299                                       ['구매', '의사']            0     0  \n",
       "\n",
       "[300 rows x 5 columns]"
      ]
     },
     "execution_count": 35,
     "metadata": {},
     "output_type": "execute_result"
    }
   ],
   "source": [
    "# 문장 단위 labeling 한 것도 test\n",
    "\n",
    "test_sent = pd.read_csv('senti_labeled_df.csv')\n",
    "test_sent"
   ]
  },
  {
   "cell_type": "code",
   "execution_count": 37,
   "id": "0e3249b8",
   "metadata": {},
   "outputs": [],
   "source": [
    "test_sent['sen'] = test_sent['sen'].apply(literal_eval)"
   ]
  },
  {
   "cell_type": "code",
   "execution_count": 41,
   "id": "23c141fd",
   "metadata": {},
   "outputs": [],
   "source": [
    "def word_only(text):\n",
    "    res=[]\n",
    "    for word, tag in text:\n",
    "        res.append(word)\n",
    "    return res"
   ]
  },
  {
   "cell_type": "code",
   "execution_count": 42,
   "id": "c3732bf1",
   "metadata": {
    "scrolled": true
   },
   "outputs": [],
   "source": [
    "test_sent['sen2'] = test_sent['sen'].apply(word_only)"
   ]
  },
  {
   "cell_type": "code",
   "execution_count": 44,
   "id": "537996ea",
   "metadata": {},
   "outputs": [],
   "source": [
    "test_sent.drop(['senti_score', 'pred'], axis=1, inplace=True)\n",
    "test_sent.to_csv('senti_labeled_alltoken.csv')"
   ]
  },
  {
   "cell_type": "code",
   "execution_count": 45,
   "id": "c8a48d94",
   "metadata": {
    "scrolled": true
   },
   "outputs": [
    {
     "data": {
      "text/html": [
       "<div>\n",
       "<style scoped>\n",
       "    .dataframe tbody tr th:only-of-type {\n",
       "        vertical-align: middle;\n",
       "    }\n",
       "\n",
       "    .dataframe tbody tr th {\n",
       "        vertical-align: top;\n",
       "    }\n",
       "\n",
       "    .dataframe thead th {\n",
       "        text-align: right;\n",
       "    }\n",
       "</style>\n",
       "<table border=\"1\" class=\"dataframe\">\n",
       "  <thead>\n",
       "    <tr style=\"text-align: right;\">\n",
       "      <th></th>\n",
       "      <th>sen</th>\n",
       "      <th>pos_neg</th>\n",
       "      <th>sen2</th>\n",
       "    </tr>\n",
       "  </thead>\n",
       "  <tbody>\n",
       "    <tr>\n",
       "      <th>0</th>\n",
       "      <td>[(프로폴리스, NNP), (문, NNP), (나이트, NNP), (수면, NNP)...</td>\n",
       "      <td>1.0</td>\n",
       "      <td>[프로폴리스, 문, 나이트, 수면, 팩, 닥터, 지, 수, 딩, 크림, 과, 수면,...</td>\n",
       "    </tr>\n",
       "    <tr>\n",
       "      <th>1</th>\n",
       "      <td>[(수분, NNP), (에, JKB), (유분, NNP), (느낌, NNG), (그...</td>\n",
       "      <td>1.0</td>\n",
       "      <td>[수분, 에, 유분, 느낌, 그래서, 건조, 하, 지, 않, 고, 피부, 를, 쫀쫀...</td>\n",
       "    </tr>\n",
       "    <tr>\n",
       "      <th>2</th>\n",
       "      <td>[(좋, VA), (았, EP), (던, ETM), (점, NNB), (수분, NN...</td>\n",
       "      <td>1.0</td>\n",
       "      <td>[좋, 았, 던, 점, 수분, 도, 너무, 가볍, 지, 않, 은, 제품, 이, 라,...</td>\n",
       "    </tr>\n",
       "    <tr>\n",
       "      <th>3</th>\n",
       "      <td>[(가격, NNG), (가격, NNG), (면, NNG), (에서, JKB), (도...</td>\n",
       "      <td>1.0</td>\n",
       "      <td>[가격, 가격, 면, 에서, 도, 만족, 스럽, 어요]</td>\n",
       "    </tr>\n",
       "    <tr>\n",
       "      <th>4</th>\n",
       "      <td>[(세일, NNP), (도, JX), (자주, MAG), (하, VV), (고, E...</td>\n",
       "      <td>1.0</td>\n",
       "      <td>[세일, 도, 자주, 하, 고, 증정, 도, 하, 아서, 좋, 아요]</td>\n",
       "    </tr>\n",
       "    <tr>\n",
       "      <th>...</th>\n",
       "      <td>...</td>\n",
       "      <td>...</td>\n",
       "      <td>...</td>\n",
       "    </tr>\n",
       "    <tr>\n",
       "      <th>295</th>\n",
       "      <td>[(다만, MAJ), (도포, NNP), (후, NNG), (시간, NNG), (이...</td>\n",
       "      <td>0.0</td>\n",
       "      <td>[다만, 도포, 후, 시간, 이, 서서히, 지나, 면, 얼굴, 이, 좀, 건조, 하...</td>\n",
       "    </tr>\n",
       "    <tr>\n",
       "      <th>296</th>\n",
       "      <td>[(처음, NNG), (에, JKB), (샘플, NNG), (로, JKB), (쓰,...</td>\n",
       "      <td>0.0</td>\n",
       "      <td>[처음, 에, 샘플, 로, 쓰, 다가, 좋아서, 사, 았, 는데, 트러블, 나, 는...</td>\n",
       "    </tr>\n",
       "    <tr>\n",
       "      <th>297</th>\n",
       "      <td>[(한, MM), (번, NNB), (바르, VV), (아서, EC), (는, JX...</td>\n",
       "      <td>0.0</td>\n",
       "      <td>[한, 번, 바르, 아서, 는, 속건조, 를, 채우, 어, 주, 지, 못하, 네요]</td>\n",
       "    </tr>\n",
       "    <tr>\n",
       "      <th>298</th>\n",
       "      <td>[(속, NNG), (이, JKS), (너무, MAG), (건조, NNG), (하,...</td>\n",
       "      <td>0.0</td>\n",
       "      <td>[속, 이, 너무, 건조, 하, 네요]</td>\n",
       "    </tr>\n",
       "    <tr>\n",
       "      <th>299</th>\n",
       "      <td>[(재, XPN), (구매, NNG), (의사, NNG), (는, JX), (모르겟...</td>\n",
       "      <td>0.0</td>\n",
       "      <td>[재, 구매, 의사, 는, 모르겟어요]</td>\n",
       "    </tr>\n",
       "  </tbody>\n",
       "</table>\n",
       "<p>300 rows × 3 columns</p>\n",
       "</div>"
      ],
      "text/plain": [
       "                                                   sen  pos_neg  \\\n",
       "0    [(프로폴리스, NNP), (문, NNP), (나이트, NNP), (수면, NNP)...      1.0   \n",
       "1    [(수분, NNP), (에, JKB), (유분, NNP), (느낌, NNG), (그...      1.0   \n",
       "2    [(좋, VA), (았, EP), (던, ETM), (점, NNB), (수분, NN...      1.0   \n",
       "3    [(가격, NNG), (가격, NNG), (면, NNG), (에서, JKB), (도...      1.0   \n",
       "4    [(세일, NNP), (도, JX), (자주, MAG), (하, VV), (고, E...      1.0   \n",
       "..                                                 ...      ...   \n",
       "295  [(다만, MAJ), (도포, NNP), (후, NNG), (시간, NNG), (이...      0.0   \n",
       "296  [(처음, NNG), (에, JKB), (샘플, NNG), (로, JKB), (쓰,...      0.0   \n",
       "297  [(한, MM), (번, NNB), (바르, VV), (아서, EC), (는, JX...      0.0   \n",
       "298  [(속, NNG), (이, JKS), (너무, MAG), (건조, NNG), (하,...      0.0   \n",
       "299  [(재, XPN), (구매, NNG), (의사, NNG), (는, JX), (모르겟...      0.0   \n",
       "\n",
       "                                                  sen2  \n",
       "0    [프로폴리스, 문, 나이트, 수면, 팩, 닥터, 지, 수, 딩, 크림, 과, 수면,...  \n",
       "1    [수분, 에, 유분, 느낌, 그래서, 건조, 하, 지, 않, 고, 피부, 를, 쫀쫀...  \n",
       "2    [좋, 았, 던, 점, 수분, 도, 너무, 가볍, 지, 않, 은, 제품, 이, 라,...  \n",
       "3                       [가격, 가격, 면, 에서, 도, 만족, 스럽, 어요]  \n",
       "4               [세일, 도, 자주, 하, 고, 증정, 도, 하, 아서, 좋, 아요]  \n",
       "..                                                 ...  \n",
       "295  [다만, 도포, 후, 시간, 이, 서서히, 지나, 면, 얼굴, 이, 좀, 건조, 하...  \n",
       "296  [처음, 에, 샘플, 로, 쓰, 다가, 좋아서, 사, 았, 는데, 트러블, 나, 는...  \n",
       "297     [한, 번, 바르, 아서, 는, 속건조, 를, 채우, 어, 주, 지, 못하, 네요]  \n",
       "298                              [속, 이, 너무, 건조, 하, 네요]  \n",
       "299                              [재, 구매, 의사, 는, 모르겟어요]  \n",
       "\n",
       "[300 rows x 3 columns]"
      ]
     },
     "execution_count": 45,
     "metadata": {},
     "output_type": "execute_result"
    }
   ],
   "source": [
    "test_sent"
   ]
  },
  {
   "cell_type": "code",
   "execution_count": 46,
   "id": "73236e78",
   "metadata": {},
   "outputs": [],
   "source": [
    "y_test_sent = test_sent['pos_neg']\n",
    "\n",
    "# 아 근데 dict 만들 때 nonetype으로만 만들어서 combi 데이터로 해도 될랑가..\n",
    "bow_corpus_sent = [dictionary.doc2bow(text) for text in test_sent['sen2']]\n",
    "        \n",
    "tfidf_sent = models.TfidfModel(bow_corpus_sent)\n",
    "corpus_tfidf_sent = tfidf_sent[bow_corpus_sent]\n",
    "\n",
    "# X_test_sent값\n",
    "feature_list_sent = [[0]*len(dictionary) for i in range(len(corpus_tfidf_sent))]\n",
    "\n",
    "for i in range(len(corpus_tfidf_sent)):\n",
    "    for dict_idx, tfidf in corpus_tfidf_sent[i]:\n",
    "        feature_list_sent[i][dict_idx] = tfidf"
   ]
  },
  {
   "cell_type": "code",
   "execution_count": 47,
   "id": "5ec55237",
   "metadata": {},
   "outputs": [
    {
     "data": {
      "text/plain": [
       "Text(33.0, 0.5, 'Actual')"
      ]
     },
     "execution_count": 47,
     "metadata": {},
     "output_type": "execute_result"
    },
    {
     "data": {
      "image/png": "[encoded data removed]",
      "text/plain": [
       "<Figure size 432x288 with 2 Axes>"
      ]
     },
     "metadata": {
      "needs_background": "light"
     },
     "output_type": "display_data"
    }
   ],
   "source": [
    "y_pred_sent = results.predict(feature_list_sent)\n",
    "\n",
    "cm_te_sent = confusion_matrix(y_test_sent, y_pred_sent)\n",
    "\n",
    "sns.heatmap(cm_te_sent, annot=True, annot_kws={\"size\": 20}, cmap='YlOrBr',fmt='d')\n",
    "plt.xlabel('Predicted', fontsize=20)\n",
    "plt.ylabel('Actual', fontsize=20)"
   ]
  },
  {
   "cell_type": "code",
   "execution_count": 48,
   "id": "4117ad07",
   "metadata": {
    "scrolled": true
   },
   "outputs": [
    {
     "name": "stdout",
     "output_type": "stream",
     "text": [
      "accuracy:  0.7866666666666666\n",
      "f1:  0.7908496732026143\n"
     ]
    }
   ],
   "source": [
    "print('accuracy: ', accuracy_score(y_test_sent, y_pred_sent))\n",
    "print('f1: ', f1_score(y_test_sent, y_pred_sent))"
   ]
  },
  {
   "cell_type": "markdown",
   "id": "111a0969",
   "metadata": {},
   "source": [
    "### SGD classifier"
   ]
  },
  {
   "cell_type": "code",
   "execution_count": 49,
   "id": "1eaeb7a4",
   "metadata": {},
   "outputs": [],
   "source": [
    "from sklearn.linear_model import SGDClassifier"
   ]
  },
  {
   "cell_type": "code",
   "execution_count": 53,
   "id": "8caf2bf1",
   "metadata": {},
   "outputs": [
    {
     "name": "stderr",
     "output_type": "stream",
     "text": [
      "/opt/anaconda3/lib/python3.9/site-packages/sklearn/linear_model/_stochastic_gradient.py:696: ConvergenceWarning: Maximum number of iteration reached before convergence. Consider increasing max_iter to improve the fit.\n",
      "  warnings.warn(\n",
      "/opt/anaconda3/lib/python3.9/site-packages/sklearn/linear_model/_stochastic_gradient.py:696: ConvergenceWarning: Maximum number of iteration reached before convergence. Consider increasing max_iter to improve the fit.\n",
      "  warnings.warn(\n",
      "/opt/anaconda3/lib/python3.9/site-packages/sklearn/linear_model/_stochastic_gradient.py:696: ConvergenceWarning: Maximum number of iteration reached before convergence. Consider increasing max_iter to improve the fit.\n",
      "  warnings.warn(\n",
      "/opt/anaconda3/lib/python3.9/site-packages/sklearn/linear_model/_stochastic_gradient.py:696: ConvergenceWarning: Maximum number of iteration reached before convergence. Consider increasing max_iter to improve the fit.\n",
      "  warnings.warn(\n",
      "/opt/anaconda3/lib/python3.9/site-packages/sklearn/linear_model/_stochastic_gradient.py:696: ConvergenceWarning: Maximum number of iteration reached before convergence. Consider increasing max_iter to improve the fit.\n",
      "  warnings.warn(\n",
      "/opt/anaconda3/lib/python3.9/site-packages/sklearn/linear_model/_stochastic_gradient.py:696: ConvergenceWarning: Maximum number of iteration reached before convergence. Consider increasing max_iter to improve the fit.\n",
      "  warnings.warn(\n",
      "/opt/anaconda3/lib/python3.9/site-packages/sklearn/linear_model/_stochastic_gradient.py:696: ConvergenceWarning: Maximum number of iteration reached before convergence. Consider increasing max_iter to improve the fit.\n",
      "  warnings.warn(\n",
      "/opt/anaconda3/lib/python3.9/site-packages/sklearn/linear_model/_stochastic_gradient.py:696: ConvergenceWarning: Maximum number of iteration reached before convergence. Consider increasing max_iter to improve the fit.\n",
      "  warnings.warn(\n",
      "/opt/anaconda3/lib/python3.9/site-packages/sklearn/linear_model/_stochastic_gradient.py:696: ConvergenceWarning: Maximum number of iteration reached before convergence. Consider increasing max_iter to improve the fit.\n",
      "  warnings.warn(\n",
      "/opt/anaconda3/lib/python3.9/site-packages/sklearn/linear_model/_stochastic_gradient.py:696: ConvergenceWarning: Maximum number of iteration reached before convergence. Consider increasing max_iter to improve the fit.\n",
      "  warnings.warn(\n",
      "/opt/anaconda3/lib/python3.9/site-packages/sklearn/linear_model/_stochastic_gradient.py:696: ConvergenceWarning: Maximum number of iteration reached before convergence. Consider increasing max_iter to improve the fit.\n",
      "  warnings.warn(\n",
      "/opt/anaconda3/lib/python3.9/site-packages/sklearn/linear_model/_stochastic_gradient.py:696: ConvergenceWarning: Maximum number of iteration reached before convergence. Consider increasing max_iter to improve the fit.\n",
      "  warnings.warn(\n",
      "/opt/anaconda3/lib/python3.9/site-packages/sklearn/linear_model/_stochastic_gradient.py:696: ConvergenceWarning: Maximum number of iteration reached before convergence. Consider increasing max_iter to improve the fit.\n",
      "  warnings.warn(\n",
      "/opt/anaconda3/lib/python3.9/site-packages/sklearn/linear_model/_stochastic_gradient.py:696: ConvergenceWarning: Maximum number of iteration reached before convergence. Consider increasing max_iter to improve the fit.\n",
      "  warnings.warn(\n",
      "/opt/anaconda3/lib/python3.9/site-packages/sklearn/linear_model/_stochastic_gradient.py:696: ConvergenceWarning: Maximum number of iteration reached before convergence. Consider increasing max_iter to improve the fit.\n",
      "  warnings.warn(\n",
      "/opt/anaconda3/lib/python3.9/site-packages/sklearn/linear_model/_stochastic_gradient.py:696: ConvergenceWarning: Maximum number of iteration reached before convergence. Consider increasing max_iter to improve the fit.\n",
      "  warnings.warn(\n",
      "/opt/anaconda3/lib/python3.9/site-packages/sklearn/linear_model/_stochastic_gradient.py:696: ConvergenceWarning: Maximum number of iteration reached before convergence. Consider increasing max_iter to improve the fit.\n",
      "  warnings.warn(\n",
      "/opt/anaconda3/lib/python3.9/site-packages/sklearn/linear_model/_stochastic_gradient.py:696: ConvergenceWarning: Maximum number of iteration reached before convergence. Consider increasing max_iter to improve the fit.\n",
      "  warnings.warn(\n",
      "/opt/anaconda3/lib/python3.9/site-packages/sklearn/linear_model/_stochastic_gradient.py:696: ConvergenceWarning: Maximum number of iteration reached before convergence. Consider increasing max_iter to improve the fit.\n",
      "  warnings.warn(\n",
      "/opt/anaconda3/lib/python3.9/site-packages/sklearn/linear_model/_stochastic_gradient.py:696: ConvergenceWarning: Maximum number of iteration reached before convergence. Consider increasing max_iter to improve the fit.\n",
      "  warnings.warn(\n",
      "/opt/anaconda3/lib/python3.9/site-packages/sklearn/linear_model/_stochastic_gradient.py:696: ConvergenceWarning: Maximum number of iteration reached before convergence. Consider increasing max_iter to improve the fit.\n",
      "  warnings.warn(\n",
      "/opt/anaconda3/lib/python3.9/site-packages/sklearn/linear_model/_stochastic_gradient.py:696: ConvergenceWarning: Maximum number of iteration reached before convergence. Consider increasing max_iter to improve the fit.\n",
      "  warnings.warn(\n",
      "/opt/anaconda3/lib/python3.9/site-packages/sklearn/linear_model/_stochastic_gradient.py:696: ConvergenceWarning: Maximum number of iteration reached before convergence. Consider increasing max_iter to improve the fit.\n",
      "  warnings.warn(\n",
      "/opt/anaconda3/lib/python3.9/site-packages/sklearn/linear_model/_stochastic_gradient.py:696: ConvergenceWarning: Maximum number of iteration reached before convergence. Consider increasing max_iter to improve the fit.\n",
      "  warnings.warn(\n",
      "/opt/anaconda3/lib/python3.9/site-packages/sklearn/linear_model/_stochastic_gradient.py:696: ConvergenceWarning: Maximum number of iteration reached before convergence. Consider increasing max_iter to improve the fit.\n",
      "  warnings.warn(\n",
      "/opt/anaconda3/lib/python3.9/site-packages/sklearn/linear_model/_stochastic_gradient.py:696: ConvergenceWarning: Maximum number of iteration reached before convergence. Consider increasing max_iter to improve the fit.\n",
      "  warnings.warn(\n",
      "/opt/anaconda3/lib/python3.9/site-packages/sklearn/linear_model/_stochastic_gradient.py:696: ConvergenceWarning: Maximum number of iteration reached before convergence. Consider increasing max_iter to improve the fit.\n",
      "  warnings.warn(\n",
      "/opt/anaconda3/lib/python3.9/site-packages/sklearn/linear_model/_stochastic_gradient.py:696: ConvergenceWarning: Maximum number of iteration reached before convergence. Consider increasing max_iter to improve the fit.\n",
      "  warnings.warn(\n",
      "/opt/anaconda3/lib/python3.9/site-packages/sklearn/linear_model/_stochastic_gradient.py:696: ConvergenceWarning: Maximum number of iteration reached before convergence. Consider increasing max_iter to improve the fit.\n",
      "  warnings.warn(\n",
      "/opt/anaconda3/lib/python3.9/site-packages/sklearn/linear_model/_stochastic_gradient.py:696: ConvergenceWarning: Maximum number of iteration reached before convergence. Consider increasing max_iter to improve the fit.\n",
      "  warnings.warn(\n",
      "/opt/anaconda3/lib/python3.9/site-packages/sklearn/linear_model/_stochastic_gradient.py:696: ConvergenceWarning: Maximum number of iteration reached before convergence. Consider increasing max_iter to improve the fit.\n",
      "  warnings.warn(\n",
      "/opt/anaconda3/lib/python3.9/site-packages/sklearn/model_selection/_validation.py:372: FitFailedWarning: \n",
      "360 fits failed out of a total of 1080.\n",
      "The score on these train-test partitions for these parameters will be set to nan.\n",
      "If these failures are not expected, you can try to debug them by setting error_score='raise'.\n",
      "\n",
      "Below are more details about the failures:\n",
      "--------------------------------------------------------------------------------\n",
      "360 fits failed with the following error:\n",
      "Traceback (most recent call last):\n",
      "  File \"/opt/anaconda3/lib/python3.9/site-packages/sklearn/model_selection/_validation.py\", line 680, in _fit_and_score\n",
      "    estimator.fit(X_train, y_train, **fit_params)\n",
      "  File \"/opt/anaconda3/lib/python3.9/site-packages/sklearn/linear_model/_stochastic_gradient.py\", line 883, in fit\n",
      "    return self._fit(\n",
      "  File \"/opt/anaconda3/lib/python3.9/site-packages/sklearn/linear_model/_stochastic_gradient.py\", line 649, in _fit\n",
      "    self._validate_params()\n",
      "  File \"/opt/anaconda3/lib/python3.9/site-packages/sklearn/linear_model/_stochastic_gradient.py\", line 162, in _validate_params\n",
      "    raise ValueError(\"The loss %s is not supported. \" % self.loss)\n",
      "ValueError: The loss log_loss is not supported. \n",
      "\n",
      "  warnings.warn(some_fits_failed_message, FitFailedWarning)\n",
      "/opt/anaconda3/lib/python3.9/site-packages/sklearn/model_selection/_search.py:969: UserWarning: One or more of the test scores are non-finite: [       nan        nan        nan        nan 0.77367314 0.77344569\n",
      " 0.77344569 0.77344569 0.76170074 0.75544924 0.75544924 0.75544924\n",
      "        nan        nan        nan        nan 0.78868059 0.78868059\n",
      " 0.78868059 0.78868059 0.77829387 0.77829387 0.77829387 0.77829387\n",
      "        nan        nan        nan        nan 0.76877612 0.76877612\n",
      " 0.76877612 0.76877612 0.78143017 0.78143017 0.78143017 0.78143017]\n",
      "  warnings.warn(\n"
     ]
    },
    {
     "name": "stdout",
     "output_type": "stream",
     "text": [
      "best_score: 0.789\n",
      "Config: {'alpha': 0.001, 'loss': 'hinge', 'max_iter': 50}\n"
     ]
    }
   ],
   "source": [
    "model =  SGDClassifier(random_state=1234)\n",
    "\n",
    "# define grid\n",
    "    # alpha: (default=0.0001) 값이 클수록 강력한 정규화(규제)\n",
    "    # -> learning rate 튜닝하기 까다롭.. 디폴트값 써도 큰 차이 없다? (수업자료에)\n",
    "    # max_iter: (default=1000)\n",
    "    # loss: loss function\n",
    "param_grid = {\"alpha\":[0.0001, 0.001, 0.01],\n",
    "              \"max_iter\":[50, 100, 500, 1000],\n",
    "              \"loss\":['log_loss', 'hinge', 'modified_huber']}\n",
    "# define search\n",
    "grid = GridSearchCV(model, param_grid, cv=cv, n_jobs=-1, scoring='f1')\n",
    "# perform the search\n",
    "sgd = grid.fit(X_train_under, y_train_under) # best_estimator을 리턴\n",
    "\n",
    "# summarize\n",
    "print('best_score: %.3f' % sgd.best_score_)\n",
    "print('Config: %s' % sgd.best_params_)"
   ]
  },
  {
   "cell_type": "code",
   "execution_count": null,
   "id": "c857f503",
   "metadata": {},
   "outputs": [],
   "source": [
    "# f1, 100/500/1000 으로 했을 때\n",
    "# max_iter 작아질수록 좋게 나옴 .. 근데 범위 바꾸니까 warning 주루룩..?\n",
    "best_score: 0.789\n",
    "Config: {'alpha': 0.001, 'loss': 'hinge', 'max_iter': 100}"
   ]
  },
  {
   "cell_type": "code",
   "execution_count": 54,
   "id": "2171a173",
   "metadata": {},
   "outputs": [
    {
     "data": {
      "text/plain": [
       "['None_SGD_alltoken_model.pkl']"
      ]
     },
     "execution_count": 54,
     "metadata": {},
     "output_type": "execute_result"
    }
   ],
   "source": [
    "joblib.dump(sgd.best_estimator_, 'None_SGD_alltoken_model.pkl')\n",
    "#loaded_model = joblib.load('None_SGD_alltoken_model.pkl')"
   ]
  },
  {
   "cell_type": "code",
   "execution_count": 55,
   "id": "4d645484",
   "metadata": {},
   "outputs": [
    {
     "name": "stdout",
     "output_type": "stream",
     "text": [
      "r2_score:  -2.41193293369549\n",
      "mse:  0.22199885123492247\n",
      "accuracy:  0.7780011487650775\n",
      "f1:  0.8672049476035046\n"
     ]
    }
   ],
   "source": [
    "y_pred = sgd.predict(X_test)\n",
    "\n",
    "print('r2_score: ',r2_score(y_test,y_pred))\n",
    "print('mse: ', mean_squared_error(y_test,y_pred))\n",
    "print('accuracy: ', accuracy_score(y_test, y_pred))\n",
    "print('f1: ', f1_score(y_test, y_pred))"
   ]
  },
  {
   "cell_type": "code",
   "execution_count": 56,
   "id": "f0717355",
   "metadata": {},
   "outputs": [
    {
     "name": "stdout",
     "output_type": "stream",
     "text": [
      "              precision    recall  f1-score   support\n",
      "\n",
      "     class 0       0.21      0.76      0.32      1218\n",
      "     class 1       0.98      0.78      0.87     16192\n",
      "\n",
      "    accuracy                           0.78     17410\n",
      "   macro avg       0.59      0.77      0.60     17410\n",
      "weighted avg       0.92      0.78      0.83     17410\n",
      "\n"
     ]
    }
   ],
   "source": [
    "target_names = ['class 0', 'class 1']\n",
    "print(classification_report(y_test, y_pred, target_names=target_names))"
   ]
  },
  {
   "cell_type": "code",
   "execution_count": 57,
   "id": "573763be",
   "metadata": {},
   "outputs": [
    {
     "data": {
      "text/plain": [
       "Text(33.0, 0.5, 'Actual')"
      ]
     },
     "execution_count": 57,
     "metadata": {},
     "output_type": "execute_result"
    },
    {
     "data": {
      "image/png": "[encoded data removed]",
      "text/plain": [
       "<Figure size 432x288 with 2 Axes>"
      ]
     },
     "metadata": {
      "needs_background": "light"
     },
     "output_type": "display_data"
    }
   ],
   "source": [
    "y_tr_pred = sgd.predict(X_train_under)\n",
    "cm_tr = confusion_matrix(y_train_under, y_tr_pred)\n",
    "\n",
    "sns.heatmap(cm_tr, annot=True, annot_kws={\"size\": 20}, cmap='YlOrBr',fmt='d')\n",
    "plt.xlabel('Predicted', fontsize=20)\n",
    "plt.ylabel('Actual', fontsize=20)"
   ]
  },
  {
   "cell_type": "code",
   "execution_count": 58,
   "id": "70dc01d8",
   "metadata": {},
   "outputs": [
    {
     "data": {
      "text/plain": [
       "Text(33.0, 0.5, 'Actual')"
      ]
     },
     "execution_count": 58,
     "metadata": {},
     "output_type": "execute_result"
    },
    {
     "data": {
      "image/png": "[encoded data removed]",
      "text/plain": [
       "<Figure size 432x288 with 2 Axes>"
      ]
     },
     "metadata": {
      "needs_background": "light"
     },
     "output_type": "display_data"
    }
   ],
   "source": [
    "cm_te = confusion_matrix(y_test, y_pred)\n",
    "\n",
    "sns.heatmap(cm_te, annot=True, annot_kws={\"size\": 20}, cmap='YlOrBr',fmt='d')\n",
    "plt.xlabel('Predicted', fontsize=20)\n",
    "plt.ylabel('Actual', fontsize=20)"
   ]
  },
  {
   "cell_type": "code",
   "execution_count": 59,
   "id": "122151fd",
   "metadata": {},
   "outputs": [
    {
     "data": {
      "text/plain": [
       "Text(33.0, 0.5, 'Actual')"
      ]
     },
     "execution_count": 59,
     "metadata": {},
     "output_type": "execute_result"
    },
    {
     "data": {
      "image/png": "[encoded data removed]",
      "text/plain": [
       "<Figure size 432x288 with 2 Axes>"
      ]
     },
     "metadata": {
      "needs_background": "light"
     },
     "output_type": "display_data"
    }
   ],
   "source": [
    "y_pred_sent = sgd.predict(feature_list_sent)\n",
    "\n",
    "cm_te_sent = confusion_matrix(y_test_sent, y_pred_sent)\n",
    "\n",
    "sns.heatmap(cm_te_sent, annot=True, annot_kws={\"size\": 20}, cmap='YlOrBr',fmt='d')\n",
    "plt.xlabel('Predicted', fontsize=20)\n",
    "plt.ylabel('Actual', fontsize=20)"
   ]
  }
 ],
 "metadata": {
  "kernelspec": {
   "display_name": "Python 3 (ipykernel)",
   "language": "python",
   "name": "python3"
  },
  "language_info": {
   "codemirror_mode": {
    "name": "ipython",
    "version": 3
   },
   "file_extension": ".py",
   "mimetype": "text/x-python",
   "name": "python",
   "nbconvert_exporter": "python",
   "pygments_lexer": "ipython3",
   "version": "3.9.7"
  }
 },
 "nbformat": 4,
 "nbformat_minor": 5
}
