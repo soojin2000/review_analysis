{
 "cells": [
  {
   "cell_type": "code",
   "execution_count": 1,
   "metadata": {},
   "outputs": [],
   "source": [
    "import csv\n",
    "import pandas as pd\n",
    "import re"
   ]
  },
  {
   "cell_type": "code",
   "execution_count": 2,
   "metadata": {},
   "outputs": [
    {
     "data": {
      "text/html": [
       "<div>\n",
       "<style scoped>\n",
       "    .dataframe tbody tr th:only-of-type {\n",
       "        vertical-align: middle;\n",
       "    }\n",
       "\n",
       "    .dataframe tbody tr th {\n",
       "        vertical-align: top;\n",
       "    }\n",
       "\n",
       "    .dataframe thead th {\n",
       "        text-align: right;\n",
       "    }\n",
       "</style>\n",
       "<table border=\"1\" class=\"dataframe\">\n",
       "  <thead>\n",
       "    <tr style=\"text-align: right;\">\n",
       "      <th></th>\n",
       "      <th>Unnamed: 0</th>\n",
       "      <th>aspect</th>\n",
       "      <th>sentence</th>\n",
       "      <th>review</th>\n",
       "      <th>rating</th>\n",
       "      <th>product_name</th>\n",
       "      <th>word_only</th>\n",
       "      <th>predict</th>\n",
       "    </tr>\n",
       "  </thead>\n",
       "  <tbody>\n",
       "    <tr>\n",
       "      <th>0</th>\n",
       "      <td>0</td>\n",
       "      <td>트러블 진정</td>\n",
       "      <td>[('총', 'MM'), ('평', 'NNB'), ('트러블', 'NNP'), ('...</td>\n",
       "      <td>닥터지 레드블레미쉬 클리어 수딩크림을 벌써 몇 통째 사용중인지 모르겠어요 피부가 민...</td>\n",
       "      <td>5</td>\n",
       "      <td>[증량]닥터지 레드 블레미쉬 클리어 수딩크림 기획 (본품70ml+30ml 추가 증정)</td>\n",
       "      <td>['총', '평', '트러블', '피부', '나', '민감', '피부', '도', ...</td>\n",
       "      <td>1</td>\n",
       "    </tr>\n",
       "    <tr>\n",
       "      <th>1</th>\n",
       "      <td>1</td>\n",
       "      <td>트러블 진정</td>\n",
       "      <td>[('주', 'VX'), ('는', 'ETM'), ('느낌', 'NNG'), ('이...</td>\n",
       "      <td>닥터지 레드블레미쉬 클리어 수딩크림을 벌써 몇 통째 사용중인지 모르겠어요 피부가 민...</td>\n",
       "      <td>5</td>\n",
       "      <td>[증량]닥터지 레드 블레미쉬 클리어 수딩크림 기획 (본품70ml+30ml 추가 증정)</td>\n",
       "      <td>['주', '는', '느낌', '이', '라', '지성', '민감성', '트러블',...</td>\n",
       "      <td>1</td>\n",
       "    </tr>\n",
       "    <tr>\n",
       "      <th>2</th>\n",
       "      <td>2</td>\n",
       "      <td>수분/보습</td>\n",
       "      <td>[('수분', 'NNP'), ('이', 'JKS'), ('많', 'VA'), ('아...</td>\n",
       "      <td>성분좋은 수분크림 찾다가 구매한 제품인데 정말 만족하고있습니다 수분이 많아서 촉촉하...</td>\n",
       "      <td>5</td>\n",
       "      <td>[증량]닥터지 레드 블레미쉬 클리어 수딩크림 기획 (본품70ml+30ml 추가 증정)</td>\n",
       "      <td>['수분', '이', '많', '아서']</td>\n",
       "      <td>0</td>\n",
       "    </tr>\n",
       "    <tr>\n",
       "      <th>3</th>\n",
       "      <td>3</td>\n",
       "      <td>트러블 진정</td>\n",
       "      <td>[('트러블', 'NNP'), ('피부', 'NNG'), ('에', 'JKB'), ...</td>\n",
       "      <td>성분좋은 수분크림 찾다가 구매한 제품인데 정말 만족하고있습니다 수분이 많아서 촉촉하...</td>\n",
       "      <td>5</td>\n",
       "      <td>[증량]닥터지 레드 블레미쉬 클리어 수딩크림 기획 (본품70ml+30ml 추가 증정)</td>\n",
       "      <td>['트러블', '피부', '에', '좋', '은', '것', '같', '습니다']</td>\n",
       "      <td>0</td>\n",
       "    </tr>\n",
       "    <tr>\n",
       "      <th>4</th>\n",
       "      <td>4</td>\n",
       "      <td>수분/보습</td>\n",
       "      <td>[('피부타입', 'NNP'), ('세', 'MM'), ('지성', 'NNP'), ...</td>\n",
       "      <td>피부타입 세 지성 좁쌀 성인 여드름 얼굴 외곽선 쪽에만 수분 부족 민감성 입니다 스...</td>\n",
       "      <td>4</td>\n",
       "      <td>[증량]닥터지 레드 블레미쉬 클리어 수딩크림 기획 (본품70ml+30ml 추가 증정)</td>\n",
       "      <td>['피부타입', '세', '지성', '좁쌀', '성인', '여드름', '얼굴', '...</td>\n",
       "      <td>0</td>\n",
       "    </tr>\n",
       "  </tbody>\n",
       "</table>\n",
       "</div>"
      ],
      "text/plain": [
       "   Unnamed: 0  aspect                                           sentence  \\\n",
       "0           0  트러블 진정  [('총', 'MM'), ('평', 'NNB'), ('트러블', 'NNP'), ('...   \n",
       "1           1  트러블 진정  [('주', 'VX'), ('는', 'ETM'), ('느낌', 'NNG'), ('이...   \n",
       "2           2   수분/보습  [('수분', 'NNP'), ('이', 'JKS'), ('많', 'VA'), ('아...   \n",
       "3           3  트러블 진정  [('트러블', 'NNP'), ('피부', 'NNG'), ('에', 'JKB'), ...   \n",
       "4           4   수분/보습  [('피부타입', 'NNP'), ('세', 'MM'), ('지성', 'NNP'), ...   \n",
       "\n",
       "                                              review  rating  \\\n",
       "0  닥터지 레드블레미쉬 클리어 수딩크림을 벌써 몇 통째 사용중인지 모르겠어요 피부가 민...       5   \n",
       "1  닥터지 레드블레미쉬 클리어 수딩크림을 벌써 몇 통째 사용중인지 모르겠어요 피부가 민...       5   \n",
       "2  성분좋은 수분크림 찾다가 구매한 제품인데 정말 만족하고있습니다 수분이 많아서 촉촉하...       5   \n",
       "3  성분좋은 수분크림 찾다가 구매한 제품인데 정말 만족하고있습니다 수분이 많아서 촉촉하...       5   \n",
       "4  피부타입 세 지성 좁쌀 성인 여드름 얼굴 외곽선 쪽에만 수분 부족 민감성 입니다 스...       4   \n",
       "\n",
       "                                       product_name  \\\n",
       "0  [증량]닥터지 레드 블레미쉬 클리어 수딩크림 기획 (본품70ml+30ml 추가 증정)    \n",
       "1  [증량]닥터지 레드 블레미쉬 클리어 수딩크림 기획 (본품70ml+30ml 추가 증정)    \n",
       "2  [증량]닥터지 레드 블레미쉬 클리어 수딩크림 기획 (본품70ml+30ml 추가 증정)    \n",
       "3  [증량]닥터지 레드 블레미쉬 클리어 수딩크림 기획 (본품70ml+30ml 추가 증정)    \n",
       "4  [증량]닥터지 레드 블레미쉬 클리어 수딩크림 기획 (본품70ml+30ml 추가 증정)    \n",
       "\n",
       "                                           word_only  predict  \n",
       "0  ['총', '평', '트러블', '피부', '나', '민감', '피부', '도', ...        1  \n",
       "1  ['주', '는', '느낌', '이', '라', '지성', '민감성', '트러블',...        1  \n",
       "2                             ['수분', '이', '많', '아서']        0  \n",
       "3      ['트러블', '피부', '에', '좋', '은', '것', '같', '습니다']        0  \n",
       "4  ['피부타입', '세', '지성', '좁쌀', '성인', '여드름', '얼굴', '...        0  "
      ]
     },
     "execution_count": 2,
     "metadata": {},
     "output_type": "execute_result"
    }
   ],
   "source": [
    "df = pd.read_csv('NB_predict_oily.csv')\n",
    "df.head()"
   ]
  },
  {
   "cell_type": "markdown",
   "metadata": {},
   "source": [
    "### 지성 전체분석"
   ]
  },
  {
   "cell_type": "code",
   "execution_count": 3,
   "metadata": {},
   "outputs": [
    {
     "data": {
      "text/plain": [
       "1    1658\n",
       "0    1093\n",
       "Name: predict, dtype: int64"
      ]
     },
     "execution_count": 3,
     "metadata": {},
     "output_type": "execute_result"
    }
   ],
   "source": [
    "df['predict'].value_counts()"
   ]
  },
  {
   "cell_type": "code",
   "execution_count": 4,
   "metadata": {},
   "outputs": [
    {
     "data": {
      "text/plain": [
       "트러블 진정    1042\n",
       "수분/보습      924\n",
       "가성비        506\n",
       "피부개선       279\n",
       "Name: aspect, dtype: int64"
      ]
     },
     "execution_count": 4,
     "metadata": {},
     "output_type": "execute_result"
    }
   ],
   "source": [
    "df['aspect'].value_counts()"
   ]
  },
  {
   "cell_type": "code",
   "execution_count": 5,
   "metadata": {},
   "outputs": [],
   "source": [
    "product_list=[]"
   ]
  },
  {
   "cell_type": "code",
   "execution_count": 6,
   "metadata": {},
   "outputs": [],
   "source": [
    "product_list = df['product_name'].unique()"
   ]
  },
  {
   "cell_type": "code",
   "execution_count": 7,
   "metadata": {},
   "outputs": [
    {
     "data": {
      "text/plain": [
       "223"
      ]
     },
     "execution_count": 7,
     "metadata": {},
     "output_type": "execute_result"
    }
   ],
   "source": [
    "len(product_list)"
   ]
  },
  {
   "cell_type": "code",
   "execution_count": 8,
   "metadata": {},
   "outputs": [
    {
     "data": {
      "text/plain": [
       "1    546\n",
       "0    496\n",
       "Name: predict, dtype: int64"
      ]
     },
     "execution_count": 8,
     "metadata": {},
     "output_type": "execute_result"
    }
   ],
   "source": [
    "df.loc[df['aspect'] == '트러블 진정']['predict'].value_counts()"
   ]
  },
  {
   "cell_type": "code",
   "execution_count": 9,
   "metadata": {},
   "outputs": [
    {
     "data": {
      "text/plain": [
       "1    587\n",
       "0    337\n",
       "Name: predict, dtype: int64"
      ]
     },
     "execution_count": 9,
     "metadata": {},
     "output_type": "execute_result"
    }
   ],
   "source": [
    "df.loc[df['aspect'] == '수분/보습']['predict'].value_counts()"
   ]
  },
  {
   "cell_type": "code",
   "execution_count": 10,
   "metadata": {},
   "outputs": [
    {
     "data": {
      "text/plain": [
       "1    352\n",
       "0    154\n",
       "Name: predict, dtype: int64"
      ]
     },
     "execution_count": 10,
     "metadata": {},
     "output_type": "execute_result"
    }
   ],
   "source": [
    "df.loc[df['aspect'] == '가성비']['predict'].value_counts()"
   ]
  },
  {
   "cell_type": "code",
   "execution_count": 11,
   "metadata": {},
   "outputs": [
    {
     "data": {
      "text/plain": [
       "1    173\n",
       "0    106\n",
       "Name: predict, dtype: int64"
      ]
     },
     "execution_count": 11,
     "metadata": {},
     "output_type": "execute_result"
    }
   ],
   "source": [
    "df.loc[df['aspect'] == '피부개선']['predict'].value_counts()"
   ]
  },
  {
   "cell_type": "markdown",
   "metadata": {},
   "source": [
    "----------------------"
   ]
  },
  {
   "cell_type": "markdown",
   "metadata": {},
   "source": [
    "### 제품별 분석"
   ]
  },
  {
   "cell_type": "code",
   "execution_count": 12,
   "metadata": {},
   "outputs": [],
   "source": [
    "senti_product = pd.DataFrame(columns=['product_name', 'sooth','moisture','cost','func'])"
   ]
  },
  {
   "cell_type": "code",
   "execution_count": 13,
   "metadata": {},
   "outputs": [],
   "source": [
    "for p in product_list:\n",
    "    df_= df.loc[df['product_name']== str(p)]\n",
    "    t_li = [0,0]\n",
    "    mo_li = [0,0]\n",
    "    co_li = [0,0]\n",
    "    f_li = [0,0]\n",
    "    \n",
    "    for i in df_.loc[df_['aspect'] == '트러블 진정']['predict']:\n",
    "        t_li[i] += 1\n",
    "    \n",
    "    for i in df_.loc[df_['aspect'] == '수분/보습']['predict']:\n",
    "        mo_li[i] += 1\n",
    "    \n",
    "    for i in df_.loc[df_['aspect'] == '가성비']['predict']:\n",
    "        co_li[i] += 1\n",
    "        \n",
    "    for i in df_.loc[df_['aspect'] == '피부개선']['predict']:\n",
    "        f_li[i] += 1\n",
    "        \n",
    "    new_data = {\n",
    "        'product_name': p,\n",
    "        'sooth': t_li,\n",
    "        'moisture': mo_li,\n",
    "        'cost': co_li,\n",
    "        'func': f_li\n",
    "    }\n",
    "    \n",
    "    senti_product = senti_product.append(new_data, ignore_index=True)\n"
   ]
  },
  {
   "cell_type": "code",
   "execution_count": 14,
   "metadata": {},
   "outputs": [
    {
     "data": {
      "text/html": [
       "<div>\n",
       "<style scoped>\n",
       "    .dataframe tbody tr th:only-of-type {\n",
       "        vertical-align: middle;\n",
       "    }\n",
       "\n",
       "    .dataframe tbody tr th {\n",
       "        vertical-align: top;\n",
       "    }\n",
       "\n",
       "    .dataframe thead th {\n",
       "        text-align: right;\n",
       "    }\n",
       "</style>\n",
       "<table border=\"1\" class=\"dataframe\">\n",
       "  <thead>\n",
       "    <tr style=\"text-align: right;\">\n",
       "      <th></th>\n",
       "      <th>product_name</th>\n",
       "      <th>sooth</th>\n",
       "      <th>moisture</th>\n",
       "      <th>cost</th>\n",
       "      <th>func</th>\n",
       "    </tr>\n",
       "  </thead>\n",
       "  <tbody>\n",
       "    <tr>\n",
       "      <th>0</th>\n",
       "      <td>[증량]닥터지 레드 블레미쉬 클리어 수딩크림 기획 (본품70ml+30ml 추가 증정)</td>\n",
       "      <td>[15, 19]</td>\n",
       "      <td>[9, 16]</td>\n",
       "      <td>[9, 8]</td>\n",
       "      <td>[0, 0]</td>\n",
       "    </tr>\n",
       "    <tr>\n",
       "      <th>1</th>\n",
       "      <td>에스트라 아토베리어365 크림 80ml 짝꿍기획 (+하이드로에센스 40ml 증정)</td>\n",
       "      <td>[3, 3]</td>\n",
       "      <td>[6, 7]</td>\n",
       "      <td>[0, 0]</td>\n",
       "      <td>[0, 0]</td>\n",
       "    </tr>\n",
       "    <tr>\n",
       "      <th>2</th>\n",
       "      <td>[단독][1+1] 크리니크 쏙보습크림 50ml 1+1 기획세트 (+애슝 스티커 증정)</td>\n",
       "      <td>[0, 0]</td>\n",
       "      <td>[0, 5]</td>\n",
       "      <td>[0, 0]</td>\n",
       "      <td>[0, 0]</td>\n",
       "    </tr>\n",
       "    <tr>\n",
       "      <th>3</th>\n",
       "      <td>라로슈포제 시카플라스트 밤B5 100ml 기획(+시카 세럼 10ml,에빠끌라폼15ml)</td>\n",
       "      <td>[15, 18]</td>\n",
       "      <td>[0, 1]</td>\n",
       "      <td>[1, 6]</td>\n",
       "      <td>[0, 0]</td>\n",
       "    </tr>\n",
       "    <tr>\n",
       "      <th>4</th>\n",
       "      <td>[오원Pick] 닥터자르트 시카페어 크림(50ml+25ml)  한정세트</td>\n",
       "      <td>[5, 4]</td>\n",
       "      <td>[2, 2]</td>\n",
       "      <td>[2, 8]</td>\n",
       "      <td>[0, 0]</td>\n",
       "    </tr>\n",
       "    <tr>\n",
       "      <th>...</th>\n",
       "      <td>...</td>\n",
       "      <td>...</td>\n",
       "      <td>...</td>\n",
       "      <td>...</td>\n",
       "      <td>...</td>\n",
       "    </tr>\n",
       "    <tr>\n",
       "      <th>218</th>\n",
       "      <td>메이크프렘 세이프 미 릴리프 인텐시브 CP 크림 80ml</td>\n",
       "      <td>[3, 1]</td>\n",
       "      <td>[3, 3]</td>\n",
       "      <td>[2, 1]</td>\n",
       "      <td>[0, 0]</td>\n",
       "    </tr>\n",
       "    <tr>\n",
       "      <th>219</th>\n",
       "      <td>피지오겔 레드수딩 AI 인텐시브 리피드크림 50ml</td>\n",
       "      <td>[0, 2]</td>\n",
       "      <td>[0, 0]</td>\n",
       "      <td>[1, 0]</td>\n",
       "      <td>[0, 0]</td>\n",
       "    </tr>\n",
       "    <tr>\n",
       "      <th>220</th>\n",
       "      <td>웰라쥬 리얼 히알루로닉 겔크림 75ml</td>\n",
       "      <td>[0, 0]</td>\n",
       "      <td>[0, 1]</td>\n",
       "      <td>[0, 0]</td>\n",
       "      <td>[0, 0]</td>\n",
       "    </tr>\n",
       "    <tr>\n",
       "      <th>221</th>\n",
       "      <td>닥터디퍼런트 131 모이스처라이저 100ml</td>\n",
       "      <td>[0, 0]</td>\n",
       "      <td>[0, 0]</td>\n",
       "      <td>[0, 0]</td>\n",
       "      <td>[0, 1]</td>\n",
       "    </tr>\n",
       "    <tr>\n",
       "      <th>222</th>\n",
       "      <td>밀크터치 서양송악 진정크림+송악점보패드(60매)</td>\n",
       "      <td>[1, 0]</td>\n",
       "      <td>[1, 0]</td>\n",
       "      <td>[0, 0]</td>\n",
       "      <td>[0, 0]</td>\n",
       "    </tr>\n",
       "  </tbody>\n",
       "</table>\n",
       "<p>223 rows × 5 columns</p>\n",
       "</div>"
      ],
      "text/plain": [
       "                                         product_name     sooth moisture  \\\n",
       "0    [증량]닥터지 레드 블레미쉬 클리어 수딩크림 기획 (본품70ml+30ml 추가 증정)   [15, 19]  [9, 16]   \n",
       "1       에스트라 아토베리어365 크림 80ml 짝꿍기획 (+하이드로에센스 40ml 증정)    [3, 3]   [6, 7]   \n",
       "2     [단독][1+1] 크리니크 쏙보습크림 50ml 1+1 기획세트 (+애슝 스티커 증정)    [0, 0]   [0, 5]   \n",
       "3    라로슈포제 시카플라스트 밤B5 100ml 기획(+시카 세럼 10ml,에빠끌라폼15ml)  [15, 18]   [0, 1]   \n",
       "4             [오원Pick] 닥터자르트 시카페어 크림(50ml+25ml)  한정세트    [5, 4]   [2, 2]   \n",
       "..                                                ...       ...      ...   \n",
       "218                   메이크프렘 세이프 미 릴리프 인텐시브 CP 크림 80ml    [3, 1]   [3, 3]   \n",
       "219                      피지오겔 레드수딩 AI 인텐시브 리피드크림 50ml    [0, 2]   [0, 0]   \n",
       "220                             웰라쥬 리얼 히알루로닉 겔크림 75ml    [0, 0]   [0, 1]   \n",
       "221                          닥터디퍼런트 131 모이스처라이저 100ml    [0, 0]   [0, 0]   \n",
       "222                        밀크터치 서양송악 진정크림+송악점보패드(60매)    [1, 0]   [1, 0]   \n",
       "\n",
       "       cost    func  \n",
       "0    [9, 8]  [0, 0]  \n",
       "1    [0, 0]  [0, 0]  \n",
       "2    [0, 0]  [0, 0]  \n",
       "3    [1, 6]  [0, 0]  \n",
       "4    [2, 8]  [0, 0]  \n",
       "..      ...     ...  \n",
       "218  [2, 1]  [0, 0]  \n",
       "219  [1, 0]  [0, 0]  \n",
       "220  [0, 0]  [0, 0]  \n",
       "221  [0, 0]  [0, 1]  \n",
       "222  [0, 0]  [0, 0]  \n",
       "\n",
       "[223 rows x 5 columns]"
      ]
     },
     "execution_count": 14,
     "metadata": {},
     "output_type": "execute_result"
    }
   ],
   "source": [
    "senti_product"
   ]
  },
  {
   "cell_type": "code",
   "execution_count": 28,
   "metadata": {},
   "outputs": [],
   "source": [
    "senti_product.to_csv('senti_product_oily.csv', index = False, columns = ['product_name', 'sooth','moisture','cost','func'])"
   ]
  },
  {
   "cell_type": "markdown",
   "metadata": {},
   "source": [
    "---------------------"
   ]
  },
  {
   "cell_type": "markdown",
   "metadata": {},
   "source": [
    "### 속성별 언급 비율 (%)"
   ]
  },
  {
   "cell_type": "code",
   "execution_count": 16,
   "metadata": {},
   "outputs": [],
   "source": [
    "senti_aspect_percent = pd.DataFrame(columns=['product_name', 'sooth','moisture','cost','func'])"
   ]
  },
  {
   "cell_type": "code",
   "execution_count": 18,
   "metadata": {},
   "outputs": [],
   "source": [
    "for i in range(len(senti_product)):\n",
    "    s_per=0\n",
    "    m_per=0\n",
    "    c_per=0\n",
    "    f_per=0\n",
    "\n",
    "    total = sum(senti_product['sooth'][i])+sum(senti_product['moisture'][i])+sum(senti_product['cost'][i])+sum(senti_product['func'][i])\n",
    "    \n",
    "    s_per=round(sum(senti_product['sooth'][i])/total, 4)\n",
    "    m_per=round(sum(senti_product['moisture'][i])/total,4)\n",
    "    c_per=round(sum(senti_product['cost'][i])/total,4)\n",
    "    f_per=round(sum(senti_product['func'][i])/total,4)\n",
    "    \n",
    "    new_data = {\n",
    "        'product_name': senti_product['product_name'][i],\n",
    "        'sooth': s_per*100,\n",
    "        'moisture': m_per*100,\n",
    "        'cost': c_per*100,\n",
    "        'func': f_per*100\n",
    "    }\n",
    "    \n",
    "    senti_aspect_percent = senti_aspect_percent.append(new_data, ignore_index=True)"
   ]
  },
  {
   "cell_type": "code",
   "execution_count": 19,
   "metadata": {},
   "outputs": [
    {
     "data": {
      "text/html": [
       "<div>\n",
       "<style scoped>\n",
       "    .dataframe tbody tr th:only-of-type {\n",
       "        vertical-align: middle;\n",
       "    }\n",
       "\n",
       "    .dataframe tbody tr th {\n",
       "        vertical-align: top;\n",
       "    }\n",
       "\n",
       "    .dataframe thead th {\n",
       "        text-align: right;\n",
       "    }\n",
       "</style>\n",
       "<table border=\"1\" class=\"dataframe\">\n",
       "  <thead>\n",
       "    <tr style=\"text-align: right;\">\n",
       "      <th></th>\n",
       "      <th>product_name</th>\n",
       "      <th>sooth</th>\n",
       "      <th>moisture</th>\n",
       "      <th>cost</th>\n",
       "      <th>func</th>\n",
       "    </tr>\n",
       "  </thead>\n",
       "  <tbody>\n",
       "    <tr>\n",
       "      <th>0</th>\n",
       "      <td>[증량]닥터지 레드 블레미쉬 클리어 수딩크림 기획 (본품70ml+30ml 추가 증정)</td>\n",
       "      <td>44.74</td>\n",
       "      <td>32.89</td>\n",
       "      <td>22.37</td>\n",
       "      <td>0.0</td>\n",
       "    </tr>\n",
       "    <tr>\n",
       "      <th>1</th>\n",
       "      <td>에스트라 아토베리어365 크림 80ml 짝꿍기획 (+하이드로에센스 40ml 증정)</td>\n",
       "      <td>31.58</td>\n",
       "      <td>68.42</td>\n",
       "      <td>0.00</td>\n",
       "      <td>0.0</td>\n",
       "    </tr>\n",
       "    <tr>\n",
       "      <th>2</th>\n",
       "      <td>[단독][1+1] 크리니크 쏙보습크림 50ml 1+1 기획세트 (+애슝 스티커 증정)</td>\n",
       "      <td>0.00</td>\n",
       "      <td>100.00</td>\n",
       "      <td>0.00</td>\n",
       "      <td>0.0</td>\n",
       "    </tr>\n",
       "    <tr>\n",
       "      <th>3</th>\n",
       "      <td>라로슈포제 시카플라스트 밤B5 100ml 기획(+시카 세럼 10ml,에빠끌라폼15ml)</td>\n",
       "      <td>80.49</td>\n",
       "      <td>2.44</td>\n",
       "      <td>17.07</td>\n",
       "      <td>0.0</td>\n",
       "    </tr>\n",
       "    <tr>\n",
       "      <th>4</th>\n",
       "      <td>[오원Pick] 닥터자르트 시카페어 크림(50ml+25ml)  한정세트</td>\n",
       "      <td>39.13</td>\n",
       "      <td>17.39</td>\n",
       "      <td>43.48</td>\n",
       "      <td>0.0</td>\n",
       "    </tr>\n",
       "    <tr>\n",
       "      <th>...</th>\n",
       "      <td>...</td>\n",
       "      <td>...</td>\n",
       "      <td>...</td>\n",
       "      <td>...</td>\n",
       "      <td>...</td>\n",
       "    </tr>\n",
       "    <tr>\n",
       "      <th>218</th>\n",
       "      <td>메이크프렘 세이프 미 릴리프 인텐시브 CP 크림 80ml</td>\n",
       "      <td>30.77</td>\n",
       "      <td>46.15</td>\n",
       "      <td>23.08</td>\n",
       "      <td>0.0</td>\n",
       "    </tr>\n",
       "    <tr>\n",
       "      <th>219</th>\n",
       "      <td>피지오겔 레드수딩 AI 인텐시브 리피드크림 50ml</td>\n",
       "      <td>66.67</td>\n",
       "      <td>0.00</td>\n",
       "      <td>33.33</td>\n",
       "      <td>0.0</td>\n",
       "    </tr>\n",
       "    <tr>\n",
       "      <th>220</th>\n",
       "      <td>웰라쥬 리얼 히알루로닉 겔크림 75ml</td>\n",
       "      <td>0.00</td>\n",
       "      <td>100.00</td>\n",
       "      <td>0.00</td>\n",
       "      <td>0.0</td>\n",
       "    </tr>\n",
       "    <tr>\n",
       "      <th>221</th>\n",
       "      <td>닥터디퍼런트 131 모이스처라이저 100ml</td>\n",
       "      <td>0.00</td>\n",
       "      <td>0.00</td>\n",
       "      <td>0.00</td>\n",
       "      <td>100.0</td>\n",
       "    </tr>\n",
       "    <tr>\n",
       "      <th>222</th>\n",
       "      <td>밀크터치 서양송악 진정크림+송악점보패드(60매)</td>\n",
       "      <td>50.00</td>\n",
       "      <td>50.00</td>\n",
       "      <td>0.00</td>\n",
       "      <td>0.0</td>\n",
       "    </tr>\n",
       "  </tbody>\n",
       "</table>\n",
       "<p>223 rows × 5 columns</p>\n",
       "</div>"
      ],
      "text/plain": [
       "                                         product_name  sooth  moisture   cost  \\\n",
       "0    [증량]닥터지 레드 블레미쉬 클리어 수딩크림 기획 (본품70ml+30ml 추가 증정)   44.74     32.89  22.37   \n",
       "1       에스트라 아토베리어365 크림 80ml 짝꿍기획 (+하이드로에센스 40ml 증정)  31.58     68.42   0.00   \n",
       "2     [단독][1+1] 크리니크 쏙보습크림 50ml 1+1 기획세트 (+애슝 스티커 증정)   0.00    100.00   0.00   \n",
       "3    라로슈포제 시카플라스트 밤B5 100ml 기획(+시카 세럼 10ml,에빠끌라폼15ml)  80.49      2.44  17.07   \n",
       "4             [오원Pick] 닥터자르트 시카페어 크림(50ml+25ml)  한정세트  39.13     17.39  43.48   \n",
       "..                                                ...    ...       ...    ...   \n",
       "218                   메이크프렘 세이프 미 릴리프 인텐시브 CP 크림 80ml  30.77     46.15  23.08   \n",
       "219                      피지오겔 레드수딩 AI 인텐시브 리피드크림 50ml  66.67      0.00  33.33   \n",
       "220                             웰라쥬 리얼 히알루로닉 겔크림 75ml   0.00    100.00   0.00   \n",
       "221                          닥터디퍼런트 131 모이스처라이저 100ml   0.00      0.00   0.00   \n",
       "222                        밀크터치 서양송악 진정크림+송악점보패드(60매)  50.00     50.00   0.00   \n",
       "\n",
       "      func  \n",
       "0      0.0  \n",
       "1      0.0  \n",
       "2      0.0  \n",
       "3      0.0  \n",
       "4      0.0  \n",
       "..     ...  \n",
       "218    0.0  \n",
       "219    0.0  \n",
       "220    0.0  \n",
       "221  100.0  \n",
       "222    0.0  \n",
       "\n",
       "[223 rows x 5 columns]"
      ]
     },
     "execution_count": 19,
     "metadata": {},
     "output_type": "execute_result"
    }
   ],
   "source": [
    "senti_aspect_percent"
   ]
  },
  {
   "cell_type": "code",
   "execution_count": 21,
   "metadata": {},
   "outputs": [],
   "source": [
    "senti_aspect_percent.to_csv('senti_aspect_percent_oily.csv', index = False, columns = ['product_name', 'sooth','moisture','cost','func'])"
   ]
  },
  {
   "cell_type": "markdown",
   "metadata": {},
   "source": [
    "### 속성별 긍정 비율 (%)"
   ]
  },
  {
   "cell_type": "code",
   "execution_count": 22,
   "metadata": {},
   "outputs": [],
   "source": [
    "senti_pos_percent = pd.DataFrame(columns=['product_name', 'sooth','moisture','cost','func'])"
   ]
  },
  {
   "cell_type": "code",
   "execution_count": 24,
   "metadata": {},
   "outputs": [],
   "source": [
    "for i in range(len(senti_product)):\n",
    "    s_per=0\n",
    "    m_per=0\n",
    "    c_per=0\n",
    "    f_per=0\n",
    "    \n",
    "    if sum(senti_product['sooth'][i]) != 0:\n",
    "        s_per=round(senti_product['sooth'][i][1]/sum(senti_product['sooth'][i]), 4)\n",
    "    \n",
    "    if sum(senti_product['moisture'][i]) != 0 :\n",
    "        m_per=round(senti_product['moisture'][i][1]/sum(senti_product['moisture'][i]),4)\n",
    "    \n",
    "    if sum(senti_product['cost'][i]) != 0:\n",
    "        c_per=round(senti_product['cost'][i][1]/sum(senti_product['cost'][i]),4)\n",
    "    \n",
    "    if sum(senti_product['func'][i]) != 0:\n",
    "        f_per=round(senti_product['func'][i][1]/sum(senti_product['func'][i]),4)\n",
    "    \n",
    "    new_data = {\n",
    "        'product_name': senti_product['product_name'][i],\n",
    "        'sooth': s_per*100,\n",
    "        'moisture': m_per*100,\n",
    "        'cost': c_per*100,\n",
    "        'func': f_per*100\n",
    "    }\n",
    "    \n",
    "    senti_pos_percent = senti_pos_percent.append(new_data, ignore_index=True)"
   ]
  },
  {
   "cell_type": "code",
   "execution_count": 25,
   "metadata": {},
   "outputs": [
    {
     "data": {
      "text/html": [
       "<div>\n",
       "<style scoped>\n",
       "    .dataframe tbody tr th:only-of-type {\n",
       "        vertical-align: middle;\n",
       "    }\n",
       "\n",
       "    .dataframe tbody tr th {\n",
       "        vertical-align: top;\n",
       "    }\n",
       "\n",
       "    .dataframe thead th {\n",
       "        text-align: right;\n",
       "    }\n",
       "</style>\n",
       "<table border=\"1\" class=\"dataframe\">\n",
       "  <thead>\n",
       "    <tr style=\"text-align: right;\">\n",
       "      <th></th>\n",
       "      <th>product_name</th>\n",
       "      <th>sooth</th>\n",
       "      <th>moisture</th>\n",
       "      <th>cost</th>\n",
       "      <th>func</th>\n",
       "    </tr>\n",
       "  </thead>\n",
       "  <tbody>\n",
       "    <tr>\n",
       "      <th>0</th>\n",
       "      <td>[증량]닥터지 레드 블레미쉬 클리어 수딩크림 기획 (본품70ml+30ml 추가 증정)</td>\n",
       "      <td>55.88</td>\n",
       "      <td>64.00</td>\n",
       "      <td>47.06</td>\n",
       "      <td>0</td>\n",
       "    </tr>\n",
       "    <tr>\n",
       "      <th>1</th>\n",
       "      <td>에스트라 아토베리어365 크림 80ml 짝꿍기획 (+하이드로에센스 40ml 증정)</td>\n",
       "      <td>50.00</td>\n",
       "      <td>53.85</td>\n",
       "      <td>0.00</td>\n",
       "      <td>0</td>\n",
       "    </tr>\n",
       "    <tr>\n",
       "      <th>2</th>\n",
       "      <td>[단독][1+1] 크리니크 쏙보습크림 50ml 1+1 기획세트 (+애슝 스티커 증정)</td>\n",
       "      <td>0.00</td>\n",
       "      <td>100.00</td>\n",
       "      <td>0.00</td>\n",
       "      <td>0</td>\n",
       "    </tr>\n",
       "    <tr>\n",
       "      <th>3</th>\n",
       "      <td>라로슈포제 시카플라스트 밤B5 100ml 기획(+시카 세럼 10ml,에빠끌라폼15ml)</td>\n",
       "      <td>54.55</td>\n",
       "      <td>100.00</td>\n",
       "      <td>85.71</td>\n",
       "      <td>0</td>\n",
       "    </tr>\n",
       "    <tr>\n",
       "      <th>4</th>\n",
       "      <td>[오원Pick] 닥터자르트 시카페어 크림(50ml+25ml)  한정세트</td>\n",
       "      <td>44.44</td>\n",
       "      <td>50.00</td>\n",
       "      <td>80.00</td>\n",
       "      <td>0</td>\n",
       "    </tr>\n",
       "    <tr>\n",
       "      <th>...</th>\n",
       "      <td>...</td>\n",
       "      <td>...</td>\n",
       "      <td>...</td>\n",
       "      <td>...</td>\n",
       "      <td>...</td>\n",
       "    </tr>\n",
       "    <tr>\n",
       "      <th>218</th>\n",
       "      <td>메이크프렘 세이프 미 릴리프 인텐시브 CP 크림 80ml</td>\n",
       "      <td>25.00</td>\n",
       "      <td>50.00</td>\n",
       "      <td>33.33</td>\n",
       "      <td>0</td>\n",
       "    </tr>\n",
       "    <tr>\n",
       "      <th>219</th>\n",
       "      <td>피지오겔 레드수딩 AI 인텐시브 리피드크림 50ml</td>\n",
       "      <td>100.00</td>\n",
       "      <td>0.00</td>\n",
       "      <td>0.00</td>\n",
       "      <td>0</td>\n",
       "    </tr>\n",
       "    <tr>\n",
       "      <th>220</th>\n",
       "      <td>웰라쥬 리얼 히알루로닉 겔크림 75ml</td>\n",
       "      <td>0.00</td>\n",
       "      <td>100.00</td>\n",
       "      <td>0.00</td>\n",
       "      <td>0</td>\n",
       "    </tr>\n",
       "    <tr>\n",
       "      <th>221</th>\n",
       "      <td>닥터디퍼런트 131 모이스처라이저 100ml</td>\n",
       "      <td>0.00</td>\n",
       "      <td>0.00</td>\n",
       "      <td>0.00</td>\n",
       "      <td>100.0</td>\n",
       "    </tr>\n",
       "    <tr>\n",
       "      <th>222</th>\n",
       "      <td>밀크터치 서양송악 진정크림+송악점보패드(60매)</td>\n",
       "      <td>0.00</td>\n",
       "      <td>0.00</td>\n",
       "      <td>0.00</td>\n",
       "      <td>0</td>\n",
       "    </tr>\n",
       "  </tbody>\n",
       "</table>\n",
       "<p>223 rows × 5 columns</p>\n",
       "</div>"
      ],
      "text/plain": [
       "                                         product_name   sooth  moisture  \\\n",
       "0    [증량]닥터지 레드 블레미쉬 클리어 수딩크림 기획 (본품70ml+30ml 추가 증정)    55.88     64.00   \n",
       "1       에스트라 아토베리어365 크림 80ml 짝꿍기획 (+하이드로에센스 40ml 증정)   50.00     53.85   \n",
       "2     [단독][1+1] 크리니크 쏙보습크림 50ml 1+1 기획세트 (+애슝 스티커 증정)    0.00    100.00   \n",
       "3    라로슈포제 시카플라스트 밤B5 100ml 기획(+시카 세럼 10ml,에빠끌라폼15ml)   54.55    100.00   \n",
       "4             [오원Pick] 닥터자르트 시카페어 크림(50ml+25ml)  한정세트   44.44     50.00   \n",
       "..                                                ...     ...       ...   \n",
       "218                   메이크프렘 세이프 미 릴리프 인텐시브 CP 크림 80ml   25.00     50.00   \n",
       "219                      피지오겔 레드수딩 AI 인텐시브 리피드크림 50ml  100.00      0.00   \n",
       "220                             웰라쥬 리얼 히알루로닉 겔크림 75ml    0.00    100.00   \n",
       "221                          닥터디퍼런트 131 모이스처라이저 100ml    0.00      0.00   \n",
       "222                        밀크터치 서양송악 진정크림+송악점보패드(60매)    0.00      0.00   \n",
       "\n",
       "      cost   func  \n",
       "0    47.06      0  \n",
       "1     0.00      0  \n",
       "2     0.00      0  \n",
       "3    85.71      0  \n",
       "4    80.00      0  \n",
       "..     ...    ...  \n",
       "218  33.33      0  \n",
       "219   0.00      0  \n",
       "220   0.00      0  \n",
       "221   0.00  100.0  \n",
       "222   0.00      0  \n",
       "\n",
       "[223 rows x 5 columns]"
      ]
     },
     "execution_count": 25,
     "metadata": {},
     "output_type": "execute_result"
    }
   ],
   "source": [
    "senti_pos_percent"
   ]
  },
  {
   "cell_type": "code",
   "execution_count": 27,
   "metadata": {},
   "outputs": [],
   "source": [
    "senti_pos_percent.to_csv('senti_pos_percent_oily.csv', index = False, columns = ['product_name', 'sooth','moisture','cost','func'])"
   ]
  },
  {
   "cell_type": "code",
   "execution_count": null,
   "metadata": {},
   "outputs": [],
   "source": []
  }
 ],
 "metadata": {
  "kernelspec": {
   "display_name": "Python 3",
   "language": "python",
   "name": "python3"
  },
  "language_info": {
   "codemirror_mode": {
    "name": "ipython",
    "version": 3
   },
   "file_extension": ".py",
   "mimetype": "text/x-python",
   "name": "python",
   "nbconvert_exporter": "python",
   "pygments_lexer": "ipython3",
   "version": "3.7.1"
  }
 },
 "nbformat": 4,
 "nbformat_minor": 2
}
