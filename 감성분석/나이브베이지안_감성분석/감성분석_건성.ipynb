{
 "cells": [
  {
   "cell_type": "code",
   "execution_count": 1,
   "metadata": {},
   "outputs": [],
   "source": [
    "import csv\n",
    "import pandas as pd\n",
    "import re"
   ]
  },
  {
   "cell_type": "code",
   "execution_count": 2,
   "metadata": {},
   "outputs": [
    {
     "data": {
      "text/html": [
       "<div>\n",
       "<style scoped>\n",
       "    .dataframe tbody tr th:only-of-type {\n",
       "        vertical-align: middle;\n",
       "    }\n",
       "\n",
       "    .dataframe tbody tr th {\n",
       "        vertical-align: top;\n",
       "    }\n",
       "\n",
       "    .dataframe thead th {\n",
       "        text-align: right;\n",
       "    }\n",
       "</style>\n",
       "<table border=\"1\" class=\"dataframe\">\n",
       "  <thead>\n",
       "    <tr style=\"text-align: right;\">\n",
       "      <th></th>\n",
       "      <th>Unnamed: 0</th>\n",
       "      <th>aspect</th>\n",
       "      <th>sentence</th>\n",
       "      <th>review</th>\n",
       "      <th>rating</th>\n",
       "      <th>product_name</th>\n",
       "      <th>word_only</th>\n",
       "      <th>predict</th>\n",
       "    </tr>\n",
       "  </thead>\n",
       "  <tbody>\n",
       "    <tr>\n",
       "      <th>0</th>\n",
       "      <td>0</td>\n",
       "      <td>화장 전 스킨케어</td>\n",
       "      <td>[('두', 'NNG'), ('트', 'VV'), ('업', 'VV'), ('께',...</td>\n",
       "      <td>통째 쓰고 있는 저의 인생크림 건성이라서 보습이 강력한 크림을 좋아하는데 이 크림이...</td>\n",
       "      <td>5</td>\n",
       "      <td>[증량]닥터지 레드 블레미쉬 클리어 수딩크림 기획 (본품70ml+30ml 추가 증정)</td>\n",
       "      <td>['두', '트', '업', '께', '바르', '고', '자', '면', '다음날...</td>\n",
       "      <td>1</td>\n",
       "    </tr>\n",
       "    <tr>\n",
       "      <th>1</th>\n",
       "      <td>1</td>\n",
       "      <td>화장 전 스킨케어</td>\n",
       "      <td>[('바르', 'VA'), ('고', 'EC'), ('나', 'VV'), ('면',...</td>\n",
       "      <td>통째 쓰고 있는 저의 인생크림 건성이라서 보습이 강력한 크림을 좋아하는데 이 크림이...</td>\n",
       "      <td>5</td>\n",
       "      <td>[증량]닥터지 레드 블레미쉬 클리어 수딩크림 기획 (본품70ml+30ml 추가 증정)</td>\n",
       "      <td>['바르', '고', '나', '면', '무겁', '거나', '끈적이', 'ㅁ', ...</td>\n",
       "      <td>0</td>\n",
       "    </tr>\n",
       "    <tr>\n",
       "      <th>2</th>\n",
       "      <td>2</td>\n",
       "      <td>화장 전 스킨케어</td>\n",
       "      <td>[('게', 'NNG'), ('ㄹ', 'JKO'), ('타입', 'NNG'), ('...</td>\n",
       "      <td>이주가량 사용해 보았습니다우선 용기가 펌핑이나 튜브형태가 아니라 위생상 좋지 않은 ...</td>\n",
       "      <td>4</td>\n",
       "      <td>[증량]닥터지 레드 블레미쉬 클리어 수딩크림 기획 (본품70ml+30ml 추가 증정)</td>\n",
       "      <td>['게', 'ㄹ', '타입', '보다', '도', '가볍', '고', '흐름', '...</td>\n",
       "      <td>0</td>\n",
       "    </tr>\n",
       "    <tr>\n",
       "      <th>3</th>\n",
       "      <td>3</td>\n",
       "      <td>피부 진정</td>\n",
       "      <td>[('요즘', 'NNG'), ('마스크', 'NNP'), ('로', 'JKB'), ...</td>\n",
       "      <td>회사동생 추천으로 수분크림으로 최고라 하길래또 귀가 얇은 저로써 바로 주문했어요 요...</td>\n",
       "      <td>5</td>\n",
       "      <td>[증량]닥터지 레드 블레미쉬 클리어 수딩크림 기획 (본품70ml+30ml 추가 증정)</td>\n",
       "      <td>['요즘', '마스크', '로', '인하', '아서', '피부', '트러블', '이...</td>\n",
       "      <td>1</td>\n",
       "    </tr>\n",
       "    <tr>\n",
       "      <th>4</th>\n",
       "      <td>4</td>\n",
       "      <td>화장 전 스킨케어</td>\n",
       "      <td>[('아침', 'NNG'), ('에', 'JKB'), ('일어나', 'VV'), (...</td>\n",
       "      <td>회사동생 추천으로 수분크림으로 최고라 하길래또 귀가 얇은 저로써 바로 주문했어요 요...</td>\n",
       "      <td>5</td>\n",
       "      <td>[증량]닥터지 레드 블레미쉬 클리어 수딩크림 기획 (본품70ml+30ml 추가 증정)</td>\n",
       "      <td>['아침', '에', '일어나', '아서', '화장전', '에', '바르', '고'...</td>\n",
       "      <td>1</td>\n",
       "    </tr>\n",
       "  </tbody>\n",
       "</table>\n",
       "</div>"
      ],
      "text/plain": [
       "   Unnamed: 0     aspect                                           sentence  \\\n",
       "0           0  화장 전 스킨케어  [('두', 'NNG'), ('트', 'VV'), ('업', 'VV'), ('께',...   \n",
       "1           1  화장 전 스킨케어  [('바르', 'VA'), ('고', 'EC'), ('나', 'VV'), ('면',...   \n",
       "2           2  화장 전 스킨케어  [('게', 'NNG'), ('ㄹ', 'JKO'), ('타입', 'NNG'), ('...   \n",
       "3           3      피부 진정  [('요즘', 'NNG'), ('마스크', 'NNP'), ('로', 'JKB'), ...   \n",
       "4           4  화장 전 스킨케어  [('아침', 'NNG'), ('에', 'JKB'), ('일어나', 'VV'), (...   \n",
       "\n",
       "                                              review  rating  \\\n",
       "0  통째 쓰고 있는 저의 인생크림 건성이라서 보습이 강력한 크림을 좋아하는데 이 크림이...       5   \n",
       "1  통째 쓰고 있는 저의 인생크림 건성이라서 보습이 강력한 크림을 좋아하는데 이 크림이...       5   \n",
       "2  이주가량 사용해 보았습니다우선 용기가 펌핑이나 튜브형태가 아니라 위생상 좋지 않은 ...       4   \n",
       "3  회사동생 추천으로 수분크림으로 최고라 하길래또 귀가 얇은 저로써 바로 주문했어요 요...       5   \n",
       "4  회사동생 추천으로 수분크림으로 최고라 하길래또 귀가 얇은 저로써 바로 주문했어요 요...       5   \n",
       "\n",
       "                                       product_name  \\\n",
       "0  [증량]닥터지 레드 블레미쉬 클리어 수딩크림 기획 (본품70ml+30ml 추가 증정)    \n",
       "1  [증량]닥터지 레드 블레미쉬 클리어 수딩크림 기획 (본품70ml+30ml 추가 증정)    \n",
       "2  [증량]닥터지 레드 블레미쉬 클리어 수딩크림 기획 (본품70ml+30ml 추가 증정)    \n",
       "3  [증량]닥터지 레드 블레미쉬 클리어 수딩크림 기획 (본품70ml+30ml 추가 증정)    \n",
       "4  [증량]닥터지 레드 블레미쉬 클리어 수딩크림 기획 (본품70ml+30ml 추가 증정)    \n",
       "\n",
       "                                           word_only  predict  \n",
       "0  ['두', '트', '업', '께', '바르', '고', '자', '면', '다음날...        1  \n",
       "1  ['바르', '고', '나', '면', '무겁', '거나', '끈적이', 'ㅁ', ...        0  \n",
       "2  ['게', 'ㄹ', '타입', '보다', '도', '가볍', '고', '흐름', '...        0  \n",
       "3  ['요즘', '마스크', '로', '인하', '아서', '피부', '트러블', '이...        1  \n",
       "4  ['아침', '에', '일어나', '아서', '화장전', '에', '바르', '고'...        1  "
      ]
     },
     "execution_count": 2,
     "metadata": {},
     "output_type": "execute_result"
    }
   ],
   "source": [
    "df = pd.read_csv('NB_predict_dry.csv')\n",
    "df.head()"
   ]
  },
  {
   "cell_type": "markdown",
   "metadata": {},
   "source": [
    "### 지성 전체분석"
   ]
  },
  {
   "cell_type": "code",
   "execution_count": 3,
   "metadata": {},
   "outputs": [
    {
     "data": {
      "text/plain": [
       "1    3425\n",
       "0    1681\n",
       "Name: predict, dtype: int64"
      ]
     },
     "execution_count": 3,
     "metadata": {},
     "output_type": "execute_result"
    }
   ],
   "source": [
    "df['predict'].value_counts()"
   ]
  },
  {
   "cell_type": "code",
   "execution_count": 4,
   "metadata": {},
   "outputs": [
    {
     "data": {
      "text/plain": [
       "보습           1444\n",
       "화장 전 스킨케어    1042\n",
       "가성비           867\n",
       "피부개선          820\n",
       "피부 진정         683\n",
       "톤업            250\n",
       "Name: aspect, dtype: int64"
      ]
     },
     "execution_count": 4,
     "metadata": {},
     "output_type": "execute_result"
    }
   ],
   "source": [
    "df['aspect'].value_counts()"
   ]
  },
  {
   "cell_type": "code",
   "execution_count": 5,
   "metadata": {},
   "outputs": [],
   "source": [
    "product_list=[]"
   ]
  },
  {
   "cell_type": "code",
   "execution_count": 6,
   "metadata": {},
   "outputs": [],
   "source": [
    "product_list = df['product_name'].unique()"
   ]
  },
  {
   "cell_type": "code",
   "execution_count": 7,
   "metadata": {},
   "outputs": [
    {
     "data": {
      "text/plain": [
       "250"
      ]
     },
     "execution_count": 7,
     "metadata": {},
     "output_type": "execute_result"
    }
   ],
   "source": [
    "len(product_list)"
   ]
  },
  {
   "cell_type": "code",
   "execution_count": 9,
   "metadata": {},
   "outputs": [
    {
     "data": {
      "text/plain": [
       "1    986\n",
       "0    458\n",
       "Name: predict, dtype: int64"
      ]
     },
     "execution_count": 9,
     "metadata": {},
     "output_type": "execute_result"
    }
   ],
   "source": [
    "df.loc[df['aspect'] == '보습']['predict'].value_counts()"
   ]
  },
  {
   "cell_type": "code",
   "execution_count": 10,
   "metadata": {},
   "outputs": [
    {
     "data": {
      "text/plain": [
       "1    768\n",
       "0    274\n",
       "Name: predict, dtype: int64"
      ]
     },
     "execution_count": 10,
     "metadata": {},
     "output_type": "execute_result"
    }
   ],
   "source": [
    "df.loc[df['aspect'] == '화장 전 스킨케어']['predict'].value_counts()"
   ]
  },
  {
   "cell_type": "code",
   "execution_count": 11,
   "metadata": {},
   "outputs": [
    {
     "data": {
      "text/plain": [
       "1    620\n",
       "0    247\n",
       "Name: predict, dtype: int64"
      ]
     },
     "execution_count": 11,
     "metadata": {},
     "output_type": "execute_result"
    }
   ],
   "source": [
    "df.loc[df['aspect'] == '가성비']['predict'].value_counts()"
   ]
  },
  {
   "cell_type": "code",
   "execution_count": 12,
   "metadata": {},
   "outputs": [
    {
     "data": {
      "text/plain": [
       "1    551\n",
       "0    269\n",
       "Name: predict, dtype: int64"
      ]
     },
     "execution_count": 12,
     "metadata": {},
     "output_type": "execute_result"
    }
   ],
   "source": [
    "df.loc[df['aspect'] == '피부개선']['predict'].value_counts()"
   ]
  },
  {
   "cell_type": "code",
   "execution_count": 14,
   "metadata": {},
   "outputs": [
    {
     "data": {
      "text/plain": [
       "0    347\n",
       "1    336\n",
       "Name: predict, dtype: int64"
      ]
     },
     "execution_count": 14,
     "metadata": {},
     "output_type": "execute_result"
    }
   ],
   "source": [
    "df.loc[df['aspect'] == '피부 진정']['predict'].value_counts()"
   ]
  },
  {
   "cell_type": "code",
   "execution_count": 15,
   "metadata": {},
   "outputs": [
    {
     "data": {
      "text/plain": [
       "1    164\n",
       "0     86\n",
       "Name: predict, dtype: int64"
      ]
     },
     "execution_count": 15,
     "metadata": {},
     "output_type": "execute_result"
    }
   ],
   "source": [
    "df.loc[df['aspect'] == '톤업']['predict'].value_counts()"
   ]
  },
  {
   "cell_type": "markdown",
   "metadata": {},
   "source": [
    "----------------------"
   ]
  },
  {
   "cell_type": "markdown",
   "metadata": {},
   "source": [
    "### 제품별 분석"
   ]
  },
  {
   "cell_type": "code",
   "execution_count": 17,
   "metadata": {},
   "outputs": [],
   "source": [
    "senti_product = pd.DataFrame(columns=['product_name','moisture','care','cost','func','sooth','whiten'])"
   ]
  },
  {
   "cell_type": "code",
   "execution_count": 18,
   "metadata": {},
   "outputs": [],
   "source": [
    "for p in product_list:\n",
    "    df_= df.loc[df['product_name']== str(p)]\n",
    "    mo_li = [0,0]\n",
    "    ca_li = [0,0]\n",
    "    co_li = [0,0]\n",
    "    fu_li = [0,0]\n",
    "    so_li = [0,0]\n",
    "    wh_li = [0,0]\n",
    "    \n",
    "    for i in df_.loc[df_['aspect'] == '보습']['predict']:\n",
    "        mo_li[i] += 1\n",
    "    \n",
    "    for i in df_.loc[df_['aspect'] == '화장 전 스킨케어']['predict']:\n",
    "        ca_li[i] += 1\n",
    "    \n",
    "    for i in df_.loc[df_['aspect'] == '가성비']['predict']:\n",
    "        co_li[i] += 1\n",
    "        \n",
    "    for i in df_.loc[df_['aspect'] == '피부개선']['predict']:\n",
    "        fu_li[i] += 1\n",
    "    \n",
    "    for i in df_.loc[df_['aspect'] == '피부 진정']['predict']:\n",
    "        so_li[i] += 1\n",
    "        \n",
    "    for i in df_.loc[df_['aspect'] == '톤업']['predict']:\n",
    "        wh_li[i] += 1\n",
    "        \n",
    "    new_data = {\n",
    "        'product_name': p,\n",
    "        'moisture': mo_li,\n",
    "        'care': ca_li,\n",
    "        'cost': co_li,\n",
    "        'func': fu_li,\n",
    "        'sooth': so_li,\n",
    "        'whiten': wh_li\n",
    "    }\n",
    "    \n",
    "    senti_product = senti_product.append(new_data, ignore_index=True)\n"
   ]
  },
  {
   "cell_type": "code",
   "execution_count": 19,
   "metadata": {},
   "outputs": [
    {
     "data": {
      "text/html": [
       "<div>\n",
       "<style scoped>\n",
       "    .dataframe tbody tr th:only-of-type {\n",
       "        vertical-align: middle;\n",
       "    }\n",
       "\n",
       "    .dataframe tbody tr th {\n",
       "        vertical-align: top;\n",
       "    }\n",
       "\n",
       "    .dataframe thead th {\n",
       "        text-align: right;\n",
       "    }\n",
       "</style>\n",
       "<table border=\"1\" class=\"dataframe\">\n",
       "  <thead>\n",
       "    <tr style=\"text-align: right;\">\n",
       "      <th></th>\n",
       "      <th>product_name</th>\n",
       "      <th>moisture</th>\n",
       "      <th>care</th>\n",
       "      <th>cost</th>\n",
       "      <th>func</th>\n",
       "      <th>sooth</th>\n",
       "      <th>whiten</th>\n",
       "    </tr>\n",
       "  </thead>\n",
       "  <tbody>\n",
       "    <tr>\n",
       "      <th>0</th>\n",
       "      <td>[증량]닥터지 레드 블레미쉬 클리어 수딩크림 기획 (본품70ml+30ml 추가 증정)</td>\n",
       "      <td>[4, 22]</td>\n",
       "      <td>[4, 9]</td>\n",
       "      <td>[0, 16]</td>\n",
       "      <td>[1, 1]</td>\n",
       "      <td>[15, 15]</td>\n",
       "      <td>[0, 1]</td>\n",
       "    </tr>\n",
       "    <tr>\n",
       "      <th>1</th>\n",
       "      <td>에스트라 아토베리어365 크림 80ml 짝꿍기획 (+하이드로에센스 40ml 증정)</td>\n",
       "      <td>[4, 16]</td>\n",
       "      <td>[0, 13]</td>\n",
       "      <td>[2, 2]</td>\n",
       "      <td>[0, 0]</td>\n",
       "      <td>[3, 1]</td>\n",
       "      <td>[0, 0]</td>\n",
       "    </tr>\n",
       "    <tr>\n",
       "      <th>2</th>\n",
       "      <td>라로슈포제 시카플라스트 밤B5 100ml 기획(+시카 세럼 10ml,에빠끌라폼15ml)</td>\n",
       "      <td>[11, 11]</td>\n",
       "      <td>[4, 13]</td>\n",
       "      <td>[2, 9]</td>\n",
       "      <td>[0, 0]</td>\n",
       "      <td>[16, 14]</td>\n",
       "      <td>[4, 2]</td>\n",
       "    </tr>\n",
       "    <tr>\n",
       "      <th>3</th>\n",
       "      <td>[오원Pick] 닥터자르트 시카페어 크림(50ml+25ml)  한정세트</td>\n",
       "      <td>[1, 6]</td>\n",
       "      <td>[3, 5]</td>\n",
       "      <td>[2, 5]</td>\n",
       "      <td>[0, 1]</td>\n",
       "      <td>[6, 8]</td>\n",
       "      <td>[0, 3]</td>\n",
       "    </tr>\n",
       "    <tr>\n",
       "      <th>4</th>\n",
       "      <td>[단독최대용량]밀크터치 서양송악 진정 크림 스페셜세트 (50ml+30ml)</td>\n",
       "      <td>[1, 5]</td>\n",
       "      <td>[0, 4]</td>\n",
       "      <td>[1, 0]</td>\n",
       "      <td>[0, 0]</td>\n",
       "      <td>[0, 1]</td>\n",
       "      <td>[0, 0]</td>\n",
       "    </tr>\n",
       "    <tr>\n",
       "      <th>...</th>\n",
       "      <td>...</td>\n",
       "      <td>...</td>\n",
       "      <td>...</td>\n",
       "      <td>...</td>\n",
       "      <td>...</td>\n",
       "      <td>...</td>\n",
       "      <td>...</td>\n",
       "    </tr>\n",
       "    <tr>\n",
       "      <th>245</th>\n",
       "      <td>피지오겔 레드수딩 AI 인텐시브 리피드크림 50ml</td>\n",
       "      <td>[1, 1]</td>\n",
       "      <td>[0, 0]</td>\n",
       "      <td>[0, 2]</td>\n",
       "      <td>[0, 0]</td>\n",
       "      <td>[0, 0]</td>\n",
       "      <td>[0, 0]</td>\n",
       "    </tr>\n",
       "    <tr>\n",
       "      <th>246</th>\n",
       "      <td>아크웰 리얼 아쿠아 밸런싱 크림 50ml</td>\n",
       "      <td>[0, 1]</td>\n",
       "      <td>[0, 0]</td>\n",
       "      <td>[0, 0]</td>\n",
       "      <td>[0, 0]</td>\n",
       "      <td>[0, 0]</td>\n",
       "      <td>[0, 0]</td>\n",
       "    </tr>\n",
       "    <tr>\n",
       "      <th>247</th>\n",
       "      <td>닥터디퍼런트 131 모이스처라이저 100ml</td>\n",
       "      <td>[2, 1]</td>\n",
       "      <td>[3, 1]</td>\n",
       "      <td>[1, 1]</td>\n",
       "      <td>[0, 6]</td>\n",
       "      <td>[0, 1]</td>\n",
       "      <td>[0, 0]</td>\n",
       "    </tr>\n",
       "    <tr>\n",
       "      <th>248</th>\n",
       "      <td>오리진스 MAD 수분 앰플 크림 50ml (30ml 증정)</td>\n",
       "      <td>[1, 1]</td>\n",
       "      <td>[0, 0]</td>\n",
       "      <td>[0, 1]</td>\n",
       "      <td>[0, 0]</td>\n",
       "      <td>[0, 0]</td>\n",
       "      <td>[0, 0]</td>\n",
       "    </tr>\n",
       "    <tr>\n",
       "      <th>249</th>\n",
       "      <td>밀크터치 서양송악 진정크림+송악점보패드(60매)</td>\n",
       "      <td>[0, 0]</td>\n",
       "      <td>[0, 0]</td>\n",
       "      <td>[0, 1]</td>\n",
       "      <td>[0, 0]</td>\n",
       "      <td>[0, 0]</td>\n",
       "      <td>[0, 0]</td>\n",
       "    </tr>\n",
       "  </tbody>\n",
       "</table>\n",
       "<p>250 rows × 7 columns</p>\n",
       "</div>"
      ],
      "text/plain": [
       "                                         product_name  moisture     care  \\\n",
       "0    [증량]닥터지 레드 블레미쉬 클리어 수딩크림 기획 (본품70ml+30ml 추가 증정)    [4, 22]   [4, 9]   \n",
       "1       에스트라 아토베리어365 크림 80ml 짝꿍기획 (+하이드로에센스 40ml 증정)   [4, 16]  [0, 13]   \n",
       "2    라로슈포제 시카플라스트 밤B5 100ml 기획(+시카 세럼 10ml,에빠끌라폼15ml)  [11, 11]  [4, 13]   \n",
       "3             [오원Pick] 닥터자르트 시카페어 크림(50ml+25ml)  한정세트    [1, 6]   [3, 5]   \n",
       "4           [단독최대용량]밀크터치 서양송악 진정 크림 스페셜세트 (50ml+30ml)    [1, 5]   [0, 4]   \n",
       "..                                                ...       ...      ...   \n",
       "245                      피지오겔 레드수딩 AI 인텐시브 리피드크림 50ml    [1, 1]   [0, 0]   \n",
       "246                            아크웰 리얼 아쿠아 밸런싱 크림 50ml    [0, 1]   [0, 0]   \n",
       "247                          닥터디퍼런트 131 모이스처라이저 100ml    [2, 1]   [3, 1]   \n",
       "248                  오리진스 MAD 수분 앰플 크림 50ml (30ml 증정)    [1, 1]   [0, 0]   \n",
       "249                        밀크터치 서양송악 진정크림+송악점보패드(60매)    [0, 0]   [0, 0]   \n",
       "\n",
       "        cost    func     sooth  whiten  \n",
       "0    [0, 16]  [1, 1]  [15, 15]  [0, 1]  \n",
       "1     [2, 2]  [0, 0]    [3, 1]  [0, 0]  \n",
       "2     [2, 9]  [0, 0]  [16, 14]  [4, 2]  \n",
       "3     [2, 5]  [0, 1]    [6, 8]  [0, 3]  \n",
       "4     [1, 0]  [0, 0]    [0, 1]  [0, 0]  \n",
       "..       ...     ...       ...     ...  \n",
       "245   [0, 2]  [0, 0]    [0, 0]  [0, 0]  \n",
       "246   [0, 0]  [0, 0]    [0, 0]  [0, 0]  \n",
       "247   [1, 1]  [0, 6]    [0, 1]  [0, 0]  \n",
       "248   [0, 1]  [0, 0]    [0, 0]  [0, 0]  \n",
       "249   [0, 1]  [0, 0]    [0, 0]  [0, 0]  \n",
       "\n",
       "[250 rows x 7 columns]"
      ]
     },
     "execution_count": 19,
     "metadata": {},
     "output_type": "execute_result"
    }
   ],
   "source": [
    "senti_product"
   ]
  },
  {
   "cell_type": "code",
   "execution_count": 33,
   "metadata": {},
   "outputs": [],
   "source": [
    "senti_product.to_csv('senti_product_dry.csv', index = False, columns = ['product_name','moisture','care','cost','func','sooth','whiten'])"
   ]
  },
  {
   "cell_type": "markdown",
   "metadata": {},
   "source": [
    "---------------------"
   ]
  },
  {
   "cell_type": "markdown",
   "metadata": {},
   "source": [
    "### 속성별 언급 비율 (%)"
   ]
  },
  {
   "cell_type": "code",
   "execution_count": 26,
   "metadata": {},
   "outputs": [],
   "source": [
    "senti_aspect_percent = pd.DataFrame(columns=['product_name','moisture','care','cost','func','sooth','whiten'])"
   ]
  },
  {
   "cell_type": "code",
   "execution_count": 27,
   "metadata": {},
   "outputs": [],
   "source": [
    "for i in range(len(senti_product)):\n",
    "    m=0\n",
    "    ca=0\n",
    "    co=0\n",
    "    f=0\n",
    "    s=0\n",
    "    w=0\n",
    "\n",
    "    total = sum(senti_product['sooth'][i])+sum(senti_product['moisture'][i])+sum(senti_product['cost'][i])+sum(senti_product['func'][i])+sum(senti_product['whiten'][i])+sum(senti_product['care'][i])\n",
    "    \n",
    "    s=round(sum(senti_product['sooth'][i])/total, 4)\n",
    "    m=round(sum(senti_product['moisture'][i])/total,4)\n",
    "    co=round(sum(senti_product['cost'][i])/total,4)\n",
    "    f=round(sum(senti_product['func'][i])/total,4)\n",
    "    ca=round(sum(senti_product['care'][i])/total,4)\n",
    "    w=round(sum(senti_product['whiten'][i])/total,4)\n",
    "    \n",
    "    \n",
    "    new_data = {\n",
    "        'product_name': senti_product['product_name'][i],\n",
    "        'sooth': s*100,\n",
    "        'moisture': m*100,\n",
    "        'cost': co*100,\n",
    "        'func': f*100,\n",
    "        'care':ca*100,\n",
    "        'whiten':w*100\n",
    "    }\n",
    "    \n",
    "    senti_aspect_percent = senti_aspect_percent.append(new_data, ignore_index=True)"
   ]
  },
  {
   "cell_type": "code",
   "execution_count": 28,
   "metadata": {},
   "outputs": [
    {
     "data": {
      "text/html": [
       "<div>\n",
       "<style scoped>\n",
       "    .dataframe tbody tr th:only-of-type {\n",
       "        vertical-align: middle;\n",
       "    }\n",
       "\n",
       "    .dataframe tbody tr th {\n",
       "        vertical-align: top;\n",
       "    }\n",
       "\n",
       "    .dataframe thead th {\n",
       "        text-align: right;\n",
       "    }\n",
       "</style>\n",
       "<table border=\"1\" class=\"dataframe\">\n",
       "  <thead>\n",
       "    <tr style=\"text-align: right;\">\n",
       "      <th></th>\n",
       "      <th>product_name</th>\n",
       "      <th>moisture</th>\n",
       "      <th>care</th>\n",
       "      <th>cost</th>\n",
       "      <th>func</th>\n",
       "      <th>sooth</th>\n",
       "      <th>whiten</th>\n",
       "    </tr>\n",
       "  </thead>\n",
       "  <tbody>\n",
       "    <tr>\n",
       "      <th>0</th>\n",
       "      <td>[증량]닥터지 레드 블레미쉬 클리어 수딩크림 기획 (본품70ml+30ml 추가 증정)</td>\n",
       "      <td>29.55</td>\n",
       "      <td>14.77</td>\n",
       "      <td>18.18</td>\n",
       "      <td>2.27</td>\n",
       "      <td>34.09</td>\n",
       "      <td>1.14</td>\n",
       "    </tr>\n",
       "    <tr>\n",
       "      <th>1</th>\n",
       "      <td>에스트라 아토베리어365 크림 80ml 짝꿍기획 (+하이드로에센스 40ml 증정)</td>\n",
       "      <td>48.78</td>\n",
       "      <td>31.71</td>\n",
       "      <td>9.76</td>\n",
       "      <td>0.00</td>\n",
       "      <td>9.76</td>\n",
       "      <td>0.00</td>\n",
       "    </tr>\n",
       "    <tr>\n",
       "      <th>2</th>\n",
       "      <td>라로슈포제 시카플라스트 밤B5 100ml 기획(+시카 세럼 10ml,에빠끌라폼15ml)</td>\n",
       "      <td>25.58</td>\n",
       "      <td>19.77</td>\n",
       "      <td>12.79</td>\n",
       "      <td>0.00</td>\n",
       "      <td>34.88</td>\n",
       "      <td>6.98</td>\n",
       "    </tr>\n",
       "    <tr>\n",
       "      <th>3</th>\n",
       "      <td>[오원Pick] 닥터자르트 시카페어 크림(50ml+25ml)  한정세트</td>\n",
       "      <td>17.50</td>\n",
       "      <td>20.00</td>\n",
       "      <td>17.50</td>\n",
       "      <td>2.50</td>\n",
       "      <td>35.00</td>\n",
       "      <td>7.50</td>\n",
       "    </tr>\n",
       "    <tr>\n",
       "      <th>4</th>\n",
       "      <td>[단독최대용량]밀크터치 서양송악 진정 크림 스페셜세트 (50ml+30ml)</td>\n",
       "      <td>50.00</td>\n",
       "      <td>33.33</td>\n",
       "      <td>8.33</td>\n",
       "      <td>0.00</td>\n",
       "      <td>8.33</td>\n",
       "      <td>0.00</td>\n",
       "    </tr>\n",
       "    <tr>\n",
       "      <th>...</th>\n",
       "      <td>...</td>\n",
       "      <td>...</td>\n",
       "      <td>...</td>\n",
       "      <td>...</td>\n",
       "      <td>...</td>\n",
       "      <td>...</td>\n",
       "      <td>...</td>\n",
       "    </tr>\n",
       "    <tr>\n",
       "      <th>245</th>\n",
       "      <td>피지오겔 레드수딩 AI 인텐시브 리피드크림 50ml</td>\n",
       "      <td>50.00</td>\n",
       "      <td>0.00</td>\n",
       "      <td>50.00</td>\n",
       "      <td>0.00</td>\n",
       "      <td>0.00</td>\n",
       "      <td>0.00</td>\n",
       "    </tr>\n",
       "    <tr>\n",
       "      <th>246</th>\n",
       "      <td>아크웰 리얼 아쿠아 밸런싱 크림 50ml</td>\n",
       "      <td>100.00</td>\n",
       "      <td>0.00</td>\n",
       "      <td>0.00</td>\n",
       "      <td>0.00</td>\n",
       "      <td>0.00</td>\n",
       "      <td>0.00</td>\n",
       "    </tr>\n",
       "    <tr>\n",
       "      <th>247</th>\n",
       "      <td>닥터디퍼런트 131 모이스처라이저 100ml</td>\n",
       "      <td>18.75</td>\n",
       "      <td>25.00</td>\n",
       "      <td>12.50</td>\n",
       "      <td>37.50</td>\n",
       "      <td>6.25</td>\n",
       "      <td>0.00</td>\n",
       "    </tr>\n",
       "    <tr>\n",
       "      <th>248</th>\n",
       "      <td>오리진스 MAD 수분 앰플 크림 50ml (30ml 증정)</td>\n",
       "      <td>66.67</td>\n",
       "      <td>0.00</td>\n",
       "      <td>33.33</td>\n",
       "      <td>0.00</td>\n",
       "      <td>0.00</td>\n",
       "      <td>0.00</td>\n",
       "    </tr>\n",
       "    <tr>\n",
       "      <th>249</th>\n",
       "      <td>밀크터치 서양송악 진정크림+송악점보패드(60매)</td>\n",
       "      <td>0.00</td>\n",
       "      <td>0.00</td>\n",
       "      <td>100.00</td>\n",
       "      <td>0.00</td>\n",
       "      <td>0.00</td>\n",
       "      <td>0.00</td>\n",
       "    </tr>\n",
       "  </tbody>\n",
       "</table>\n",
       "<p>250 rows × 7 columns</p>\n",
       "</div>"
      ],
      "text/plain": [
       "                                         product_name  moisture   care  \\\n",
       "0    [증량]닥터지 레드 블레미쉬 클리어 수딩크림 기획 (본품70ml+30ml 추가 증정)      29.55  14.77   \n",
       "1       에스트라 아토베리어365 크림 80ml 짝꿍기획 (+하이드로에센스 40ml 증정)     48.78  31.71   \n",
       "2    라로슈포제 시카플라스트 밤B5 100ml 기획(+시카 세럼 10ml,에빠끌라폼15ml)     25.58  19.77   \n",
       "3             [오원Pick] 닥터자르트 시카페어 크림(50ml+25ml)  한정세트     17.50  20.00   \n",
       "4           [단독최대용량]밀크터치 서양송악 진정 크림 스페셜세트 (50ml+30ml)     50.00  33.33   \n",
       "..                                                ...       ...    ...   \n",
       "245                      피지오겔 레드수딩 AI 인텐시브 리피드크림 50ml     50.00   0.00   \n",
       "246                            아크웰 리얼 아쿠아 밸런싱 크림 50ml    100.00   0.00   \n",
       "247                          닥터디퍼런트 131 모이스처라이저 100ml     18.75  25.00   \n",
       "248                  오리진스 MAD 수분 앰플 크림 50ml (30ml 증정)     66.67   0.00   \n",
       "249                        밀크터치 서양송악 진정크림+송악점보패드(60매)      0.00   0.00   \n",
       "\n",
       "       cost   func  sooth  whiten  \n",
       "0     18.18   2.27  34.09    1.14  \n",
       "1      9.76   0.00   9.76    0.00  \n",
       "2     12.79   0.00  34.88    6.98  \n",
       "3     17.50   2.50  35.00    7.50  \n",
       "4      8.33   0.00   8.33    0.00  \n",
       "..      ...    ...    ...     ...  \n",
       "245   50.00   0.00   0.00    0.00  \n",
       "246    0.00   0.00   0.00    0.00  \n",
       "247   12.50  37.50   6.25    0.00  \n",
       "248   33.33   0.00   0.00    0.00  \n",
       "249  100.00   0.00   0.00    0.00  \n",
       "\n",
       "[250 rows x 7 columns]"
      ]
     },
     "execution_count": 28,
     "metadata": {},
     "output_type": "execute_result"
    }
   ],
   "source": [
    "senti_aspect_percent"
   ]
  },
  {
   "cell_type": "code",
   "execution_count": 23,
   "metadata": {},
   "outputs": [],
   "source": [
    "senti_aspect_percent.to_csv('senti_aspect_percent_dry.csv', index = False, columns = ['product_name','moisture','care','cost','func','sooth','whiten'])"
   ]
  },
  {
   "cell_type": "markdown",
   "metadata": {},
   "source": [
    "### 속성별 긍정 비율 (%)"
   ]
  },
  {
   "cell_type": "code",
   "execution_count": 29,
   "metadata": {},
   "outputs": [],
   "source": [
    "senti_pos_percent = pd.DataFrame(columns=['product_name','moisture','care','cost','func','sooth','whiten'])"
   ]
  },
  {
   "cell_type": "code",
   "execution_count": 30,
   "metadata": {},
   "outputs": [],
   "source": [
    "for i in range(len(senti_product)):\n",
    "    m=0\n",
    "    ca=0\n",
    "    co=0\n",
    "    f=0\n",
    "    s=0\n",
    "    w=0\n",
    "    \n",
    "    if sum(senti_product['sooth'][i]) != 0:\n",
    "        s=round(senti_product['sooth'][i][1]/sum(senti_product['sooth'][i]), 4)\n",
    "    \n",
    "    if sum(senti_product['moisture'][i]) != 0 :\n",
    "        m=round(senti_product['moisture'][i][1]/sum(senti_product['moisture'][i]),4)\n",
    "    \n",
    "    if sum(senti_product['cost'][i]) != 0:\n",
    "        co=round(senti_product['cost'][i][1]/sum(senti_product['cost'][i]),4)\n",
    "    \n",
    "    if sum(senti_product['func'][i]) != 0:\n",
    "        f=round(senti_product['func'][i][1]/sum(senti_product['func'][i]),4)\n",
    "        \n",
    "    if sum(senti_product['care'][i]) != 0:\n",
    "        ca=round(senti_product['care'][i][1]/sum(senti_product['care'][i]),4)\n",
    "    \n",
    "    if sum(senti_product['whiten'][i]) != 0:\n",
    "        w=round(senti_product['whiten'][i][1]/sum(senti_product['whiten'][i]),4)\n",
    "    \n",
    "    new_data = {\n",
    "        'product_name': senti_product['product_name'][i],\n",
    "        'sooth': s*100,\n",
    "        'moisture': m*100,\n",
    "        'cost': co*100,\n",
    "        'func': f*100,\n",
    "        'care':ca*100,\n",
    "        'whiten':w*100\n",
    "    }\n",
    "    \n",
    "    senti_pos_percent = senti_pos_percent.append(new_data, ignore_index=True)"
   ]
  },
  {
   "cell_type": "code",
   "execution_count": 31,
   "metadata": {},
   "outputs": [
    {
     "data": {
      "text/html": [
       "<div>\n",
       "<style scoped>\n",
       "    .dataframe tbody tr th:only-of-type {\n",
       "        vertical-align: middle;\n",
       "    }\n",
       "\n",
       "    .dataframe tbody tr th {\n",
       "        vertical-align: top;\n",
       "    }\n",
       "\n",
       "    .dataframe thead th {\n",
       "        text-align: right;\n",
       "    }\n",
       "</style>\n",
       "<table border=\"1\" class=\"dataframe\">\n",
       "  <thead>\n",
       "    <tr style=\"text-align: right;\">\n",
       "      <th></th>\n",
       "      <th>product_name</th>\n",
       "      <th>moisture</th>\n",
       "      <th>care</th>\n",
       "      <th>cost</th>\n",
       "      <th>func</th>\n",
       "      <th>sooth</th>\n",
       "      <th>whiten</th>\n",
       "    </tr>\n",
       "  </thead>\n",
       "  <tbody>\n",
       "    <tr>\n",
       "      <th>0</th>\n",
       "      <td>[증량]닥터지 레드 블레미쉬 클리어 수딩크림 기획 (본품70ml+30ml 추가 증정)</td>\n",
       "      <td>84.62</td>\n",
       "      <td>69.23</td>\n",
       "      <td>100.00</td>\n",
       "      <td>50.0</td>\n",
       "      <td>50.00</td>\n",
       "      <td>100.00</td>\n",
       "    </tr>\n",
       "    <tr>\n",
       "      <th>1</th>\n",
       "      <td>에스트라 아토베리어365 크림 80ml 짝꿍기획 (+하이드로에센스 40ml 증정)</td>\n",
       "      <td>80.00</td>\n",
       "      <td>100.00</td>\n",
       "      <td>50.00</td>\n",
       "      <td>0.0</td>\n",
       "      <td>25.00</td>\n",
       "      <td>0.00</td>\n",
       "    </tr>\n",
       "    <tr>\n",
       "      <th>2</th>\n",
       "      <td>라로슈포제 시카플라스트 밤B5 100ml 기획(+시카 세럼 10ml,에빠끌라폼15ml)</td>\n",
       "      <td>50.00</td>\n",
       "      <td>76.47</td>\n",
       "      <td>81.82</td>\n",
       "      <td>0.0</td>\n",
       "      <td>46.67</td>\n",
       "      <td>33.33</td>\n",
       "    </tr>\n",
       "    <tr>\n",
       "      <th>3</th>\n",
       "      <td>[오원Pick] 닥터자르트 시카페어 크림(50ml+25ml)  한정세트</td>\n",
       "      <td>85.71</td>\n",
       "      <td>62.50</td>\n",
       "      <td>71.43</td>\n",
       "      <td>100.0</td>\n",
       "      <td>57.14</td>\n",
       "      <td>100.00</td>\n",
       "    </tr>\n",
       "    <tr>\n",
       "      <th>4</th>\n",
       "      <td>[단독최대용량]밀크터치 서양송악 진정 크림 스페셜세트 (50ml+30ml)</td>\n",
       "      <td>83.33</td>\n",
       "      <td>100.00</td>\n",
       "      <td>0.00</td>\n",
       "      <td>0.0</td>\n",
       "      <td>100.00</td>\n",
       "      <td>0.00</td>\n",
       "    </tr>\n",
       "    <tr>\n",
       "      <th>...</th>\n",
       "      <td>...</td>\n",
       "      <td>...</td>\n",
       "      <td>...</td>\n",
       "      <td>...</td>\n",
       "      <td>...</td>\n",
       "      <td>...</td>\n",
       "      <td>...</td>\n",
       "    </tr>\n",
       "    <tr>\n",
       "      <th>245</th>\n",
       "      <td>피지오겔 레드수딩 AI 인텐시브 리피드크림 50ml</td>\n",
       "      <td>50.00</td>\n",
       "      <td>0.00</td>\n",
       "      <td>100.00</td>\n",
       "      <td>0.0</td>\n",
       "      <td>0.00</td>\n",
       "      <td>0.00</td>\n",
       "    </tr>\n",
       "    <tr>\n",
       "      <th>246</th>\n",
       "      <td>아크웰 리얼 아쿠아 밸런싱 크림 50ml</td>\n",
       "      <td>100.00</td>\n",
       "      <td>0.00</td>\n",
       "      <td>0.00</td>\n",
       "      <td>0.0</td>\n",
       "      <td>0.00</td>\n",
       "      <td>0.00</td>\n",
       "    </tr>\n",
       "    <tr>\n",
       "      <th>247</th>\n",
       "      <td>닥터디퍼런트 131 모이스처라이저 100ml</td>\n",
       "      <td>33.33</td>\n",
       "      <td>25.00</td>\n",
       "      <td>50.00</td>\n",
       "      <td>100.0</td>\n",
       "      <td>100.00</td>\n",
       "      <td>0.00</td>\n",
       "    </tr>\n",
       "    <tr>\n",
       "      <th>248</th>\n",
       "      <td>오리진스 MAD 수분 앰플 크림 50ml (30ml 증정)</td>\n",
       "      <td>50.00</td>\n",
       "      <td>0.00</td>\n",
       "      <td>100.00</td>\n",
       "      <td>0.0</td>\n",
       "      <td>0.00</td>\n",
       "      <td>0.00</td>\n",
       "    </tr>\n",
       "    <tr>\n",
       "      <th>249</th>\n",
       "      <td>밀크터치 서양송악 진정크림+송악점보패드(60매)</td>\n",
       "      <td>0.00</td>\n",
       "      <td>0.00</td>\n",
       "      <td>100.00</td>\n",
       "      <td>0.0</td>\n",
       "      <td>0.00</td>\n",
       "      <td>0.00</td>\n",
       "    </tr>\n",
       "  </tbody>\n",
       "</table>\n",
       "<p>250 rows × 7 columns</p>\n",
       "</div>"
      ],
      "text/plain": [
       "                                         product_name  moisture    care  \\\n",
       "0    [증량]닥터지 레드 블레미쉬 클리어 수딩크림 기획 (본품70ml+30ml 추가 증정)      84.62   69.23   \n",
       "1       에스트라 아토베리어365 크림 80ml 짝꿍기획 (+하이드로에센스 40ml 증정)     80.00  100.00   \n",
       "2    라로슈포제 시카플라스트 밤B5 100ml 기획(+시카 세럼 10ml,에빠끌라폼15ml)     50.00   76.47   \n",
       "3             [오원Pick] 닥터자르트 시카페어 크림(50ml+25ml)  한정세트     85.71   62.50   \n",
       "4           [단독최대용량]밀크터치 서양송악 진정 크림 스페셜세트 (50ml+30ml)     83.33  100.00   \n",
       "..                                                ...       ...     ...   \n",
       "245                      피지오겔 레드수딩 AI 인텐시브 리피드크림 50ml     50.00    0.00   \n",
       "246                            아크웰 리얼 아쿠아 밸런싱 크림 50ml    100.00    0.00   \n",
       "247                          닥터디퍼런트 131 모이스처라이저 100ml     33.33   25.00   \n",
       "248                  오리진스 MAD 수분 앰플 크림 50ml (30ml 증정)     50.00    0.00   \n",
       "249                        밀크터치 서양송악 진정크림+송악점보패드(60매)      0.00    0.00   \n",
       "\n",
       "       cost   func   sooth  whiten  \n",
       "0    100.00   50.0   50.00  100.00  \n",
       "1     50.00    0.0   25.00    0.00  \n",
       "2     81.82    0.0   46.67   33.33  \n",
       "3     71.43  100.0   57.14  100.00  \n",
       "4      0.00    0.0  100.00    0.00  \n",
       "..      ...    ...     ...     ...  \n",
       "245  100.00    0.0    0.00    0.00  \n",
       "246    0.00    0.0    0.00    0.00  \n",
       "247   50.00  100.0  100.00    0.00  \n",
       "248  100.00    0.0    0.00    0.00  \n",
       "249  100.00    0.0    0.00    0.00  \n",
       "\n",
       "[250 rows x 7 columns]"
      ]
     },
     "execution_count": 31,
     "metadata": {},
     "output_type": "execute_result"
    }
   ],
   "source": [
    "senti_pos_percent"
   ]
  },
  {
   "cell_type": "code",
   "execution_count": 32,
   "metadata": {},
   "outputs": [],
   "source": [
    "senti_pos_percent.to_csv('senti_pos_percent_dry.csv', index = False, columns = ['product_name','moisture','care','cost','func','sooth','whiten'])"
   ]
  },
  {
   "cell_type": "code",
   "execution_count": null,
   "metadata": {},
   "outputs": [],
   "source": []
  }
 ],
 "metadata": {
  "kernelspec": {
   "display_name": "Python 3",
   "language": "python",
   "name": "python3"
  },
  "language_info": {
   "codemirror_mode": {
    "name": "ipython",
    "version": 3
   },
   "file_extension": ".py",
   "mimetype": "text/x-python",
   "name": "python",
   "nbconvert_exporter": "python",
   "pygments_lexer": "ipython3",
   "version": "3.7.1"
  }
 },
 "nbformat": 4,
 "nbformat_minor": 2
}
