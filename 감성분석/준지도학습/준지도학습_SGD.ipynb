{
 "cells": [
  {
   "cell_type": "code",
   "execution_count": 1,
   "metadata": {},
   "outputs": [],
   "source": [
    "import pandas as pd\n",
    "import numpy as np"
   ]
  },
  {
   "cell_type": "code",
   "execution_count": 2,
   "metadata": {},
   "outputs": [
    {
     "data": {
      "text/html": [
       "<div>\n",
       "<style scoped>\n",
       "    .dataframe tbody tr th:only-of-type {\n",
       "        vertical-align: middle;\n",
       "    }\n",
       "\n",
       "    .dataframe tbody tr th {\n",
       "        vertical-align: top;\n",
       "    }\n",
       "\n",
       "    .dataframe thead th {\n",
       "        text-align: right;\n",
       "    }\n",
       "</style>\n",
       "<table border=\"1\" class=\"dataframe\">\n",
       "  <thead>\n",
       "    <tr style=\"text-align: right;\">\n",
       "      <th></th>\n",
       "      <th>Column1</th>\n",
       "      <th>product_name</th>\n",
       "      <th>rating</th>\n",
       "      <th>skin_type</th>\n",
       "      <th>review</th>\n",
       "      <th>review_token</th>\n",
       "      <th>review_token_1</th>\n",
       "    </tr>\n",
       "  </thead>\n",
       "  <tbody>\n",
       "    <tr>\n",
       "      <th>0</th>\n",
       "      <td>0</td>\n",
       "      <td>[증량]닥터지 레드 블레미쉬 클리어 수딩크림 기획 (본품70ml+30ml 추가 증정)</td>\n",
       "      <td>5</td>\n",
       "      <td>복합성</td>\n",
       "      <td>제품은 정말 사용해보시라고 추천드리고싶어요진짜 좋은 제품이거든요사춘기때 여드름 고민...</td>\n",
       "      <td>[('제품', 'NNG'), ('은', 'JX'), ('정말', 'MAG'), ('...</td>\n",
       "      <td>[('제품', 'NNG'), ('은', 'JX'), ('정말', 'MAG'), ('...</td>\n",
       "    </tr>\n",
       "    <tr>\n",
       "      <th>1</th>\n",
       "      <td>1</td>\n",
       "      <td>[증량]닥터지 레드 블레미쉬 클리어 수딩크림 기획 (본품70ml+30ml 추가 증정)</td>\n",
       "      <td>5</td>\n",
       "      <td>복합성</td>\n",
       "      <td>간단정리 자극없이 무난함 봄여름가을에 적당한 수분감 겨울엔 두겹 레이어링하면 쫀쫀 ...</td>\n",
       "      <td>[('간단', 'XR'), ('정리', 'NNG'), ('자극', 'NNG'), (...</td>\n",
       "      <td>[('간단', 'XR'), ('정리', 'NNG'), ('자극', 'NNG'), (...</td>\n",
       "    </tr>\n",
       "    <tr>\n",
       "      <th>2</th>\n",
       "      <td>2</td>\n",
       "      <td>[증량]닥터지 레드 블레미쉬 클리어 수딩크림 기획 (본품70ml+30ml 추가 증정)</td>\n",
       "      <td>5</td>\n",
       "      <td>복합성</td>\n",
       "      <td>나의 피부상태 복합성 트러블 조금만 자극적이면 피부 뒤집어짐 장점 여드름 짜거나 엄...</td>\n",
       "      <td>[('나', 'NP'), ('의', 'JKG'), ('피부', 'NNG'), ('상...</td>\n",
       "      <td>[('나', 'NP'), ('의', 'JKG'), ('피부', 'NNG'), ('상...</td>\n",
       "    </tr>\n",
       "    <tr>\n",
       "      <th>3</th>\n",
       "      <td>3</td>\n",
       "      <td>[증량]닥터지 레드 블레미쉬 클리어 수딩크림 기획 (본품70ml+30ml 추가 증정)</td>\n",
       "      <td>5</td>\n",
       "      <td>지성</td>\n",
       "      <td>또 샀어요 진짜 닥터지 최고입니다 건성분들이 쓰시기에는 너무 빨리 날아가서 피부에 ...</td>\n",
       "      <td>[('또', 'MAJ'), ('사', 'VV'), ('았', 'EP'), ('어요'...</td>\n",
       "      <td>[('또', 'MAJ'), ('사', 'VV'), ('았', 'EP'), ('어요'...</td>\n",
       "    </tr>\n",
       "    <tr>\n",
       "      <th>4</th>\n",
       "      <td>4</td>\n",
       "      <td>[증량]닥터지 레드 블레미쉬 클리어 수딩크림 기획 (본품70ml+30ml 추가 증정)</td>\n",
       "      <td>5</td>\n",
       "      <td>복합성</td>\n",
       "      <td>닥터지 크림은 워낙 유명하기도 하고 성분이 순하고 진정효과가 좋아서 꾸준히 구매해왔...</td>\n",
       "      <td>[('닥터', 'NNP'), ('지', 'NNB'), ('크림', 'NNP'), (...</td>\n",
       "      <td>[('닥터', 'NNP'), ('지', 'NNB'), ('크림', 'NNP'), (...</td>\n",
       "    </tr>\n",
       "  </tbody>\n",
       "</table>\n",
       "</div>"
      ],
      "text/plain": [
       "   Column1                                      product_name  rating  \\\n",
       "0        0  [증량]닥터지 레드 블레미쉬 클리어 수딩크림 기획 (본품70ml+30ml 추가 증정)        5   \n",
       "1        1  [증량]닥터지 레드 블레미쉬 클리어 수딩크림 기획 (본품70ml+30ml 추가 증정)        5   \n",
       "2        2  [증량]닥터지 레드 블레미쉬 클리어 수딩크림 기획 (본품70ml+30ml 추가 증정)        5   \n",
       "3        3  [증량]닥터지 레드 블레미쉬 클리어 수딩크림 기획 (본품70ml+30ml 추가 증정)        5   \n",
       "4        4  [증량]닥터지 레드 블레미쉬 클리어 수딩크림 기획 (본품70ml+30ml 추가 증정)        5   \n",
       "\n",
       "  skin_type                                             review  \\\n",
       "0       복합성  제품은 정말 사용해보시라고 추천드리고싶어요진짜 좋은 제품이거든요사춘기때 여드름 고민...   \n",
       "1       복합성  간단정리 자극없이 무난함 봄여름가을에 적당한 수분감 겨울엔 두겹 레이어링하면 쫀쫀 ...   \n",
       "2       복합성  나의 피부상태 복합성 트러블 조금만 자극적이면 피부 뒤집어짐 장점 여드름 짜거나 엄...   \n",
       "3        지성  또 샀어요 진짜 닥터지 최고입니다 건성분들이 쓰시기에는 너무 빨리 날아가서 피부에 ...   \n",
       "4       복합성  닥터지 크림은 워낙 유명하기도 하고 성분이 순하고 진정효과가 좋아서 꾸준히 구매해왔...   \n",
       "\n",
       "                                        review_token  \\\n",
       "0  [('제품', 'NNG'), ('은', 'JX'), ('정말', 'MAG'), ('...   \n",
       "1  [('간단', 'XR'), ('정리', 'NNG'), ('자극', 'NNG'), (...   \n",
       "2  [('나', 'NP'), ('의', 'JKG'), ('피부', 'NNG'), ('상...   \n",
       "3  [('또', 'MAJ'), ('사', 'VV'), ('았', 'EP'), ('어요'...   \n",
       "4  [('닥터', 'NNP'), ('지', 'NNB'), ('크림', 'NNP'), (...   \n",
       "\n",
       "                                      review_token_1  \n",
       "0  [('제품', 'NNG'), ('은', 'JX'), ('정말', 'MAG'), ('...  \n",
       "1  [('간단', 'XR'), ('정리', 'NNG'), ('자극', 'NNG'), (...  \n",
       "2  [('나', 'NP'), ('의', 'JKG'), ('피부', 'NNG'), ('상...  \n",
       "3  [('또', 'MAJ'), ('사', 'VV'), ('았', 'EP'), ('어요'...  \n",
       "4  [('닥터', 'NNP'), ('지', 'NNB'), ('크림', 'NNP'), (...  "
      ]
     },
     "execution_count": 2,
     "metadata": {},
     "output_type": "execute_result"
    }
   ],
   "source": [
    "data = pd.read_csv('type_classification_tokens.csv', encoding='cp949')\n",
    "data.head()"
   ]
  },
  {
   "cell_type": "code",
   "execution_count": 5,
   "metadata": {},
   "outputs": [
    {
     "data": {
      "text/html": [
       "<div>\n",
       "<style scoped>\n",
       "    .dataframe tbody tr th:only-of-type {\n",
       "        vertical-align: middle;\n",
       "    }\n",
       "\n",
       "    .dataframe tbody tr th {\n",
       "        vertical-align: top;\n",
       "    }\n",
       "\n",
       "    .dataframe thead th {\n",
       "        text-align: right;\n",
       "    }\n",
       "</style>\n",
       "<table border=\"1\" class=\"dataframe\">\n",
       "  <thead>\n",
       "    <tr style=\"text-align: right;\">\n",
       "      <th></th>\n",
       "      <th>product_name</th>\n",
       "      <th>rating</th>\n",
       "      <th>skin_type</th>\n",
       "      <th>review</th>\n",
       "    </tr>\n",
       "  </thead>\n",
       "  <tbody>\n",
       "    <tr>\n",
       "      <th>0</th>\n",
       "      <td>[증량]닥터지 레드 블레미쉬 클리어 수딩크림 기획 (본품70ml+30ml 추가 증정)</td>\n",
       "      <td>5</td>\n",
       "      <td>복합성</td>\n",
       "      <td>제품은 정말 사용해보시라고 추천드리고싶어요진짜 좋은 제품이거든요사춘기때 여드름 고민...</td>\n",
       "    </tr>\n",
       "    <tr>\n",
       "      <th>1</th>\n",
       "      <td>[증량]닥터지 레드 블레미쉬 클리어 수딩크림 기획 (본품70ml+30ml 추가 증정)</td>\n",
       "      <td>5</td>\n",
       "      <td>복합성</td>\n",
       "      <td>간단정리 자극없이 무난함 봄여름가을에 적당한 수분감 겨울엔 두겹 레이어링하면 쫀쫀 ...</td>\n",
       "    </tr>\n",
       "    <tr>\n",
       "      <th>2</th>\n",
       "      <td>[증량]닥터지 레드 블레미쉬 클리어 수딩크림 기획 (본품70ml+30ml 추가 증정)</td>\n",
       "      <td>5</td>\n",
       "      <td>복합성</td>\n",
       "      <td>나의 피부상태 복합성 트러블 조금만 자극적이면 피부 뒤집어짐 장점 여드름 짜거나 엄...</td>\n",
       "    </tr>\n",
       "    <tr>\n",
       "      <th>3</th>\n",
       "      <td>[증량]닥터지 레드 블레미쉬 클리어 수딩크림 기획 (본품70ml+30ml 추가 증정)</td>\n",
       "      <td>5</td>\n",
       "      <td>지성</td>\n",
       "      <td>또 샀어요 진짜 닥터지 최고입니다 건성분들이 쓰시기에는 너무 빨리 날아가서 피부에 ...</td>\n",
       "    </tr>\n",
       "    <tr>\n",
       "      <th>4</th>\n",
       "      <td>[증량]닥터지 레드 블레미쉬 클리어 수딩크림 기획 (본품70ml+30ml 추가 증정)</td>\n",
       "      <td>5</td>\n",
       "      <td>복합성</td>\n",
       "      <td>닥터지 크림은 워낙 유명하기도 하고 성분이 순하고 진정효과가 좋아서 꾸준히 구매해왔...</td>\n",
       "    </tr>\n",
       "    <tr>\n",
       "      <th>...</th>\n",
       "      <td>...</td>\n",
       "      <td>...</td>\n",
       "      <td>...</td>\n",
       "      <td>...</td>\n",
       "    </tr>\n",
       "    <tr>\n",
       "      <th>90417</th>\n",
       "      <td>밀크터치 서양송악 진정크림+송악점보패드(60매)</td>\n",
       "      <td>5</td>\n",
       "      <td>None</td>\n",
       "      <td>최애 입니다이제 이것만 쓸거예요또사러 가야지 눈누난나 신난다</td>\n",
       "    </tr>\n",
       "    <tr>\n",
       "      <th>90418</th>\n",
       "      <td>밀크터치 서양송악 진정크림+송악점보패드(60매)</td>\n",
       "      <td>5</td>\n",
       "      <td>None</td>\n",
       "      <td>자극이 없고 일단은 너무 촉촉해서 좋아요 이것만 쓰게 될것같아</td>\n",
       "    </tr>\n",
       "    <tr>\n",
       "      <th>90419</th>\n",
       "      <td>밀크터치 서양송악 진정크림+송악점보패드(60매)</td>\n",
       "      <td>5</td>\n",
       "      <td>None</td>\n",
       "      <td>배송도 빠르고 세일할 때 사야할거 같아서 샀어요송악크림 건성한테 정말 좋을거같아요</td>\n",
       "    </tr>\n",
       "    <tr>\n",
       "      <th>90420</th>\n",
       "      <td>밀크터치 서양송악 진정크림+송악점보패드(60매)</td>\n",
       "      <td>5</td>\n",
       "      <td>None</td>\n",
       "      <td>가벼운제형이고 끈적거리지 않아서 좋았어요 그리고 진정에도 좋습니다</td>\n",
       "    </tr>\n",
       "    <tr>\n",
       "      <th>90421</th>\n",
       "      <td>밀크터치 서양송악 진정크림+송악점보패드(60매)</td>\n",
       "      <td>5</td>\n",
       "      <td>None</td>\n",
       "      <td>처음에 써보는 제품인데 의외로 괜찮아요 보습과 진정효과가 좋습니다</td>\n",
       "    </tr>\n",
       "  </tbody>\n",
       "</table>\n",
       "<p>90422 rows × 4 columns</p>\n",
       "</div>"
      ],
      "text/plain": [
       "                                           product_name  rating skin_type  \\\n",
       "0      [증량]닥터지 레드 블레미쉬 클리어 수딩크림 기획 (본품70ml+30ml 추가 증정)        5       복합성   \n",
       "1      [증량]닥터지 레드 블레미쉬 클리어 수딩크림 기획 (본품70ml+30ml 추가 증정)        5       복합성   \n",
       "2      [증량]닥터지 레드 블레미쉬 클리어 수딩크림 기획 (본품70ml+30ml 추가 증정)        5       복합성   \n",
       "3      [증량]닥터지 레드 블레미쉬 클리어 수딩크림 기획 (본품70ml+30ml 추가 증정)        5        지성   \n",
       "4      [증량]닥터지 레드 블레미쉬 클리어 수딩크림 기획 (본품70ml+30ml 추가 증정)        5       복합성   \n",
       "...                                                 ...     ...       ...   \n",
       "90417                        밀크터치 서양송악 진정크림+송악점보패드(60매)       5      None   \n",
       "90418                        밀크터치 서양송악 진정크림+송악점보패드(60매)       5      None   \n",
       "90419                        밀크터치 서양송악 진정크림+송악점보패드(60매)       5      None   \n",
       "90420                        밀크터치 서양송악 진정크림+송악점보패드(60매)       5      None   \n",
       "90421                        밀크터치 서양송악 진정크림+송악점보패드(60매)       5      None   \n",
       "\n",
       "                                                  review  \n",
       "0      제품은 정말 사용해보시라고 추천드리고싶어요진짜 좋은 제품이거든요사춘기때 여드름 고민...  \n",
       "1      간단정리 자극없이 무난함 봄여름가을에 적당한 수분감 겨울엔 두겹 레이어링하면 쫀쫀 ...  \n",
       "2      나의 피부상태 복합성 트러블 조금만 자극적이면 피부 뒤집어짐 장점 여드름 짜거나 엄...  \n",
       "3      또 샀어요 진짜 닥터지 최고입니다 건성분들이 쓰시기에는 너무 빨리 날아가서 피부에 ...  \n",
       "4      닥터지 크림은 워낙 유명하기도 하고 성분이 순하고 진정효과가 좋아서 꾸준히 구매해왔...  \n",
       "...                                                  ...  \n",
       "90417                  최애 입니다이제 이것만 쓸거예요또사러 가야지 눈누난나 신난다  \n",
       "90418                 자극이 없고 일단은 너무 촉촉해서 좋아요 이것만 쓰게 될것같아  \n",
       "90419      배송도 빠르고 세일할 때 사야할거 같아서 샀어요송악크림 건성한테 정말 좋을거같아요  \n",
       "90420               가벼운제형이고 끈적거리지 않아서 좋았어요 그리고 진정에도 좋습니다  \n",
       "90421               처음에 써보는 제품인데 의외로 괜찮아요 보습과 진정효과가 좋습니다  \n",
       "\n",
       "[90422 rows x 4 columns]"
      ]
     },
     "execution_count": 5,
     "metadata": {},
     "output_type": "execute_result"
    }
   ],
   "source": [
    "data.drop(['review_token'], axis=1, inplace=True)\n",
    "data"
   ]
  },
  {
   "cell_type": "code",
   "execution_count": 6,
   "metadata": {},
   "outputs": [],
   "source": [
    "from konlpy.tag import Komoran \n",
    "komoran = Komoran(userdic='user_dic.txt')"
   ]
  },
  {
   "cell_type": "code",
   "execution_count": 9,
   "metadata": {},
   "outputs": [],
   "source": [
    "def get_token(tokenizer, sentence): \n",
    "\n",
    "    tagged = tokenizer.pos(sentence)\n",
    "    token = [word for word, pos in tagged if pos in ['NNG', 'NNP', 'VA', 'VV', 'MAG']] \n",
    "    return token"
   ]
  },
  {
   "cell_type": "code",
   "execution_count": 10,
   "metadata": {},
   "outputs": [
    {
     "name": "stderr",
     "output_type": "stream",
     "text": [
      "100%|███████████████████████████████████████████████████████████████████████████| 90422/90422 [03:26<00:00, 436.83it/s]\n"
     ]
    }
   ],
   "source": [
    "from tqdm import tqdm\n",
    "\n",
    "processed_reviews = []    \n",
    "for sent in tqdm(data['review']):    \n",
    "    processed_reviews.append(get_token(komoran, sent))"
   ]
  },
  {
   "cell_type": "code",
   "execution_count": 11,
   "metadata": {},
   "outputs": [
    {
     "data": {
      "text/html": [
       "<div>\n",
       "<style scoped>\n",
       "    .dataframe tbody tr th:only-of-type {\n",
       "        vertical-align: middle;\n",
       "    }\n",
       "\n",
       "    .dataframe tbody tr th {\n",
       "        vertical-align: top;\n",
       "    }\n",
       "\n",
       "    .dataframe thead th {\n",
       "        text-align: right;\n",
       "    }\n",
       "</style>\n",
       "<table border=\"1\" class=\"dataframe\">\n",
       "  <thead>\n",
       "    <tr style=\"text-align: right;\">\n",
       "      <th></th>\n",
       "      <th>product_name</th>\n",
       "      <th>rating</th>\n",
       "      <th>skin_type</th>\n",
       "      <th>review</th>\n",
       "      <th>review_elastic_token</th>\n",
       "    </tr>\n",
       "  </thead>\n",
       "  <tbody>\n",
       "    <tr>\n",
       "      <th>0</th>\n",
       "      <td>[증량]닥터지 레드 블레미쉬 클리어 수딩크림 기획 (본품70ml+30ml 추가 증정)</td>\n",
       "      <td>5</td>\n",
       "      <td>복합성</td>\n",
       "      <td>제품은 정말 사용해보시라고 추천드리고싶어요진짜 좋은 제품이거든요사춘기때 여드름 고민...</td>\n",
       "      <td>[제품, 정말, 사용, 추천, 드리, 진짜, 좋, 제품, 사춘기, 때, 여드름, 고...</td>\n",
       "    </tr>\n",
       "    <tr>\n",
       "      <th>1</th>\n",
       "      <td>[증량]닥터지 레드 블레미쉬 클리어 수딩크림 기획 (본품70ml+30ml 추가 증정)</td>\n",
       "      <td>5</td>\n",
       "      <td>복합성</td>\n",
       "      <td>간단정리 자극없이 무난함 봄여름가을에 적당한 수분감 겨울엔 두겹 레이어링하면 쫀쫀 ...</td>\n",
       "      <td>[정리, 자극, 없이, 봄여름, 가을, 수분, 감, 겨울, 겹, 레이어, 링, 좋,...</td>\n",
       "    </tr>\n",
       "    <tr>\n",
       "      <th>2</th>\n",
       "      <td>[증량]닥터지 레드 블레미쉬 클리어 수딩크림 기획 (본품70ml+30ml 추가 증정)</td>\n",
       "      <td>5</td>\n",
       "      <td>복합성</td>\n",
       "      <td>나의 피부상태 복합성 트러블 조금만 자극적이면 피부 뒤집어짐 장점 여드름 짜거나 엄...</td>\n",
       "      <td>[피부, 상태, 복합, 트러블, 조금, 자극, 피부, 뒤집, 장점, 여드름, 짜, ...</td>\n",
       "    </tr>\n",
       "    <tr>\n",
       "      <th>3</th>\n",
       "      <td>[증량]닥터지 레드 블레미쉬 클리어 수딩크림 기획 (본품70ml+30ml 추가 증정)</td>\n",
       "      <td>5</td>\n",
       "      <td>지성</td>\n",
       "      <td>또 샀어요 진짜 닥터지 최고입니다 건성분들이 쓰시기에는 너무 빨리 날아가서 피부에 ...</td>\n",
       "      <td>[사, 진짜, 닥터, 최고, 건성, 쓰, 너무, 빨리, 날아가, 피부, 남, 시간,...</td>\n",
       "    </tr>\n",
       "    <tr>\n",
       "      <th>4</th>\n",
       "      <td>[증량]닥터지 레드 블레미쉬 클리어 수딩크림 기획 (본품70ml+30ml 추가 증정)</td>\n",
       "      <td>5</td>\n",
       "      <td>복합성</td>\n",
       "      <td>닥터지 크림은 워낙 유명하기도 하고 성분이 순하고 진정효과가 좋아서 꾸준히 구매해왔...</td>\n",
       "      <td>[닥터, 크림, 워낙, 하, 성분, 순하, 진정, 효과, 좋아서, 꾸준히, 구매, ...</td>\n",
       "    </tr>\n",
       "    <tr>\n",
       "      <th>...</th>\n",
       "      <td>...</td>\n",
       "      <td>...</td>\n",
       "      <td>...</td>\n",
       "      <td>...</td>\n",
       "      <td>...</td>\n",
       "    </tr>\n",
       "    <tr>\n",
       "      <th>90417</th>\n",
       "      <td>밀크터치 서양송악 진정크림+송악점보패드(60매)</td>\n",
       "      <td>5</td>\n",
       "      <td>None</td>\n",
       "      <td>최애 입니다이제 이것만 쓸거예요또사러 가야지 눈누난나 신난다</td>\n",
       "      <td>[애, 입, 니다, 이제, 쓰, 예, 요, 러, 가, 눈, 누, 난나, 신나]</td>\n",
       "    </tr>\n",
       "    <tr>\n",
       "      <th>90418</th>\n",
       "      <td>밀크터치 서양송악 진정크림+송악점보패드(60매)</td>\n",
       "      <td>5</td>\n",
       "      <td>None</td>\n",
       "      <td>자극이 없고 일단은 너무 촉촉해서 좋아요 이것만 쓰게 될것같아</td>\n",
       "      <td>[자극, 없, 일단, 너무, 좋, 쓰, 되, 같]</td>\n",
       "    </tr>\n",
       "    <tr>\n",
       "      <th>90419</th>\n",
       "      <td>밀크터치 서양송악 진정크림+송악점보패드(60매)</td>\n",
       "      <td>5</td>\n",
       "      <td>None</td>\n",
       "      <td>배송도 빠르고 세일할 때 사야할거 같아서 샀어요송악크림 건성한테 정말 좋을거같아요</td>\n",
       "      <td>[배, 송도, 빠르, 세일, 때, 사, 같, 사, 요, 송악, 크림, 건성, 정말,...</td>\n",
       "    </tr>\n",
       "    <tr>\n",
       "      <th>90420</th>\n",
       "      <td>밀크터치 서양송악 진정크림+송악점보패드(60매)</td>\n",
       "      <td>5</td>\n",
       "      <td>None</td>\n",
       "      <td>가벼운제형이고 끈적거리지 않아서 좋았어요 그리고 진정에도 좋습니다</td>\n",
       "      <td>[가볍, 끈적거리, 좋, 진정, 좋]</td>\n",
       "    </tr>\n",
       "    <tr>\n",
       "      <th>90421</th>\n",
       "      <td>밀크터치 서양송악 진정크림+송악점보패드(60매)</td>\n",
       "      <td>5</td>\n",
       "      <td>None</td>\n",
       "      <td>처음에 써보는 제품인데 의외로 괜찮아요 보습과 진정효과가 좋습니다</td>\n",
       "      <td>[처음, 쓰, 제품, 의외로, 괜찮, 보습, 진정, 효과, 좋]</td>\n",
       "    </tr>\n",
       "  </tbody>\n",
       "</table>\n",
       "<p>90422 rows × 5 columns</p>\n",
       "</div>"
      ],
      "text/plain": [
       "                                           product_name  rating skin_type  \\\n",
       "0      [증량]닥터지 레드 블레미쉬 클리어 수딩크림 기획 (본품70ml+30ml 추가 증정)        5       복합성   \n",
       "1      [증량]닥터지 레드 블레미쉬 클리어 수딩크림 기획 (본품70ml+30ml 추가 증정)        5       복합성   \n",
       "2      [증량]닥터지 레드 블레미쉬 클리어 수딩크림 기획 (본품70ml+30ml 추가 증정)        5       복합성   \n",
       "3      [증량]닥터지 레드 블레미쉬 클리어 수딩크림 기획 (본품70ml+30ml 추가 증정)        5        지성   \n",
       "4      [증량]닥터지 레드 블레미쉬 클리어 수딩크림 기획 (본품70ml+30ml 추가 증정)        5       복합성   \n",
       "...                                                 ...     ...       ...   \n",
       "90417                        밀크터치 서양송악 진정크림+송악점보패드(60매)       5      None   \n",
       "90418                        밀크터치 서양송악 진정크림+송악점보패드(60매)       5      None   \n",
       "90419                        밀크터치 서양송악 진정크림+송악점보패드(60매)       5      None   \n",
       "90420                        밀크터치 서양송악 진정크림+송악점보패드(60매)       5      None   \n",
       "90421                        밀크터치 서양송악 진정크림+송악점보패드(60매)       5      None   \n",
       "\n",
       "                                                  review  \\\n",
       "0      제품은 정말 사용해보시라고 추천드리고싶어요진짜 좋은 제품이거든요사춘기때 여드름 고민...   \n",
       "1      간단정리 자극없이 무난함 봄여름가을에 적당한 수분감 겨울엔 두겹 레이어링하면 쫀쫀 ...   \n",
       "2      나의 피부상태 복합성 트러블 조금만 자극적이면 피부 뒤집어짐 장점 여드름 짜거나 엄...   \n",
       "3      또 샀어요 진짜 닥터지 최고입니다 건성분들이 쓰시기에는 너무 빨리 날아가서 피부에 ...   \n",
       "4      닥터지 크림은 워낙 유명하기도 하고 성분이 순하고 진정효과가 좋아서 꾸준히 구매해왔...   \n",
       "...                                                  ...   \n",
       "90417                  최애 입니다이제 이것만 쓸거예요또사러 가야지 눈누난나 신난다   \n",
       "90418                 자극이 없고 일단은 너무 촉촉해서 좋아요 이것만 쓰게 될것같아   \n",
       "90419      배송도 빠르고 세일할 때 사야할거 같아서 샀어요송악크림 건성한테 정말 좋을거같아요   \n",
       "90420               가벼운제형이고 끈적거리지 않아서 좋았어요 그리고 진정에도 좋습니다   \n",
       "90421               처음에 써보는 제품인데 의외로 괜찮아요 보습과 진정효과가 좋습니다   \n",
       "\n",
       "                                    review_elastic_token  \n",
       "0      [제품, 정말, 사용, 추천, 드리, 진짜, 좋, 제품, 사춘기, 때, 여드름, 고...  \n",
       "1      [정리, 자극, 없이, 봄여름, 가을, 수분, 감, 겨울, 겹, 레이어, 링, 좋,...  \n",
       "2      [피부, 상태, 복합, 트러블, 조금, 자극, 피부, 뒤집, 장점, 여드름, 짜, ...  \n",
       "3      [사, 진짜, 닥터, 최고, 건성, 쓰, 너무, 빨리, 날아가, 피부, 남, 시간,...  \n",
       "4      [닥터, 크림, 워낙, 하, 성분, 순하, 진정, 효과, 좋아서, 꾸준히, 구매, ...  \n",
       "...                                                  ...  \n",
       "90417        [애, 입, 니다, 이제, 쓰, 예, 요, 러, 가, 눈, 누, 난나, 신나]  \n",
       "90418                        [자극, 없, 일단, 너무, 좋, 쓰, 되, 같]  \n",
       "90419  [배, 송도, 빠르, 세일, 때, 사, 같, 사, 요, 송악, 크림, 건성, 정말,...  \n",
       "90420                               [가볍, 끈적거리, 좋, 진정, 좋]  \n",
       "90421                [처음, 쓰, 제품, 의외로, 괜찮, 보습, 진정, 효과, 좋]  \n",
       "\n",
       "[90422 rows x 5 columns]"
      ]
     },
     "execution_count": 11,
     "metadata": {},
     "output_type": "execute_result"
    }
   ],
   "source": [
    "data['review_elastic_token'] = processed_reviews\n",
    "data"
   ]
  },
  {
   "cell_type": "markdown",
   "metadata": {},
   "source": [
    "## SGD classifier with Elastic penalty"
   ]
  },
  {
   "cell_type": "code",
   "execution_count": 95,
   "metadata": {},
   "outputs": [],
   "source": [
    "dry_elastic_token = data[data['skin_type'] == '건성']['review_elastic_token']\n",
    "dry_elastic_rating = data[data['skin_type'] == '건성']['rating']\n",
    "dry_elastic_rating = dry_elastic_rating.values\n",
    "\n",
    "import gensim\n",
    "from gensim import models\n",
    "\n",
    "dictionary = gensim.corpora.Dictionary(dry_elastic_token)\n",
    "dictionary.filter_extremes(no_below=78) # combi 데이터 수 :7845\n",
    "bow_corpus = [dictionary.doc2bow(doc) for doc in dry_elastic_token]\n",
    "tfidf = models.TfidfModel(bow_corpus)\n",
    "corpus_tfidf = tfidf[bow_corpus]"
   ]
  },
  {
   "cell_type": "code",
   "execution_count": 96,
   "metadata": {},
   "outputs": [
    {
     "data": {
      "text/plain": [
       "708"
      ]
     },
     "execution_count": 96,
     "metadata": {},
     "output_type": "execute_result"
    }
   ],
   "source": [
    "len_dic = len(dictionary)\n",
    "len_dic"
   ]
  },
  {
   "cell_type": "code",
   "execution_count": 97,
   "metadata": {},
   "outputs": [
    {
     "data": {
      "text/plain": [
       "7845"
      ]
     },
     "execution_count": 97,
     "metadata": {},
     "output_type": "execute_result"
    }
   ],
   "source": [
    "data_size = len(corpus_tfidf)\n",
    "data_size"
   ]
  },
  {
   "cell_type": "code",
   "execution_count": 98,
   "metadata": {},
   "outputs": [],
   "source": [
    "feature_list = [[0]*len_dic for i in range(data_size)]"
   ]
  },
  {
   "cell_type": "code",
   "execution_count": 99,
   "metadata": {},
   "outputs": [],
   "source": [
    "for i in range(data_size):\n",
    "    for j in corpus_tfidf[i]:\n",
    "        feature_list[i][j[0]] = j[1]"
   ]
  },
  {
   "cell_type": "code",
   "execution_count": 111,
   "metadata": {},
   "outputs": [
    {
     "data": {
      "text/plain": [
       "array([5, 4, 5, ..., 5, 5, 5], dtype=int64)"
      ]
     },
     "execution_count": 111,
     "metadata": {},
     "output_type": "execute_result"
    }
   ],
   "source": [
    "dry_elastic_rating = data[data['skin_type'] == '건성']['rating']\n",
    "dry_elastic_rating = dry_elastic_rating.values\n",
    "dry_elastic_rating"
   ]
  },
  {
   "cell_type": "code",
   "execution_count": 112,
   "metadata": {},
   "outputs": [],
   "source": [
    "for i in range(len(dry_elastic_rating)):\n",
    "    if dry_elastic_rating[i] >= 4:\n",
    "        dry_elastic_rating[i] = 1\n",
    "    else:\n",
    "        dry_elastic_rating[i] = 0"
   ]
  },
  {
   "cell_type": "code",
   "execution_count": 113,
   "metadata": {},
   "outputs": [
    {
     "data": {
      "text/plain": [
       "array([1, 1, 1, ..., 1, 1, 1], dtype=int64)"
      ]
     },
     "execution_count": 113,
     "metadata": {},
     "output_type": "execute_result"
    }
   ],
   "source": [
    "dry_elastic_rating"
   ]
  },
  {
   "cell_type": "code",
   "execution_count": 114,
   "metadata": {},
   "outputs": [
    {
     "name": "stdout",
     "output_type": "stream",
     "text": [
      "accuracy: 0.954\n",
      "Config: {'alpha': 1e-05, 'eta0': 0.001, 'fit_intercept': True, 'l1_ratio': 0.1, 'learning_rate': 'constant', 'max_iter': 200, 'penalty': 'elasticnet', 'random_state': 1234}\n"
     ]
    }
   ],
   "source": [
    "from sklearn.model_selection import GridSearchCV, train_test_split\n",
    "from sklearn.linear_model import SGDClassifier\n",
    "from sklearn.metrics import r2_score\n",
    "\n",
    "\n",
    "rating = dry_elastic_rating\n",
    "elastic_x = feature_list\n",
    "\n",
    "X_train, X_test, y_train, y_test = train_test_split(elastic_x, rating, test_size=0.3, random_state = 1234, stratify = rating)\n",
    "\n",
    "\n",
    "# GridSearchCV의 param_grid 설정\n",
    "params = {\n",
    "    'penalty' : ['elasticnet'],\n",
    "    'alpha': [1e-5, 1e-4, 1e-3, 1e-2, 1e-1, 0.0, 1.0, 10.0, 100.0],\n",
    "    'l1_ratio': [ .1, .5, .7, .9, .95, .99, 1],\n",
    "    'fit_intercept' : [True],\n",
    "    'max_iter' : [200],\n",
    "    'random_state' : [1234],\n",
    "    'learning_rate' : ['constant'],\n",
    "    'eta0' : [0.001]\n",
    "}\n",
    "\n",
    "esn = SGDClassifier()\n",
    "\n",
    "elastic_model = GridSearchCV(esn, param_grid=params, scoring = 'accuracy', cv=10, refit=True)\n",
    "results = elastic_model.fit(X_train, y_train)\n",
    "\n",
    "#print('model.coef_.sum():',elastic_model.coef_.sum())\n",
    "#print('model.intercept_:',elastic_model.intercept_)\n",
    "#print('r2_score',r2_score(y_test, elastic_model.predict(X_test)))\n",
    "print('accuracy: %.3f' %results.best_score_)\n",
    "print('Config: %s' %results.best_params_)"
   ]
  },
  {
   "cell_type": "code",
   "execution_count": 115,
   "metadata": {},
   "outputs": [],
   "source": [
    "predict_rating = elastic_model.predict(X_test)\n",
    "dry_sgd_result_test = pd.DataFrame({'pred_rating' : predict_rating,\n",
    "                          'true_rating' : y_test})"
   ]
  },
  {
   "cell_type": "code",
   "execution_count": 118,
   "metadata": {},
   "outputs": [
    {
     "data": {
      "text/html": [
       "<div>\n",
       "<style scoped>\n",
       "    .dataframe tbody tr th:only-of-type {\n",
       "        vertical-align: middle;\n",
       "    }\n",
       "\n",
       "    .dataframe tbody tr th {\n",
       "        vertical-align: top;\n",
       "    }\n",
       "\n",
       "    .dataframe thead th {\n",
       "        text-align: right;\n",
       "    }\n",
       "</style>\n",
       "<table border=\"1\" class=\"dataframe\">\n",
       "  <thead>\n",
       "    <tr style=\"text-align: right;\">\n",
       "      <th></th>\n",
       "      <th>pred_rating</th>\n",
       "      <th>true_rating</th>\n",
       "    </tr>\n",
       "  </thead>\n",
       "  <tbody>\n",
       "    <tr>\n",
       "      <th>14</th>\n",
       "      <td>1</td>\n",
       "      <td>0</td>\n",
       "    </tr>\n",
       "    <tr>\n",
       "      <th>19</th>\n",
       "      <td>1</td>\n",
       "      <td>0</td>\n",
       "    </tr>\n",
       "    <tr>\n",
       "      <th>21</th>\n",
       "      <td>1</td>\n",
       "      <td>0</td>\n",
       "    </tr>\n",
       "    <tr>\n",
       "      <th>26</th>\n",
       "      <td>1</td>\n",
       "      <td>0</td>\n",
       "    </tr>\n",
       "    <tr>\n",
       "      <th>44</th>\n",
       "      <td>1</td>\n",
       "      <td>0</td>\n",
       "    </tr>\n",
       "    <tr>\n",
       "      <th>...</th>\n",
       "      <td>...</td>\n",
       "      <td>...</td>\n",
       "    </tr>\n",
       "    <tr>\n",
       "      <th>2274</th>\n",
       "      <td>1</td>\n",
       "      <td>0</td>\n",
       "    </tr>\n",
       "    <tr>\n",
       "      <th>2292</th>\n",
       "      <td>1</td>\n",
       "      <td>0</td>\n",
       "    </tr>\n",
       "    <tr>\n",
       "      <th>2298</th>\n",
       "      <td>1</td>\n",
       "      <td>0</td>\n",
       "    </tr>\n",
       "    <tr>\n",
       "      <th>2320</th>\n",
       "      <td>1</td>\n",
       "      <td>0</td>\n",
       "    </tr>\n",
       "    <tr>\n",
       "      <th>2347</th>\n",
       "      <td>1</td>\n",
       "      <td>0</td>\n",
       "    </tr>\n",
       "  </tbody>\n",
       "</table>\n",
       "<p>108 rows × 2 columns</p>\n",
       "</div>"
      ],
      "text/plain": [
       "      pred_rating  true_rating\n",
       "14              1            0\n",
       "19              1            0\n",
       "21              1            0\n",
       "26              1            0\n",
       "44              1            0\n",
       "...           ...          ...\n",
       "2274            1            0\n",
       "2292            1            0\n",
       "2298            1            0\n",
       "2320            1            0\n",
       "2347            1            0\n",
       "\n",
       "[108 rows x 2 columns]"
      ]
     },
     "execution_count": 118,
     "metadata": {},
     "output_type": "execute_result"
    }
   ],
   "source": [
    "dry_sgd_result_test[dry_sgd_result_test['true_rating']==0]"
   ]
  },
  {
   "cell_type": "code",
   "execution_count": 119,
   "metadata": {},
   "outputs": [
    {
     "data": {
      "text/plain": [
       "1    2246\n",
       "0     108\n",
       "Name: true_rating, dtype: int64"
      ]
     },
     "execution_count": 119,
     "metadata": {},
     "output_type": "execute_result"
    }
   ],
   "source": [
    "dry_sgd_result_test['true_rating'].value_counts()"
   ]
  },
  {
   "cell_type": "code",
   "execution_count": null,
   "metadata": {},
   "outputs": [],
   "source": []
  }
 ],
 "metadata": {
  "kernelspec": {
   "display_name": "Python 3 (ipykernel)",
   "language": "python",
   "name": "python3"
  },
  "language_info": {
   "codemirror_mode": {
    "name": "ipython",
    "version": 3
   },
   "file_extension": ".py",
   "mimetype": "text/x-python",
   "name": "python",
   "nbconvert_exporter": "python",
   "pygments_lexer": "ipython3",
   "version": "3.8.5"
  }
 },
 "nbformat": 4,
 "nbformat_minor": 4
}
